{
 "cells": [
  {
   "cell_type": "markdown",
   "metadata": {},
   "source": [
    "📝<sup>Este archivo va sin tildes para prevenir posible errores o alertas en la ejecucion</sup>"
   ]
  },
  {
   "cell_type": "code",
   "execution_count": 1,
   "metadata": {},
   "outputs": [
    {
     "name": "stderr",
     "output_type": "stream",
     "text": [
      "/usr/lib/python3/dist-packages/scipy/__init__.py:146: UserWarning: A NumPy version >=1.17.3 and <1.25.0 is required for this version of SciPy (detected version 1.25.2\n",
      "  warnings.warn(f\"A NumPy version >={np_minversion} and <{np_maxversion}\"\n"
     ]
    }
   ],
   "source": [
    "import pandas as pd\n",
    "import datetime\n",
    "import seaborn as sns\n",
    "import matplotlib.pyplot as plt\n",
    "import numpy as np\n",
    "import warnings\n",
    "warnings.filterwarnings('ignore')\n",
    "\n",
    "from functions import prettyColumNames"
   ]
  },
  {
   "cell_type": "markdown",
   "metadata": {},
   "source": [
    "Configuramos pandas para que muestre todas las columnas en salidas tales como .head()"
   ]
  },
  {
   "cell_type": "code",
   "execution_count": 2,
   "metadata": {},
   "outputs": [],
   "source": [
    "pd.options.display.max_columns = None"
   ]
  },
  {
   "cell_type": "markdown",
   "metadata": {},
   "source": [
    "## Extración de los datos"
   ]
  },
  {
   "cell_type": "code",
   "execution_count": 3,
   "metadata": {},
   "outputs": [],
   "source": [
    "dfHechos = pd.read_excel('../datasource/homicidios.xlsx', sheet_name = 'HECHOS', engine = 'openpyxl')\n",
    "dfVictimas = pd.read_excel('../datasource/homicidios.xlsx', sheet_name = 'VICTIMAS', engine = 'openpyxl')"
   ]
  },
  {
   "cell_type": "markdown",
   "metadata": {},
   "source": [
    "## Transformación"
   ]
  },
  {
   "cell_type": "markdown",
   "metadata": {},
   "source": [
    "### Descripcion General"
   ]
  },
  {
   "cell_type": "code",
   "execution_count": 4,
   "metadata": {},
   "outputs": [
    {
     "name": "stdout",
     "output_type": "stream",
     "text": [
      "<class 'pandas.core.frame.DataFrame'>\n",
      "RangeIndex: 696 entries, 0 to 695\n",
      "Data columns (total 21 columns):\n",
      " #   Column                 Non-Null Count  Dtype         \n",
      "---  ------                 --------------  -----         \n",
      " 0   ID                     696 non-null    object        \n",
      " 1   N_VICTIMAS             696 non-null    int64         \n",
      " 2   FECHA                  696 non-null    datetime64[ns]\n",
      " 3   AAAA                   696 non-null    int64         \n",
      " 4   MM                     696 non-null    int64         \n",
      " 5   DD                     696 non-null    int64         \n",
      " 6   HORA                   696 non-null    object        \n",
      " 7   HH                     696 non-null    object        \n",
      " 8   LUGAR_DEL_HECHO        696 non-null    object        \n",
      " 9   TIPO_DE_CALLE          696 non-null    object        \n",
      " 10  Calle                  695 non-null    object        \n",
      " 11  Altura                 129 non-null    float64       \n",
      " 12  Cruce                  525 non-null    object        \n",
      " 13  Dirección Normalizada  688 non-null    object        \n",
      " 14  COMUNA                 696 non-null    int64         \n",
      " 15  XY (CABA)              696 non-null    object        \n",
      " 16  pos x                  696 non-null    object        \n",
      " 17  pos y                  696 non-null    object        \n",
      " 18  PARTICIPANTES          696 non-null    object        \n",
      " 19  VICTIMA                696 non-null    object        \n",
      " 20  ACUSADO                696 non-null    object        \n",
      "dtypes: datetime64[ns](1), float64(1), int64(5), object(14)\n",
      "memory usage: 114.3+ KB\n"
     ]
    }
   ],
   "source": [
    "dfHechos.info()"
   ]
  },
  {
   "cell_type": "code",
   "execution_count": 5,
   "metadata": {},
   "outputs": [
    {
     "data": {
      "text/html": [
       "<div>\n",
       "<style scoped>\n",
       "    .dataframe tbody tr th:only-of-type {\n",
       "        vertical-align: middle;\n",
       "    }\n",
       "\n",
       "    .dataframe tbody tr th {\n",
       "        vertical-align: top;\n",
       "    }\n",
       "\n",
       "    .dataframe thead th {\n",
       "        text-align: right;\n",
       "    }\n",
       "</style>\n",
       "<table border=\"1\" class=\"dataframe\">\n",
       "  <thead>\n",
       "    <tr style=\"text-align: right;\">\n",
       "      <th></th>\n",
       "      <th>ID</th>\n",
       "      <th>N_VICTIMAS</th>\n",
       "      <th>FECHA</th>\n",
       "      <th>AAAA</th>\n",
       "      <th>MM</th>\n",
       "      <th>DD</th>\n",
       "      <th>HORA</th>\n",
       "      <th>HH</th>\n",
       "      <th>LUGAR_DEL_HECHO</th>\n",
       "      <th>TIPO_DE_CALLE</th>\n",
       "      <th>Calle</th>\n",
       "      <th>Altura</th>\n",
       "      <th>Cruce</th>\n",
       "      <th>Dirección Normalizada</th>\n",
       "      <th>COMUNA</th>\n",
       "      <th>XY (CABA)</th>\n",
       "      <th>pos x</th>\n",
       "      <th>pos y</th>\n",
       "      <th>PARTICIPANTES</th>\n",
       "      <th>VICTIMA</th>\n",
       "      <th>ACUSADO</th>\n",
       "    </tr>\n",
       "  </thead>\n",
       "  <tbody>\n",
       "    <tr>\n",
       "      <th>0</th>\n",
       "      <td>2016-0001</td>\n",
       "      <td>1</td>\n",
       "      <td>2016-01-01</td>\n",
       "      <td>2016</td>\n",
       "      <td>1</td>\n",
       "      <td>1</td>\n",
       "      <td>04:00:00</td>\n",
       "      <td>4</td>\n",
       "      <td>AV PIEDRA BUENA Y AV FERNANDEZ DE LA CRUZ</td>\n",
       "      <td>AVENIDA</td>\n",
       "      <td>PIEDRA BUENA AV.</td>\n",
       "      <td>NaN</td>\n",
       "      <td>FERNANDEZ DE LA CRUZ, F., GRAL. AV.</td>\n",
       "      <td>PIEDRA BUENA AV. y FERNANDEZ DE LA CRUZ, F., G...</td>\n",
       "      <td>8</td>\n",
       "      <td>Point (98896.78238426 93532.43437792)</td>\n",
       "      <td>-58.47533969</td>\n",
       "      <td>-34.68757022</td>\n",
       "      <td>MOTO-AUTO</td>\n",
       "      <td>MOTO</td>\n",
       "      <td>AUTO</td>\n",
       "    </tr>\n",
       "    <tr>\n",
       "      <th>1</th>\n",
       "      <td>2016-0002</td>\n",
       "      <td>1</td>\n",
       "      <td>2016-01-02</td>\n",
       "      <td>2016</td>\n",
       "      <td>1</td>\n",
       "      <td>2</td>\n",
       "      <td>01:15:00</td>\n",
       "      <td>1</td>\n",
       "      <td>AV GRAL PAZ  Y AV DE LOS CORRALES</td>\n",
       "      <td>GRAL PAZ</td>\n",
       "      <td>PAZ, GRAL. AV.</td>\n",
       "      <td>NaN</td>\n",
       "      <td>DE LOS CORRALES AV.</td>\n",
       "      <td>PAZ, GRAL. AV. y DE LOS CORRALES AV.</td>\n",
       "      <td>9</td>\n",
       "      <td>Point (95832.05571093 95505.41641999)</td>\n",
       "      <td>-58.50877521</td>\n",
       "      <td>-34.66977709</td>\n",
       "      <td>AUTO-PASAJEROS</td>\n",
       "      <td>AUTO</td>\n",
       "      <td>PASAJEROS</td>\n",
       "    </tr>\n",
       "    <tr>\n",
       "      <th>2</th>\n",
       "      <td>2016-0003</td>\n",
       "      <td>1</td>\n",
       "      <td>2016-01-03</td>\n",
       "      <td>2016</td>\n",
       "      <td>1</td>\n",
       "      <td>3</td>\n",
       "      <td>07:00:00</td>\n",
       "      <td>7</td>\n",
       "      <td>AV ENTRE RIOS 2034</td>\n",
       "      <td>AVENIDA</td>\n",
       "      <td>ENTRE RIOS AV.</td>\n",
       "      <td>2034.0</td>\n",
       "      <td>NaN</td>\n",
       "      <td>ENTRE RIOS AV. 2034</td>\n",
       "      <td>1</td>\n",
       "      <td>Point (106684.29090040 99706.57687843)</td>\n",
       "      <td>-58.39040293</td>\n",
       "      <td>-34.63189362</td>\n",
       "      <td>MOTO-AUTO</td>\n",
       "      <td>MOTO</td>\n",
       "      <td>AUTO</td>\n",
       "    </tr>\n",
       "    <tr>\n",
       "      <th>3</th>\n",
       "      <td>2016-0004</td>\n",
       "      <td>1</td>\n",
       "      <td>2016-01-10</td>\n",
       "      <td>2016</td>\n",
       "      <td>1</td>\n",
       "      <td>10</td>\n",
       "      <td>00:00:00</td>\n",
       "      <td>0</td>\n",
       "      <td>AV LARRAZABAL Y GRAL VILLEGAS CONRADO</td>\n",
       "      <td>AVENIDA</td>\n",
       "      <td>LARRAZABAL AV.</td>\n",
       "      <td>NaN</td>\n",
       "      <td>VILLEGAS, CONRADO, GRAL.</td>\n",
       "      <td>LARRAZABAL AV. y VILLEGAS, CONRADO, GRAL.</td>\n",
       "      <td>8</td>\n",
       "      <td>Point (99840.65224780 94269.16534422)</td>\n",
       "      <td>-58.46503904</td>\n",
       "      <td>-34.68092974</td>\n",
       "      <td>MOTO-SD</td>\n",
       "      <td>MOTO</td>\n",
       "      <td>SD</td>\n",
       "    </tr>\n",
       "    <tr>\n",
       "      <th>4</th>\n",
       "      <td>2016-0005</td>\n",
       "      <td>1</td>\n",
       "      <td>2016-01-21</td>\n",
       "      <td>2016</td>\n",
       "      <td>1</td>\n",
       "      <td>21</td>\n",
       "      <td>05:20:00</td>\n",
       "      <td>5</td>\n",
       "      <td>AV SAN JUAN Y PRESIDENTE LUIS SAENZ PEÑA</td>\n",
       "      <td>AVENIDA</td>\n",
       "      <td>SAN JUAN AV.</td>\n",
       "      <td>NaN</td>\n",
       "      <td>SAENZ PE?A, LUIS, PRES.</td>\n",
       "      <td>SAN JUAN AV. y SAENZ PEÃ‘A, LUIS, PRES.</td>\n",
       "      <td>1</td>\n",
       "      <td>Point (106980.32827929 100752.16915795)</td>\n",
       "      <td>-58.38718297</td>\n",
       "      <td>-34.62246630</td>\n",
       "      <td>MOTO-PASAJEROS</td>\n",
       "      <td>MOTO</td>\n",
       "      <td>PASAJEROS</td>\n",
       "    </tr>\n",
       "  </tbody>\n",
       "</table>\n",
       "</div>"
      ],
      "text/plain": [
       "          ID  N_VICTIMAS      FECHA  AAAA  MM  DD      HORA HH  \\\n",
       "0  2016-0001           1 2016-01-01  2016   1   1  04:00:00  4   \n",
       "1  2016-0002           1 2016-01-02  2016   1   2  01:15:00  1   \n",
       "2  2016-0003           1 2016-01-03  2016   1   3  07:00:00  7   \n",
       "3  2016-0004           1 2016-01-10  2016   1  10  00:00:00  0   \n",
       "4  2016-0005           1 2016-01-21  2016   1  21  05:20:00  5   \n",
       "\n",
       "                             LUGAR_DEL_HECHO TIPO_DE_CALLE             Calle  \\\n",
       "0  AV PIEDRA BUENA Y AV FERNANDEZ DE LA CRUZ       AVENIDA  PIEDRA BUENA AV.   \n",
       "1          AV GRAL PAZ  Y AV DE LOS CORRALES      GRAL PAZ    PAZ, GRAL. AV.   \n",
       "2                         AV ENTRE RIOS 2034       AVENIDA    ENTRE RIOS AV.   \n",
       "3      AV LARRAZABAL Y GRAL VILLEGAS CONRADO       AVENIDA    LARRAZABAL AV.   \n",
       "4  AV SAN JUAN Y PRESIDENTE LUIS SAENZ PEÑA        AVENIDA      SAN JUAN AV.   \n",
       "\n",
       "   Altura                                Cruce  \\\n",
       "0     NaN  FERNANDEZ DE LA CRUZ, F., GRAL. AV.   \n",
       "1     NaN                  DE LOS CORRALES AV.   \n",
       "2  2034.0                                  NaN   \n",
       "3     NaN             VILLEGAS, CONRADO, GRAL.   \n",
       "4     NaN              SAENZ PE?A, LUIS, PRES.   \n",
       "\n",
       "                               Dirección Normalizada  COMUNA  \\\n",
       "0  PIEDRA BUENA AV. y FERNANDEZ DE LA CRUZ, F., G...       8   \n",
       "1               PAZ, GRAL. AV. y DE LOS CORRALES AV.       9   \n",
       "2                                ENTRE RIOS AV. 2034       1   \n",
       "3          LARRAZABAL AV. y VILLEGAS, CONRADO, GRAL.       8   \n",
       "4            SAN JUAN AV. y SAENZ PEÃ‘A, LUIS, PRES.       1   \n",
       "\n",
       "                                 XY (CABA)         pos x         pos y  \\\n",
       "0    Point (98896.78238426 93532.43437792)  -58.47533969  -34.68757022   \n",
       "1    Point (95832.05571093 95505.41641999)  -58.50877521  -34.66977709   \n",
       "2   Point (106684.29090040 99706.57687843)  -58.39040293  -34.63189362   \n",
       "3    Point (99840.65224780 94269.16534422)  -58.46503904  -34.68092974   \n",
       "4  Point (106980.32827929 100752.16915795)  -58.38718297  -34.62246630   \n",
       "\n",
       "    PARTICIPANTES VICTIMA    ACUSADO  \n",
       "0       MOTO-AUTO    MOTO       AUTO  \n",
       "1  AUTO-PASAJEROS    AUTO  PASAJEROS  \n",
       "2       MOTO-AUTO    MOTO       AUTO  \n",
       "3         MOTO-SD    MOTO         SD  \n",
       "4  MOTO-PASAJEROS    MOTO  PASAJEROS  "
      ]
     },
     "execution_count": 5,
     "metadata": {},
     "output_type": "execute_result"
    }
   ],
   "source": [
    "dfHechos.head()"
   ]
  },
  {
   "cell_type": "code",
   "execution_count": 6,
   "metadata": {},
   "outputs": [
    {
     "data": {
      "text/plain": [
       "ID                         0\n",
       "N_VICTIMAS                 0\n",
       "FECHA                      0\n",
       "AAAA                       0\n",
       "MM                         0\n",
       "DD                         0\n",
       "HORA                       0\n",
       "HH                         0\n",
       "LUGAR_DEL_HECHO            0\n",
       "TIPO_DE_CALLE              0\n",
       "Calle                      1\n",
       "Altura                   567\n",
       "Cruce                    171\n",
       "Dirección Normalizada      8\n",
       "COMUNA                     0\n",
       "XY (CABA)                  0\n",
       "pos x                      0\n",
       "pos y                      0\n",
       "PARTICIPANTES              0\n",
       "VICTIMA                    0\n",
       "ACUSADO                    0\n",
       "dtype: int64"
      ]
     },
     "execution_count": 6,
     "metadata": {},
     "output_type": "execute_result"
    }
   ],
   "source": [
    "dfHechos.isnull().sum()"
   ]
  },
  {
   "cell_type": "markdown",
   "metadata": {},
   "source": [
    "Cambiaremos todos los valores \"SD\" (Sin datos) en dfHechos a NaN. Con este cambio ayudaremos a las funciones de pandas a identificar valores faltantes (NaN)."
   ]
  },
  {
   "cell_type": "code",
   "execution_count": 7,
   "metadata": {},
   "outputs": [
    {
     "name": "stdout",
     "output_type": "stream",
     "text": [
      "columnas que contienen valores \"SD\":\n",
      " ['HORA', 'HH', 'LUGAR_DEL_HECHO', 'VICTIMA', 'ACUSADO']\n"
     ]
    }
   ],
   "source": [
    "# Buscar los valores 'SD' en todas las columnas del dataframe\n",
    "resultados = dfHechos.apply(lambda x: x.map(lambda y: y == 'SD' or y == 'sd')).any()\n",
    "\n",
    "# Filtrar las columnas que contienen valores 'SD'\n",
    "columnasConSd = resultados[resultados].index.tolist()\n",
    "\n",
    "# Imprimir las columnas que contienen valores 'SD'\n",
    "print('columnas que contienen valores \"SD\":\\n', columnasConSd)"
   ]
  },
  {
   "cell_type": "code",
   "execution_count": 8,
   "metadata": {},
   "outputs": [],
   "source": [
    "dfHechos.replace(['SD','sd'], pd.NA, inplace = True)"
   ]
  },
  {
   "cell_type": "markdown",
   "metadata": {},
   "source": [
    "#### Resumen"
   ]
  },
  {
   "cell_type": "markdown",
   "metadata": {},
   "source": [
    "En un prime vistazo podemos resumir que:\n",
    "  - Es un dataset de apenas 696 filas. Aunque es una buena practica, no es crucial hacer todo lo posible para ahorrar recursos de memoria. \n",
    "  - La gran mayoria de las columnas no contienen valores nulos.\n",
    "  - La columna 'Calle' apenas tiene un valor nulo. Profundizaremos en la busqueda de un valor para este registro.\n",
    "  - Las columnas 'Atura' y 'Cruce' tienen muchos valores nulos. Son candidatas a no ser tomadas en cuenta para analisis posteriores (EDA)\n",
    "  - La columna 'Direccion Normalizada' tiene pocos datos nulos. Profundizaremos en la busqueda de un valor para este registro.\n",
    "  - La nombres de las columnas no son consistentes, unos en minusculas, otros en mayusculas, algunas palabras han sido separada con guion bajo.\n",
    "  - Hay valores 'SD' que según el diccionario significa 'sin dato' lo que impide contarlos como datos nulos (faltante).\n",
    "  - La columna 'HH' deberia ser de tipo entero."
   ]
  },
  {
   "cell_type": "markdown",
   "metadata": {},
   "source": [
    "Investigaremos la composicion de los datos en dos secciones distintas, la primera investigacion la haremos sobre el dataframe dfHechos y en la segunda etapa nos concentraremos en el dataframe dfVictimas."
   ]
  },
  {
   "cell_type": "markdown",
   "metadata": {},
   "source": [
    "### Hechos"
   ]
  },
  {
   "cell_type": "markdown",
   "metadata": {},
   "source": [
    "Investigación de composicion del dataframe __dfHechos__.<br>\n",
    "Vamos a visualizar como estan agrupados los datos, ver sus tipos, cuantos son, nombres de columnas. A partir de esta<br> primera observacion podremos tomar algunas decisiones de accion."
   ]
  },
  {
   "cell_type": "code",
   "execution_count": 9,
   "metadata": {},
   "outputs": [
    {
     "name": "stdout",
     "output_type": "stream",
     "text": [
      "<class 'pandas.core.frame.DataFrame'>\n",
      "RangeIndex: 696 entries, 0 to 695\n",
      "Data columns (total 21 columns):\n",
      " #   Column                 Non-Null Count  Dtype         \n",
      "---  ------                 --------------  -----         \n",
      " 0   ID                     696 non-null    object        \n",
      " 1   N_VICTIMAS             696 non-null    int64         \n",
      " 2   FECHA                  696 non-null    datetime64[ns]\n",
      " 3   AAAA                   696 non-null    int64         \n",
      " 4   MM                     696 non-null    int64         \n",
      " 5   DD                     696 non-null    int64         \n",
      " 6   HORA                   695 non-null    object        \n",
      " 7   HH                     695 non-null    object        \n",
      " 8   LUGAR_DEL_HECHO        695 non-null    object        \n",
      " 9   TIPO_DE_CALLE          696 non-null    object        \n",
      " 10  Calle                  695 non-null    object        \n",
      " 11  Altura                 129 non-null    float64       \n",
      " 12  Cruce                  525 non-null    object        \n",
      " 13  Dirección Normalizada  688 non-null    object        \n",
      " 14  COMUNA                 696 non-null    int64         \n",
      " 15  XY (CABA)              696 non-null    object        \n",
      " 16  pos x                  696 non-null    object        \n",
      " 17  pos y                  696 non-null    object        \n",
      " 18  PARTICIPANTES          696 non-null    object        \n",
      " 19  VICTIMA                687 non-null    object        \n",
      " 20  ACUSADO                673 non-null    object        \n",
      "dtypes: datetime64[ns](1), float64(1), int64(5), object(14)\n",
      "memory usage: 114.3+ KB\n"
     ]
    }
   ],
   "source": [
    "dfHechos.info()"
   ]
  },
  {
   "cell_type": "markdown",
   "metadata": {},
   "source": [
    "Como buena practica, unificaremos el criterio para nombrar las columnas. Decidimos que deben estar en mayusculas y las palabras mejor que esten separadas por un guion bajo"
   ]
  },
  {
   "cell_type": "code",
   "execution_count": 10,
   "metadata": {},
   "outputs": [
    {
     "data": {
      "text/plain": [
       "Index(['ID', 'N_VICTIMAS', 'FECHA', 'AAAA', 'MM', 'DD', 'HORA', 'HH',\n",
       "       'LUGAR_DEL_HECHO', 'TIPO_DE_CALLE', 'CALLE', 'ALTURA', 'CRUCE',\n",
       "       'DIRECCIÓN_NORMALIZADA', 'COMUNA', 'XY_(CABA)', 'POS_X', 'POS_Y',\n",
       "       'PARTICIPANTES', 'VICTIMA', 'ACUSADO'],\n",
       "      dtype='object')"
      ]
     },
     "execution_count": 10,
     "metadata": {},
     "output_type": "execute_result"
    }
   ],
   "source": [
    "prettyColumNames(dfHechos)"
   ]
  },
  {
   "cell_type": "markdown",
   "metadata": {},
   "source": [
    "Para prevenir incompatibilidad con otros entornos, frameworks, lenguajes, etc, quitaremos las tildes el los titulos de columnas."
   ]
  },
  {
   "cell_type": "code",
   "execution_count": 11,
   "metadata": {},
   "outputs": [],
   "source": [
    "dfHechos.rename(columns = {'DIRECCIÓN_NORMALIZADA': 'DIRECCION_NORMALIZADA'}, inplace = True)"
   ]
  },
  {
   "cell_type": "markdown",
   "metadata": {},
   "source": [
    "¿Los IDs se repiten?"
   ]
  },
  {
   "cell_type": "code",
   "execution_count": 12,
   "metadata": {},
   "outputs": [
    {
     "name": "stdout",
     "output_type": "stream",
     "text": [
      "No hay IDs repetidos\n"
     ]
    }
   ],
   "source": [
    "if dfHechos['ID'].nunique() == dfHechos.shape[0]: \n",
    "  print('No hay IDs repetidos')\n",
    "else:\n",
    "  print(f'Hay {dfHechos.shape[0] - dfHechos[\"ID\"].nunique()} IDs repetidos')"
   ]
  },
  {
   "cell_type": "markdown",
   "metadata": {},
   "source": [
    "#### Veamos las columnas __NO NUMERICAS__"
   ]
  },
  {
   "cell_type": "code",
   "execution_count": 13,
   "metadata": {},
   "outputs": [
    {
     "data": {
      "text/html": [
       "<div>\n",
       "<style scoped>\n",
       "    .dataframe tbody tr th:only-of-type {\n",
       "        vertical-align: middle;\n",
       "    }\n",
       "\n",
       "    .dataframe tbody tr th {\n",
       "        vertical-align: top;\n",
       "    }\n",
       "\n",
       "    .dataframe thead th {\n",
       "        text-align: right;\n",
       "    }\n",
       "</style>\n",
       "<table border=\"1\" class=\"dataframe\">\n",
       "  <thead>\n",
       "    <tr style=\"text-align: right;\">\n",
       "      <th></th>\n",
       "      <th>ID</th>\n",
       "      <th>FECHA</th>\n",
       "      <th>HORA</th>\n",
       "      <th>HH</th>\n",
       "      <th>LUGAR_DEL_HECHO</th>\n",
       "      <th>TIPO_DE_CALLE</th>\n",
       "      <th>CALLE</th>\n",
       "      <th>CRUCE</th>\n",
       "      <th>DIRECCION_NORMALIZADA</th>\n",
       "      <th>XY_(CABA)</th>\n",
       "      <th>POS_X</th>\n",
       "      <th>POS_Y</th>\n",
       "      <th>PARTICIPANTES</th>\n",
       "      <th>VICTIMA</th>\n",
       "      <th>ACUSADO</th>\n",
       "    </tr>\n",
       "  </thead>\n",
       "  <tbody>\n",
       "    <tr>\n",
       "      <th>count</th>\n",
       "      <td>696</td>\n",
       "      <td>696</td>\n",
       "      <td>695</td>\n",
       "      <td>695.0</td>\n",
       "      <td>695</td>\n",
       "      <td>696</td>\n",
       "      <td>695</td>\n",
       "      <td>525</td>\n",
       "      <td>688</td>\n",
       "      <td>696</td>\n",
       "      <td>696</td>\n",
       "      <td>696</td>\n",
       "      <td>696</td>\n",
       "      <td>687</td>\n",
       "      <td>673</td>\n",
       "    </tr>\n",
       "    <tr>\n",
       "      <th>unique</th>\n",
       "      <td>696</td>\n",
       "      <td>NaN</td>\n",
       "      <td>374</td>\n",
       "      <td>24.0</td>\n",
       "      <td>682</td>\n",
       "      <td>4</td>\n",
       "      <td>279</td>\n",
       "      <td>317</td>\n",
       "      <td>635</td>\n",
       "      <td>606</td>\n",
       "      <td>605</td>\n",
       "      <td>605</td>\n",
       "      <td>41</td>\n",
       "      <td>9</td>\n",
       "      <td>9</td>\n",
       "    </tr>\n",
       "    <tr>\n",
       "      <th>top</th>\n",
       "      <td>2016-0001</td>\n",
       "      <td>NaN</td>\n",
       "      <td>16:00:00</td>\n",
       "      <td>7.0</td>\n",
       "      <td>AV 27 DE FEBRERO Y AV ESCALADA</td>\n",
       "      <td>AVENIDA</td>\n",
       "      <td>PAZ, GRAL. AV.</td>\n",
       "      <td>PAZ, GRAL. AV.</td>\n",
       "      <td>27 DE FEBRERO AV. y ESCALADA AV.</td>\n",
       "      <td>Point (. .)</td>\n",
       "      <td>.</td>\n",
       "      <td>.</td>\n",
       "      <td>PEATON-PASAJEROS</td>\n",
       "      <td>MOTO</td>\n",
       "      <td>AUTO</td>\n",
       "    </tr>\n",
       "    <tr>\n",
       "      <th>freq</th>\n",
       "      <td>1</td>\n",
       "      <td>NaN</td>\n",
       "      <td>10</td>\n",
       "      <td>41.0</td>\n",
       "      <td>4</td>\n",
       "      <td>429</td>\n",
       "      <td>57</td>\n",
       "      <td>14</td>\n",
       "      <td>5</td>\n",
       "      <td>14</td>\n",
       "      <td>12</td>\n",
       "      <td>12</td>\n",
       "      <td>105</td>\n",
       "      <td>295</td>\n",
       "      <td>204</td>\n",
       "    </tr>\n",
       "    <tr>\n",
       "      <th>mean</th>\n",
       "      <td>NaN</td>\n",
       "      <td>2018-09-14 05:12:24.827586048</td>\n",
       "      <td>NaN</td>\n",
       "      <td>NaN</td>\n",
       "      <td>NaN</td>\n",
       "      <td>NaN</td>\n",
       "      <td>NaN</td>\n",
       "      <td>NaN</td>\n",
       "      <td>NaN</td>\n",
       "      <td>NaN</td>\n",
       "      <td>NaN</td>\n",
       "      <td>NaN</td>\n",
       "      <td>NaN</td>\n",
       "      <td>NaN</td>\n",
       "      <td>NaN</td>\n",
       "    </tr>\n",
       "    <tr>\n",
       "      <th>min</th>\n",
       "      <td>NaN</td>\n",
       "      <td>2016-01-01 00:00:00</td>\n",
       "      <td>NaN</td>\n",
       "      <td>NaN</td>\n",
       "      <td>NaN</td>\n",
       "      <td>NaN</td>\n",
       "      <td>NaN</td>\n",
       "      <td>NaN</td>\n",
       "      <td>NaN</td>\n",
       "      <td>NaN</td>\n",
       "      <td>NaN</td>\n",
       "      <td>NaN</td>\n",
       "      <td>NaN</td>\n",
       "      <td>NaN</td>\n",
       "      <td>NaN</td>\n",
       "    </tr>\n",
       "    <tr>\n",
       "      <th>25%</th>\n",
       "      <td>NaN</td>\n",
       "      <td>2017-04-02 12:00:00</td>\n",
       "      <td>NaN</td>\n",
       "      <td>NaN</td>\n",
       "      <td>NaN</td>\n",
       "      <td>NaN</td>\n",
       "      <td>NaN</td>\n",
       "      <td>NaN</td>\n",
       "      <td>NaN</td>\n",
       "      <td>NaN</td>\n",
       "      <td>NaN</td>\n",
       "      <td>NaN</td>\n",
       "      <td>NaN</td>\n",
       "      <td>NaN</td>\n",
       "      <td>NaN</td>\n",
       "    </tr>\n",
       "    <tr>\n",
       "      <th>50%</th>\n",
       "      <td>NaN</td>\n",
       "      <td>2018-07-12 12:00:00</td>\n",
       "      <td>NaN</td>\n",
       "      <td>NaN</td>\n",
       "      <td>NaN</td>\n",
       "      <td>NaN</td>\n",
       "      <td>NaN</td>\n",
       "      <td>NaN</td>\n",
       "      <td>NaN</td>\n",
       "      <td>NaN</td>\n",
       "      <td>NaN</td>\n",
       "      <td>NaN</td>\n",
       "      <td>NaN</td>\n",
       "      <td>NaN</td>\n",
       "      <td>NaN</td>\n",
       "    </tr>\n",
       "    <tr>\n",
       "      <th>75%</th>\n",
       "      <td>NaN</td>\n",
       "      <td>2020-01-04 06:00:00</td>\n",
       "      <td>NaN</td>\n",
       "      <td>NaN</td>\n",
       "      <td>NaN</td>\n",
       "      <td>NaN</td>\n",
       "      <td>NaN</td>\n",
       "      <td>NaN</td>\n",
       "      <td>NaN</td>\n",
       "      <td>NaN</td>\n",
       "      <td>NaN</td>\n",
       "      <td>NaN</td>\n",
       "      <td>NaN</td>\n",
       "      <td>NaN</td>\n",
       "      <td>NaN</td>\n",
       "    </tr>\n",
       "    <tr>\n",
       "      <th>max</th>\n",
       "      <td>NaN</td>\n",
       "      <td>2021-12-30 00:00:00</td>\n",
       "      <td>NaN</td>\n",
       "      <td>NaN</td>\n",
       "      <td>NaN</td>\n",
       "      <td>NaN</td>\n",
       "      <td>NaN</td>\n",
       "      <td>NaN</td>\n",
       "      <td>NaN</td>\n",
       "      <td>NaN</td>\n",
       "      <td>NaN</td>\n",
       "      <td>NaN</td>\n",
       "      <td>NaN</td>\n",
       "      <td>NaN</td>\n",
       "      <td>NaN</td>\n",
       "    </tr>\n",
       "  </tbody>\n",
       "</table>\n",
       "</div>"
      ],
      "text/plain": [
       "               ID                          FECHA      HORA     HH  \\\n",
       "count         696                            696       695  695.0   \n",
       "unique        696                            NaN       374   24.0   \n",
       "top     2016-0001                            NaN  16:00:00    7.0   \n",
       "freq            1                            NaN        10   41.0   \n",
       "mean          NaN  2018-09-14 05:12:24.827586048       NaN    NaN   \n",
       "min           NaN            2016-01-01 00:00:00       NaN    NaN   \n",
       "25%           NaN            2017-04-02 12:00:00       NaN    NaN   \n",
       "50%           NaN            2018-07-12 12:00:00       NaN    NaN   \n",
       "75%           NaN            2020-01-04 06:00:00       NaN    NaN   \n",
       "max           NaN            2021-12-30 00:00:00       NaN    NaN   \n",
       "\n",
       "                       LUGAR_DEL_HECHO TIPO_DE_CALLE           CALLE  \\\n",
       "count                              695           696             695   \n",
       "unique                             682             4             279   \n",
       "top     AV 27 DE FEBRERO Y AV ESCALADA       AVENIDA  PAZ, GRAL. AV.   \n",
       "freq                                 4           429              57   \n",
       "mean                               NaN           NaN             NaN   \n",
       "min                                NaN           NaN             NaN   \n",
       "25%                                NaN           NaN             NaN   \n",
       "50%                                NaN           NaN             NaN   \n",
       "75%                                NaN           NaN             NaN   \n",
       "max                                NaN           NaN             NaN   \n",
       "\n",
       "                 CRUCE             DIRECCION_NORMALIZADA    XY_(CABA) POS_X  \\\n",
       "count              525                               688          696   696   \n",
       "unique             317                               635          606   605   \n",
       "top     PAZ, GRAL. AV.  27 DE FEBRERO AV. y ESCALADA AV.  Point (. .)     .   \n",
       "freq                14                                 5           14    12   \n",
       "mean               NaN                               NaN          NaN   NaN   \n",
       "min                NaN                               NaN          NaN   NaN   \n",
       "25%                NaN                               NaN          NaN   NaN   \n",
       "50%                NaN                               NaN          NaN   NaN   \n",
       "75%                NaN                               NaN          NaN   NaN   \n",
       "max                NaN                               NaN          NaN   NaN   \n",
       "\n",
       "       POS_Y     PARTICIPANTES VICTIMA ACUSADO  \n",
       "count    696               696     687     673  \n",
       "unique   605                41       9       9  \n",
       "top        .  PEATON-PASAJEROS    MOTO    AUTO  \n",
       "freq      12               105     295     204  \n",
       "mean     NaN               NaN     NaN     NaN  \n",
       "min      NaN               NaN     NaN     NaN  \n",
       "25%      NaN               NaN     NaN     NaN  \n",
       "50%      NaN               NaN     NaN     NaN  \n",
       "75%      NaN               NaN     NaN     NaN  \n",
       "max      NaN               NaN     NaN     NaN  "
      ]
     },
     "execution_count": 13,
     "metadata": {},
     "output_type": "execute_result"
    }
   ],
   "source": [
    "dfHechos.describe(exclude = 'number')"
   ]
  },
  {
   "cell_type": "markdown",
   "metadata": {},
   "source": [
    "Cambiaremos todos los valores \"SD\" (Sin datos) a NaN. Con este cambio ayudaremos a las funciones de pandas a identificar valores faltantes (NaN)."
   ]
  },
  {
   "cell_type": "code",
   "execution_count": 14,
   "metadata": {},
   "outputs": [],
   "source": [
    "dfHechos.replace(['SD','sd'], float('nan'), inplace = True)"
   ]
  },
  {
   "cell_type": "markdown",
   "metadata": {},
   "source": [
    "La columna 'HH' deberia ser de tipo entero. Los enteros ocupan poco espacio en memoria."
   ]
  },
  {
   "cell_type": "code",
   "execution_count": 15,
   "metadata": {},
   "outputs": [
    {
     "name": "stdout",
     "output_type": "stream",
     "text": [
      "<class 'pandas.core.series.Series'>\n",
      "RangeIndex: 696 entries, 0 to 695\n",
      "Series name: HH\n",
      "Non-Null Count  Dtype  \n",
      "--------------  -----  \n",
      "695 non-null    float64\n",
      "dtypes: float64(1)\n",
      "memory usage: 5.6 KB\n"
     ]
    }
   ],
   "source": [
    "# El parametro 'downcast' intentara reducir el tipo de dato al tamaño más pequeño posible,\n",
    "# manteniendo la precisión de los datos.\n",
    "dfHechos['HH'] = pd.to_numeric(dfHechos['HH'], errors = 'coerce', downcast = 'integer')\n",
    "dfHechos['HH'].info()"
   ]
  },
  {
   "cell_type": "markdown",
   "metadata": {},
   "source": [
    "⬆️ La columna 'HH' ahora es de tipo numerica (float64) pero no es de tipo int porque la columna contiene un NaN.<br>\n",
    "Seguiremos explorando esta columna 'HH' en la seccion de variables numericas."
   ]
  },
  {
   "cell_type": "markdown",
   "metadata": {},
   "source": [
    "¿Faltan datos en las columnas?"
   ]
  },
  {
   "cell_type": "code",
   "execution_count": 16,
   "metadata": {},
   "outputs": [
    {
     "name": "stdout",
     "output_type": "stream",
     "text": [
      "COLUMNA               FALTAN     %\n",
      "--------------------------------------\n",
      "FECHA                 0           0.0\n",
      "HORA                  1           0.14\n",
      "CALLE                 1           0.14\n",
      "CRUCE                 171        24.57\n",
      "DIRECCION_NORMALIZADA 8           1.15\n",
      "PARTICIPANTES         0           0.0\n",
      "VICTIMA               9           1.29\n",
      "ACUSADO               23          3.3\n"
     ]
    }
   ],
   "source": [
    "len = dfHechos.shape[0]\n",
    "n = dfHechos.shape[0]\n",
    "print(f'COLUMNA               FALTAN     %\\n--------------------------------------')\n",
    "print(f'FECHA{\" \" * 17}{len - dfHechos[\"FECHA\"].count()}{\" \" * 11}{round(100 - (dfHechos[\"FECHA\"].count() * 100) / len, 2)}')\n",
    "print(f'HORA{\" \" * 18}{len - dfHechos[\"HORA\"].count()}{\" \" * 11}{round(100 - (dfHechos[\"HORA\"].count() * 100) / len, 2)}')\n",
    "print(f'CALLE{\" \" * 17}{len - dfHechos[\"CALLE\"].count()}{\" \" * 11}{round(100 - (dfHechos[\"CALLE\"].count() * 100) / len, 2)}')\n",
    "print(f'CRUCE{\" \" * 17}{len - dfHechos[\"CRUCE\"].count()}{\" \" * 8}{round(100 - (dfHechos[\"CRUCE\"].count() * 100) / len, 2)}')\n",
    "print(f'DIRECCION_NORMALIZADA {len - dfHechos[\"DIRECCION_NORMALIZADA\"].count()}{\" \" * 11}{round(100 - (dfHechos[\"DIRECCION_NORMALIZADA\"].count() * 100) / len, 2)}')\n",
    "print(f'PARTICIPANTES{\" \" * 9}{len - dfHechos[\"PARTICIPANTES\"].count()}{\" \" * 11}{round(100 - (dfHechos[\"PARTICIPANTES\"].count() * 100) / len, 2)}')\n",
    "print(f'VICTIMA{\" \" * 15}{len - dfHechos[\"VICTIMA\"].count()}{\" \" * 11}{round(100 - (dfHechos[\"VICTIMA\"].count() * 100) / len, 2)}')\n",
    "print(f'ACUSADO{\" \" * 15}{len - dfHechos[\"ACUSADO\"].count()}{\" \" * 10}{round(100 - (dfHechos[\"ACUSADO\"].count() * 100) / len, 2)}')"
   ]
  },
  {
   "cell_type": "markdown",
   "metadata": {},
   "source": [
    "🏛️ Exploremos la columna 'FECHA'"
   ]
  },
  {
   "cell_type": "code",
   "execution_count": 17,
   "metadata": {},
   "outputs": [
    {
     "data": {
      "text/plain": [
       "count                              696\n",
       "mean     2018-09-14 05:12:24.827586048\n",
       "min                2016-01-01 00:00:00\n",
       "25%                2017-04-02 12:00:00\n",
       "50%                2018-07-12 12:00:00\n",
       "75%                2020-01-04 06:00:00\n",
       "max                2021-12-30 00:00:00\n",
       "Name: FECHA, dtype: object"
      ]
     },
     "execution_count": 17,
     "metadata": {},
     "output_type": "execute_result"
    }
   ],
   "source": [
    "dfHechos['FECHA'].describe()"
   ]
  },
  {
   "cell_type": "markdown",
   "metadata": {},
   "source": [
    "Detección de outliers con __z-score__ en la columna FECHA de dfHechos"
   ]
  },
  {
   "cell_type": "markdown",
   "metadata": {},
   "source": [
    "Calcular el z-score para cada valor de la columna FECHA"
   ]
  },
  {
   "cell_type": "code",
   "execution_count": 18,
   "metadata": {},
   "outputs": [],
   "source": [
    "#calulamos la fecha media\n",
    "mediaFecha = dfHechos['FECHA'].mean()\n",
    "#calculamos la desviacion estandar\n",
    "desviacionEstandarFecha = dfHechos['FECHA'].std()\n",
    "#calculamos el z-score para cada valor\n",
    "zscores = np.abs(dfHechos['FECHA'] - mediaFecha) / desviacionEstandarFecha\n"
   ]
  },
  {
   "cell_type": "markdown",
   "metadata": {},
   "source": [
    "Identificar los valores con z-score mayor a 3 desviaciones estándar por encima de la media o menor a 3 desviaciones estándar por debajo de la media."
   ]
  },
  {
   "cell_type": "code",
   "execution_count": 19,
   "metadata": {},
   "outputs": [],
   "source": [
    "outliers = dfHechos[zscores > 3]"
   ]
  },
  {
   "cell_type": "code",
   "execution_count": 20,
   "metadata": {},
   "outputs": [
    {
     "name": "stdout",
     "output_type": "stream",
     "text": [
      "No se encontraron valores atipicos en la columna \"FECHA\" con el metodo z-score\n"
     ]
    }
   ],
   "source": [
    "if outliers.empty:\n",
    "  print('No se encontraron valores atipicos en la columna \"FECHA\" con el metodo z-score')\n",
    "else:\n",
    "  print(f'Se encontraron {outliers.shape[0]} valores atipicos en la columna \"FECHA\" con el metodo z-score')\n",
    "  dfHechos = dfHechos.drop(outliers.index)"
   ]
  },
  {
   "cell_type": "code",
   "execution_count": 21,
   "metadata": {},
   "outputs": [
    {
     "name": "stdout",
     "output_type": "stream",
     "text": [
      "En el diagrama de dispersion vemos una clarisima distribucion sin outliers\n"
     ]
    },
    {
     "data": {
      "image/png": "[encoded data removed]",
      "text/plain": [
       "<Figure size 432x288 with 1 Axes>"
      ]
     },
     "metadata": {
      "needs_background": "light"
     },
     "output_type": "display_data"
    }
   ],
   "source": [
    "plt.scatter(dfHechos['FECHA'], zscores)\n",
    "plt.axhline(3, color='red', linestyle='dashed')\n",
    "plt.axhline(-3, color='red', linestyle='dashed')\n",
    "print('En el diagrama de dispersion vemos una clarisima distribucion sin outliers')\n",
    "plt.show()"
   ]
  },
  {
   "cell_type": "code",
   "execution_count": 22,
   "metadata": {},
   "outputs": [
    {
     "name": "stdout",
     "output_type": "stream",
     "text": [
      "Representacion grafica de la distribucion de frecuencia de las fechas\n"
     ]
    },
    {
     "data": {
      "text/plain": [
       "Text(0, 0.5, 'Hechos')"
      ]
     },
     "execution_count": 22,
     "metadata": {},
     "output_type": "execute_result"
    },
    {
     "data": {
      "image/png": "[encoded data removed]",
      "text/plain": [
       "<Figure size 432x288 with 1 Axes>"
      ]
     },
     "metadata": {
      "needs_background": "light"
     },
     "output_type": "display_data"
    }
   ],
   "source": [
    "# Create a histogram using Seaborn\n",
    "print('Representacion grafica de la distribucion de frecuencia de las fechas')\n",
    "g = sns.histplot(data = dfHechos, x = 'FECHA')\n",
    "# Add labels\n",
    "g.set_xlabel('Años')\n",
    "g.set_ylabel('Hechos')"
   ]
  },
  {
   "cell_type": "markdown",
   "metadata": {},
   "source": [
    "No se aprecia una distribucion normal de las fechas (no gaussiana). Fechas anteriores al 2016 o posteriores al 2021 no son observables."
   ]
  },
  {
   "cell_type": "markdown",
   "metadata": {},
   "source": [
    "🏛️ Exploremos la columna 'HORA'"
   ]
  },
  {
   "cell_type": "code",
   "execution_count": 23,
   "metadata": {},
   "outputs": [
    {
     "name": "stdout",
     "output_type": "stream",
     "text": [
      "<class 'pandas.core.series.Series'>\n",
      "RangeIndex: 696 entries, 0 to 695\n",
      "Series name: HORA\n",
      "Non-Null Count  Dtype \n",
      "--------------  ----- \n",
      "695 non-null    object\n",
      "dtypes: object(1)\n",
      "memory usage: 5.6+ KB\n"
     ]
    }
   ],
   "source": [
    "dfHechos['HORA'].info()"
   ]
  },
  {
   "cell_type": "code",
   "execution_count": 24,
   "metadata": {},
   "outputs": [
    {
     "data": {
      "text/html": [
       "<div>\n",
       "<style scoped>\n",
       "    .dataframe tbody tr th:only-of-type {\n",
       "        vertical-align: middle;\n",
       "    }\n",
       "\n",
       "    .dataframe tbody tr th {\n",
       "        vertical-align: top;\n",
       "    }\n",
       "\n",
       "    .dataframe thead th {\n",
       "        text-align: right;\n",
       "    }\n",
       "</style>\n",
       "<table border=\"1\" class=\"dataframe\">\n",
       "  <thead>\n",
       "    <tr style=\"text-align: right;\">\n",
       "      <th></th>\n",
       "      <th>ID</th>\n",
       "      <th>N_VICTIMAS</th>\n",
       "      <th>FECHA</th>\n",
       "      <th>AAAA</th>\n",
       "      <th>MM</th>\n",
       "      <th>DD</th>\n",
       "      <th>HORA</th>\n",
       "      <th>HH</th>\n",
       "      <th>LUGAR_DEL_HECHO</th>\n",
       "      <th>TIPO_DE_CALLE</th>\n",
       "      <th>CALLE</th>\n",
       "      <th>ALTURA</th>\n",
       "      <th>CRUCE</th>\n",
       "      <th>DIRECCION_NORMALIZADA</th>\n",
       "      <th>COMUNA</th>\n",
       "      <th>XY_(CABA)</th>\n",
       "      <th>POS_X</th>\n",
       "      <th>POS_Y</th>\n",
       "      <th>PARTICIPANTES</th>\n",
       "      <th>VICTIMA</th>\n",
       "      <th>ACUSADO</th>\n",
       "    </tr>\n",
       "  </thead>\n",
       "  <tbody>\n",
       "    <tr>\n",
       "      <th>518</th>\n",
       "      <td>2019-0103</td>\n",
       "      <td>1</td>\n",
       "      <td>2019-12-18</td>\n",
       "      <td>2019</td>\n",
       "      <td>12</td>\n",
       "      <td>18</td>\n",
       "      <td>&lt;NA&gt;</td>\n",
       "      <td>NaN</td>\n",
       "      <td>PAZ, GRAL. AV. Y GRIVEO</td>\n",
       "      <td>GRAL PAZ</td>\n",
       "      <td>PAZ, GRAL. AV.</td>\n",
       "      <td>NaN</td>\n",
       "      <td>GRIVEO</td>\n",
       "      <td>PAZ, GRAL. AV. y GRIVEO</td>\n",
       "      <td>11</td>\n",
       "      <td>Point (94643.11254058 103831.57115061)</td>\n",
       "      <td>-58.52169422</td>\n",
       "      <td>-34.59471640</td>\n",
       "      <td>MOTO-MOTO</td>\n",
       "      <td>MOTO</td>\n",
       "      <td>MOTO</td>\n",
       "    </tr>\n",
       "  </tbody>\n",
       "</table>\n",
       "</div>"
      ],
      "text/plain": [
       "            ID  N_VICTIMAS      FECHA  AAAA  MM  DD  HORA  HH  \\\n",
       "518  2019-0103           1 2019-12-18  2019  12  18  <NA> NaN   \n",
       "\n",
       "             LUGAR_DEL_HECHO TIPO_DE_CALLE           CALLE  ALTURA   CRUCE  \\\n",
       "518  PAZ, GRAL. AV. Y GRIVEO      GRAL PAZ  PAZ, GRAL. AV.     NaN  GRIVEO   \n",
       "\n",
       "       DIRECCION_NORMALIZADA  COMUNA                               XY_(CABA)  \\\n",
       "518  PAZ, GRAL. AV. y GRIVEO      11  Point (94643.11254058 103831.57115061)   \n",
       "\n",
       "            POS_X         POS_Y PARTICIPANTES VICTIMA ACUSADO  \n",
       "518  -58.52169422  -34.59471640     MOTO-MOTO    MOTO    MOTO  "
      ]
     },
     "execution_count": 24,
     "metadata": {},
     "output_type": "execute_result"
    }
   ],
   "source": [
    "dfHechos[dfHechos['HORA'].isnull()]"
   ]
  },
  {
   "cell_type": "code",
   "execution_count": 25,
   "metadata": {},
   "outputs": [
    {
     "data": {
      "text/plain": [
       "count          695\n",
       "unique         374\n",
       "top       16:00:00\n",
       "freq            10\n",
       "Name: HORA, dtype: object"
      ]
     },
     "execution_count": 25,
     "metadata": {},
     "output_type": "execute_result"
    }
   ],
   "source": [
    "dfHechos['HORA'].describe()"
   ]
  },
  {
   "cell_type": "code",
   "execution_count": 26,
   "metadata": {},
   "outputs": [
    {
     "name": "stdout",
     "output_type": "stream",
     "text": [
      "Valores distintos en la columna 'HORAS':\n",
      " [datetime.time(4, 0) datetime.time(1, 15) datetime.time(7, 0)\n",
      " datetime.time(0, 0) datetime.time(5, 20) datetime.time(18, 30)\n",
      " datetime.time(19, 10) datetime.time(15, 20) datetime.time(1, 20)\n",
      " datetime.time(11, 30) datetime.time(5, 14) datetime.time(22, 0)\n",
      " datetime.time(16, 54) datetime.time(9, 30) datetime.time(16, 0)\n",
      " datetime.time(23, 35) datetime.time(6, 0) datetime.time(4, 50)\n",
      " datetime.time(7, 30) datetime.time(9, 35) datetime.time(10, 0)\n",
      " datetime.time(17, 30) datetime.time(12, 30) datetime.time(0, 15)\n",
      " datetime.time(11, 0) datetime.time(8, 6) datetime.time(1, 50)\n",
      " datetime.time(18, 15) datetime.time(19, 40) datetime.time(10, 25)\n",
      " datetime.time(5, 30) datetime.time(17, 40) datetime.time(9, 50)\n",
      " datetime.time(20, 0) datetime.time(21, 0) datetime.time(20, 30)\n",
      " datetime.time(4, 45) datetime.time(14, 0) datetime.time(16, 30)\n",
      " datetime.time(18, 11) datetime.time(14, 40) datetime.time(17, 0)\n",
      " datetime.time(3, 30) datetime.time(15, 0) datetime.time(6, 40)\n",
      " datetime.time(23, 13) datetime.time(16, 20) datetime.time(21, 52)\n",
      " datetime.time(23, 1) datetime.time(17, 13) datetime.time(6, 42)\n",
      " datetime.time(7, 42) datetime.time(18, 24) datetime.time(20, 46)\n",
      " datetime.time(16, 10) datetime.time(0, 10) datetime.time(15, 30)\n",
      " datetime.time(6, 12) datetime.time(18, 45) datetime.time(16, 8)\n",
      " datetime.time(23, 27) datetime.time(19, 42) datetime.time(23, 37)\n",
      " datetime.time(21, 15) datetime.time(0, 5) datetime.time(21, 2)\n",
      " datetime.time(8, 22) datetime.time(5, 45) datetime.time(20, 21)\n",
      " datetime.time(4, 40) datetime.time(16, 45) datetime.time(11, 20)\n",
      " datetime.time(11, 50) datetime.time(20, 20) datetime.time(7, 10)\n",
      " datetime.time(9, 0) datetime.time(15, 24) datetime.time(12, 14)\n",
      " datetime.time(22, 45) datetime.time(19, 13) datetime.time(2, 30)\n",
      " datetime.time(5, 0) datetime.time(0, 39) datetime.time(23, 0)\n",
      " datetime.time(2, 58) datetime.time(23, 30) datetime.time(4, 41)\n",
      " datetime.time(12, 10) datetime.time(20, 56) datetime.time(22, 20)\n",
      " datetime.time(18, 20) datetime.time(20, 35) datetime.time(21, 10)\n",
      " datetime.time(15, 42) datetime.time(14, 14) datetime.time(16, 50)\n",
      " datetime.time(7, 21) datetime.time(7, 22) datetime.time(6, 16)\n",
      " datetime.time(8, 25) datetime.time(10, 40) datetime.time(17, 10)\n",
      " datetime.time(19, 0) datetime.time(8, 0) datetime.time(19, 52)\n",
      " datetime.time(8, 15) datetime.time(1, 41) datetime.time(16, 18)\n",
      " datetime.time(1, 0) datetime.time(3, 10) datetime.time(0, 40)\n",
      " datetime.time(13, 56) datetime.time(8, 27, 34) datetime.time(15, 18, 3)\n",
      " datetime.time(5, 12, 21) datetime.time(20, 50) datetime.time(17, 5)\n",
      " datetime.time(5, 15) datetime.time(21, 57) datetime.time(9, 20)\n",
      " datetime.time(2, 15) datetime.time(1, 30) datetime.time(7, 50)\n",
      " datetime.time(18, 0) datetime.time(3, 0) datetime.time(9, 40)\n",
      " datetime.time(23, 15) datetime.time(6, 15) datetime.time(6, 30)\n",
      " datetime.time(18, 16) datetime.time(11, 8, 8) datetime.time(3, 47, 47)\n",
      " datetime.time(3, 40) datetime.time(20, 16, 22) datetime.time(8, 30)\n",
      " datetime.time(23, 10) datetime.time(9, 24) datetime.time(7, 20)\n",
      " datetime.time(13, 29, 30) datetime.time(10, 13) datetime.time(18, 10)\n",
      " datetime.time(2, 45) datetime.time(19, 50) datetime.time(14, 15)\n",
      " datetime.time(13, 20) datetime.time(23, 20) datetime.time(12, 50)\n",
      " datetime.time(22, 38) datetime.time(14, 50) datetime.time(23, 45)\n",
      " datetime.time(16, 26) datetime.time(10, 15) datetime.time(22, 40)\n",
      " datetime.time(0, 25) datetime.time(12, 49) datetime.time(10, 45)\n",
      " datetime.time(22, 30) datetime.time(12, 5) datetime.time(13, 0)\n",
      " datetime.time(22, 16, 1) datetime.time(16, 48, 40) datetime.time(8, 50)\n",
      " datetime.time(19, 45) datetime.time(7, 45) datetime.time(1, 10)\n",
      " datetime.time(4, 53, 8) datetime.time(18, 23, 37)\n",
      " datetime.time(9, 32, 17) datetime.time(18, 52, 33) datetime.time(22, 24)\n",
      " datetime.time(7, 2, 9) datetime.time(15, 55, 33) datetime.time(1, 5, 38)\n",
      " datetime.time(14, 40, 28) datetime.time(6, 12, 20)\n",
      " datetime.time(19, 15, 15) datetime.time(12, 14, 10) datetime.time(8, 43)\n",
      " datetime.time(11, 45) datetime.time(10, 30) datetime.time(23, 22, 17)\n",
      " datetime.time(21, 45) datetime.time(6, 45) datetime.time(11, 15)\n",
      " datetime.time(12, 20) datetime.time(2, 0) datetime.time(9, 15)\n",
      " datetime.time(21, 25, 41) datetime.time(9, 2) datetime.time(21, 30)\n",
      " datetime.time(4, 31, 27) datetime.time(13, 15) '22:50:00' '16:40:00'\n",
      " '10:12:00' '09:40:00' '22:30:00' '21:15:00' '02:30:00' '17:50:00'\n",
      " datetime.time(5, 10) '10:30:00' '13:30:00' '08:15:00' '20:00:00'\n",
      " '01:00:00' '10:15:00' '04:15:00' '07:15:00' '12:30:00' '22:00:00'\n",
      " '10:45:00' '00:00:00' '06:00:00' '23:00:00' '04:45:00' '15:45:00'\n",
      " '18:00:00' '01:30:00' '13:00:00' '18:15:00' '16:45:00' '23:15:00'\n",
      " datetime.time(22, 15) datetime.time(18, 43) '06:30:00' '09:00:00'\n",
      " '07:00:00' '03:15:00' datetime.time(19, 15) '18:45:00' '20:30:00'\n",
      " '11:15:00' datetime.time(6, 20) datetime.time(16, 15)\n",
      " datetime.time(15, 45) datetime.time(17, 50) datetime.time(6, 4)\n",
      " datetime.time(7, 15) datetime.time(22, 22) datetime.time(15, 53)\n",
      " datetime.time(7, 25) datetime.time(21, 44) '19:20:00'\n",
      " datetime.time(16, 36) '17:56:00' '10:34:00' datetime.time(18, 47)\n",
      " '08:20:00' '08:41:00' '05:35:00' '00:59:00' '22:20:00'\n",
      " datetime.time(10, 50) '05:00:00' '14:25:00' '00:15:00' '00:30:00'\n",
      " '17:51:00' datetime.time(8, 58) '18:12:00' '22:02:00' '14:20:00'\n",
      " '22:12:00' '03:05:00' '12:13:00' '09:18:00' '11:00:00' '02:15:00'\n",
      " '14:49:00' datetime.time(22, 35) '13:34:00' '16:32:00' '03:32:00'\n",
      " '19:40:00' '21:12:00' datetime.time(12, 11) '09:14:00' '04:30:00'\n",
      " '04:01:00' '03:00:00' '08:26:00' '14:07:00' '21:00:00' '15:42:00'\n",
      " datetime.time(20, 15) '09:30:00' datetime.time(8, 5) '05:25:00'\n",
      " datetime.time(19, 58) datetime.time(12, 0) datetime.time(19, 34)\n",
      " datetime.time(14, 55) datetime.time(3, 16) datetime.time(6, 57)\n",
      " datetime.time(21, 1) datetime.time(22, 50)\n",
      " datetime.datetime(1900, 1, 2, 0, 0) datetime.time(8, 28)\n",
      " datetime.datetime(1900, 1, 14, 7, 12) datetime.time(13, 10)\n",
      " datetime.time(7, 32) datetime.time(11, 11) datetime.time(19, 55)\n",
      " datetime.time(9, 8) datetime.time(14, 10) datetime.time(22, 46)\n",
      " datetime.time(3, 5) datetime.time(12, 45) datetime.time(7, 27)\n",
      " datetime.time(17, 20) datetime.time(17, 16) datetime.time(18, 40)\n",
      " datetime.time(3, 15) datetime.time(5, 25)\n",
      " datetime.datetime(1900, 1, 4, 18, 40) datetime.time(22, 18)\n",
      " datetime.time(18, 26) datetime.time(19, 33) datetime.time(4, 20)\n",
      " datetime.time(14, 30) <NA> datetime.time(4, 25) datetime.time(21, 40)\n",
      " datetime.time(12, 55) datetime.time(0, 37) datetime.time(11, 29)\n",
      " datetime.time(2, 14) datetime.time(18, 42) datetime.time(7, 58)\n",
      " datetime.time(5, 35) datetime.time(6, 25) datetime.time(3, 20)\n",
      " datetime.time(4, 30) datetime.time(19, 17, 42) datetime.time(1, 45)\n",
      " datetime.time(0, 20) datetime.time(6, 50) datetime.time(6, 35)\n",
      " datetime.time(17, 19) datetime.time(15, 35) datetime.time(7, 40)\n",
      " datetime.time(5, 50) datetime.time(4, 15) datetime.time(10, 20)\n",
      " datetime.time(9, 12, 18) datetime.time(1, 4, 26) datetime.time(20, 7, 22)\n",
      " datetime.time(6, 10) datetime.time(0, 50) datetime.time(4, 10)\n",
      " datetime.time(3, 45) datetime.time(2, 35) datetime.time(18, 5)\n",
      " datetime.time(10, 29) datetime.time(11, 40) datetime.time(12, 9)\n",
      " datetime.time(17, 24) datetime.time(9, 58) datetime.time(13, 30)\n",
      " datetime.time(19, 20) datetime.time(5, 40) datetime.time(14, 44)\n",
      " datetime.time(23, 25) datetime.time(7, 16) datetime.time(9, 29)\n",
      " datetime.time(17, 15) datetime.time(16, 16) datetime.time(13, 35)\n",
      " datetime.time(4, 39) datetime.time(0, 35) datetime.time(10, 10)\n",
      " datetime.time(11, 22) datetime.time(15, 40) datetime.time(0, 43)]\n"
     ]
    }
   ],
   "source": [
    "# Imprimir los valores distintos en la columna 'HORAS'\n",
    "print(\"Valores distintos en la columna 'HORAS':\\n\", dfHechos['HORA'].unique())"
   ]
  },
  {
   "cell_type": "markdown",
   "metadata": {},
   "source": [
    "En los valores distitos de la columna 'HORA' notamos que tiene dos tipos de datos, uno con datetime.time() y otro una cadena de texto con el formato 'hh:mm:ss'<br>\n",
    "Unificaremos todo al tipo de dat datetime.time()"
   ]
  },
  {
   "cell_type": "code",
   "execution_count": 27,
   "metadata": {},
   "outputs": [],
   "source": [
    "dfHechos['HORA'] = pd.to_datetime(dfHechos['HORA'], format = '%H:%M:%S').dt.time"
   ]
  },
  {
   "cell_type": "markdown",
   "metadata": {},
   "source": [
    "Busquemos la hora que falta fijandonos en el dataframe dfVictimas. Busquemos la victima con 'ID_hecho' igual a '2019-0103'. "
   ]
  },
  {
   "cell_type": "code",
   "execution_count": 28,
   "metadata": {},
   "outputs": [
    {
     "data": {
      "text/html": [
       "<div>\n",
       "<style scoped>\n",
       "    .dataframe tbody tr th:only-of-type {\n",
       "        vertical-align: middle;\n",
       "    }\n",
       "\n",
       "    .dataframe tbody tr th {\n",
       "        vertical-align: top;\n",
       "    }\n",
       "\n",
       "    .dataframe thead th {\n",
       "        text-align: right;\n",
       "    }\n",
       "</style>\n",
       "<table border=\"1\" class=\"dataframe\">\n",
       "  <thead>\n",
       "    <tr style=\"text-align: right;\">\n",
       "      <th></th>\n",
       "      <th>ID_hecho</th>\n",
       "      <th>FECHA</th>\n",
       "      <th>AAAA</th>\n",
       "      <th>MM</th>\n",
       "      <th>DD</th>\n",
       "      <th>ROL</th>\n",
       "      <th>VICTIMA</th>\n",
       "      <th>SEXO</th>\n",
       "      <th>EDAD</th>\n",
       "      <th>FECHA_FALLECIMIENTO</th>\n",
       "    </tr>\n",
       "  </thead>\n",
       "  <tbody>\n",
       "    <tr>\n",
       "      <th>537</th>\n",
       "      <td>2019-0103</td>\n",
       "      <td>2019-12-18</td>\n",
       "      <td>2019</td>\n",
       "      <td>12</td>\n",
       "      <td>18</td>\n",
       "      <td>CONDUCTOR</td>\n",
       "      <td>MOTO</td>\n",
       "      <td>MASCULINO</td>\n",
       "      <td>24</td>\n",
       "      <td>2019-12-18 00:00:00</td>\n",
       "    </tr>\n",
       "  </tbody>\n",
       "</table>\n",
       "</div>"
      ],
      "text/plain": [
       "      ID_hecho      FECHA  AAAA  MM  DD        ROL VICTIMA       SEXO EDAD  \\\n",
       "537  2019-0103 2019-12-18  2019  12  18  CONDUCTOR    MOTO  MASCULINO   24   \n",
       "\n",
       "     FECHA_FALLECIMIENTO  \n",
       "537  2019-12-18 00:00:00  "
      ]
     },
     "execution_count": 28,
     "metadata": {},
     "output_type": "execute_result"
    }
   ],
   "source": [
    "dfVictimas[dfVictimas['ID_hecho'] == '2019-0103']"
   ]
  },
  {
   "cell_type": "markdown",
   "metadata": {},
   "source": [
    "Metamos la lupa a la columna 'FECHA' para ver la hora."
   ]
  },
  {
   "cell_type": "code",
   "execution_count": 29,
   "metadata": {},
   "outputs": [
    {
     "data": {
      "text/plain": [
       "537    00:00:00\n",
       "Name: FECHA, dtype: object"
      ]
     },
     "execution_count": 29,
     "metadata": {},
     "output_type": "execute_result"
    }
   ],
   "source": [
    "dfVictimas[dfVictimas['ID_hecho'] == '2019-0103']['FECHA'].dt.time"
   ]
  },
  {
   "cell_type": "markdown",
   "metadata": {},
   "source": [
    "Claramente la hora exacta de suceso no fue capturada y en su lugar quedo registrado un dato por defecto, en este caso ‘00:00:00’. Al no encontrar datos para la hora, entonces ..."
   ]
  },
  {
   "cell_type": "markdown",
   "metadata": {},
   "source": [
    "Imputaremos la unica hora faltante ubicandola en la media de la columna 'HORA'."
   ]
  },
  {
   "cell_type": "markdown",
   "metadata": {},
   "source": [
    "Busquemos la hora media en la columna 'HORA'"
   ]
  },
  {
   "cell_type": "code",
   "execution_count": 30,
   "metadata": {},
   "outputs": [
    {
     "name": "stdout",
     "output_type": "stream",
     "text": [
      "La media de la columna \"HORA\" es: 12.0:1.3525179856114846\n"
     ]
    }
   ],
   "source": [
    "# Convertir la columna 'HORA' al formato de minutos transcurridos desde la medianoche\n",
    "horaAMinutos = dfHechos['HORA'].apply(lambda x: x.hour * 60 + x.minute)\n",
    "\n",
    "# Calcular la media de 'HORA' en minutos\n",
    "mediaHoraAMinutos = horaAMinutos.mean()\n",
    "\n",
    "# Convertir la media de minutos de vuelta al formato de hora\n",
    "mediaEnHora = divmod(mediaHoraAMinutos, 60)\n",
    "\n",
    "# Mostrar la media en formato de hora\n",
    "print(f'La media de la columna \"HORA\" es: {mediaEnHora[0]}:{mediaEnHora[1]}')"
   ]
  },
  {
   "cell_type": "code",
   "execution_count": 31,
   "metadata": {},
   "outputs": [],
   "source": [
    "# Reemplazar los valores NaN en la columna 'HORA' por la media calculada\n",
    "dfHechos['HORA'].fillna(pd.to_datetime(f\"{int(mediaEnHora[0]):02d}:{int(mediaEnHora[1]):02d}\").time(), inplace=True)"
   ]
  },
  {
   "cell_type": "code",
   "execution_count": 32,
   "metadata": {},
   "outputs": [
    {
     "name": "stdout",
     "output_type": "stream",
     "text": [
      "<class 'pandas.core.series.Series'>\n",
      "RangeIndex: 696 entries, 0 to 695\n",
      "Series name: HORA\n",
      "Non-Null Count  Dtype \n",
      "--------------  ----- \n",
      "696 non-null    object\n",
      "dtypes: object(1)\n",
      "memory usage: 5.6+ KB\n"
     ]
    }
   ],
   "source": [
    "dfHechos['HORA'].info()"
   ]
  },
  {
   "cell_type": "code",
   "execution_count": 33,
   "metadata": {},
   "outputs": [
    {
     "name": "stdout",
     "output_type": "stream",
     "text": [
      "object\n",
      "nulos: 0\n",
      "0    04:00:00\n",
      "1    01:15:00\n",
      "2    07:00:00\n",
      "3    00:00:00\n",
      "4    05:20:00\n",
      "Name: HORA, dtype: object\n"
     ]
    }
   ],
   "source": [
    "# Mostrar el tipo de dato de la columna 'HORA'\n",
    "print(dfHechos['HORA'].dtype)\n",
    "\n",
    "# Mostrar la cantidad de valores nulos en la columna 'HORA'\n",
    "print('nulos:', dfHechos['HORA'].isnull().sum())\n",
    "\n",
    "# Mostrar los primeros 5 valores de la columna 'HORA'\n",
    "print(dfHechos['HORA'].head())"
   ]
  },
  {
   "cell_type": "markdown",
   "metadata": {},
   "source": [
    "🏛️ Exploremos la columna __'CALLE'__"
   ]
  },
  {
   "cell_type": "code",
   "execution_count": 34,
   "metadata": {},
   "outputs": [
    {
     "data": {
      "text/html": [
       "<div>\n",
       "<style scoped>\n",
       "    .dataframe tbody tr th:only-of-type {\n",
       "        vertical-align: middle;\n",
       "    }\n",
       "\n",
       "    .dataframe tbody tr th {\n",
       "        vertical-align: top;\n",
       "    }\n",
       "\n",
       "    .dataframe thead th {\n",
       "        text-align: right;\n",
       "    }\n",
       "</style>\n",
       "<table border=\"1\" class=\"dataframe\">\n",
       "  <thead>\n",
       "    <tr style=\"text-align: right;\">\n",
       "      <th></th>\n",
       "      <th>ID</th>\n",
       "      <th>N_VICTIMAS</th>\n",
       "      <th>FECHA</th>\n",
       "      <th>AAAA</th>\n",
       "      <th>MM</th>\n",
       "      <th>DD</th>\n",
       "      <th>HORA</th>\n",
       "      <th>HH</th>\n",
       "      <th>LUGAR_DEL_HECHO</th>\n",
       "      <th>TIPO_DE_CALLE</th>\n",
       "      <th>CALLE</th>\n",
       "      <th>ALTURA</th>\n",
       "      <th>CRUCE</th>\n",
       "      <th>DIRECCION_NORMALIZADA</th>\n",
       "      <th>COMUNA</th>\n",
       "      <th>XY_(CABA)</th>\n",
       "      <th>POS_X</th>\n",
       "      <th>POS_Y</th>\n",
       "      <th>PARTICIPANTES</th>\n",
       "      <th>VICTIMA</th>\n",
       "      <th>ACUSADO</th>\n",
       "    </tr>\n",
       "  </thead>\n",
       "  <tbody>\n",
       "    <tr>\n",
       "      <th>119</th>\n",
       "      <td>2016-0151</td>\n",
       "      <td>1</td>\n",
       "      <td>2016-11-18</td>\n",
       "      <td>2016</td>\n",
       "      <td>11</td>\n",
       "      <td>18</td>\n",
       "      <td>20:35:00</td>\n",
       "      <td>20.0</td>\n",
       "      <td>&lt;NA&gt;</td>\n",
       "      <td>CALLE</td>\n",
       "      <td>NaN</td>\n",
       "      <td>NaN</td>\n",
       "      <td>NaN</td>\n",
       "      <td>NaN</td>\n",
       "      <td>0</td>\n",
       "      <td>Point (. .)</td>\n",
       "      <td>.</td>\n",
       "      <td>.</td>\n",
       "      <td>PEATON-SD</td>\n",
       "      <td>PEATON</td>\n",
       "      <td>&lt;NA&gt;</td>\n",
       "    </tr>\n",
       "  </tbody>\n",
       "</table>\n",
       "</div>"
      ],
      "text/plain": [
       "            ID  N_VICTIMAS      FECHA  AAAA  MM  DD      HORA    HH  \\\n",
       "119  2016-0151           1 2016-11-18  2016  11  18  20:35:00  20.0   \n",
       "\n",
       "    LUGAR_DEL_HECHO TIPO_DE_CALLE CALLE  ALTURA CRUCE DIRECCION_NORMALIZADA  \\\n",
       "119            <NA>         CALLE   NaN     NaN   NaN                   NaN   \n",
       "\n",
       "     COMUNA    XY_(CABA) POS_X POS_Y PARTICIPANTES VICTIMA ACUSADO  \n",
       "119       0  Point (. .)     .     .     PEATON-SD  PEATON    <NA>  "
      ]
     },
     "execution_count": 34,
     "metadata": {},
     "output_type": "execute_result"
    }
   ],
   "source": [
    "dfHechos.loc[dfHechos['CALLE'].isna()]"
   ]
  },
  {
   "cell_type": "markdown",
   "metadata": {},
   "source": [
    "Sin datos en las columnas 'LUGAR_DEL_HECHO', 'ALTURA', 'CRUCE', 'DIRECCION_NORMALIZADA', 'XY_(CABA)',<br>'POS_X', 'POS_Y' no contamos con pistas para determinar la calle en la que ocurrio el hecho.<br>\n",
    "⬆️Mas adelante en el analisis, intentando encontrar datos en otras columnas de esta fila, tomamos la decision de que la columna no es salvable. Esta columna termino siendo eliminada."
   ]
  },
  {
   "cell_type": "markdown",
   "metadata": {},
   "source": [
    "Contemos la cantidad de valores diferentes que se tienen en 'CALLE' para verificar que esta columna categorica no tenga un solo nivel.<br>\n",
    "Si tiene un solo subnivel, borraremos la columna."
   ]
  },
  {
   "cell_type": "code",
   "execution_count": 35,
   "metadata": {},
   "outputs": [
    {
     "name": "stdout",
     "output_type": "stream",
     "text": [
      "Columna \"CALLE:\" 279 subniveles\n"
     ]
    }
   ],
   "source": [
    "print(f'Columna \"CALLE:\" {dfHechos[\"CALLE\"].nunique()} subniveles')"
   ]
  },
  {
   "cell_type": "code",
   "execution_count": 36,
   "metadata": {},
   "outputs": [
    {
     "data": {
      "text/plain": [
       "CALLE\n",
       "PAZ, GRAL. AV.                                57\n",
       "RIVADAVIA AV.                                 19\n",
       "DEL LIBERTADOR AV.                            18\n",
       "AUTOPISTA 1 SUR PRESIDENTE ARTURO FRONDIZI    14\n",
       "ALBERDI, JUAN BAUTISTA AV.                    13\n",
       "                                              ..\n",
       "PILCOMAYO                                      1\n",
       "CERVANTES                                      1\n",
       "CONGRESO AV.                                   1\n",
       "AUSTRALIA AV.                                  1\n",
       "PADRE CARLOS MUJICA                            1\n",
       "Name: count, Length: 279, dtype: int64"
      ]
     },
     "execution_count": 36,
     "metadata": {},
     "output_type": "execute_result"
    }
   ],
   "source": [
    "dfHechos['CALLE'].value_counts()"
   ]
  },
  {
   "cell_type": "markdown",
   "metadata": {},
   "source": [
    "🏛️ Exploremos la columna __'LUGAR_DEL_HECHO'__"
   ]
  },
  {
   "cell_type": "markdown",
   "metadata": {},
   "source": [
    "Quitemos los espacios en blanco de la columna"
   ]
  },
  {
   "cell_type": "code",
   "execution_count": 37,
   "metadata": {},
   "outputs": [],
   "source": [
    "# Eliminar los espacios en blanco a la derecha del texto en la columna 'LUGAR_DEL_HECHO'\n",
    "dfHechos['LUGAR_DEL_HECHO'] = dfHechos['LUGAR_DEL_HECHO'].str.rstrip()"
   ]
  },
  {
   "cell_type": "markdown",
   "metadata": {},
   "source": [
    "🏛️ Exploremos la columna __'CRUCE'__"
   ]
  },
  {
   "cell_type": "markdown",
   "metadata": {},
   "source": [
    "Al faltar casi 1/4 de los datos de la columna 'CRUCE' hemos tomado la decision de asumir que el dato faltante indica que el hecho no ocurrio en un cruce. Entonces el dato es valido al tener valor NaN."
   ]
  },
  {
   "cell_type": "markdown",
   "metadata": {},
   "source": [
    "🏛️ Exploremos la columna __'DIRECCION_NORMALIZADA'__"
   ]
  },
  {
   "cell_type": "markdown",
   "metadata": {},
   "source": [
    "🗣️ Ya que contamos con las columnas 'LUGAR_DEL_HECHO', 'TIPO_DE_CALLE' y 'CALLE', prescindiremos de esta columna."
   ]
  },
  {
   "cell_type": "code",
   "execution_count": 38,
   "metadata": {},
   "outputs": [],
   "source": [
    "dfHechos = dfHechos.drop('DIRECCION_NORMALIZADA', axis=1)"
   ]
  },
  {
   "cell_type": "markdown",
   "metadata": {},
   "source": [
    "🏛️ Exploremos la columna __'PARTICIPANTES'__"
   ]
  },
  {
   "cell_type": "code",
   "execution_count": 39,
   "metadata": {},
   "outputs": [
    {
     "data": {
      "text/plain": [
       "PARTICIPANTES\n",
       "PEATON-PASAJEROS       105\n",
       "MOTO-AUTO               83\n",
       "MOTO-CARGAS             78\n",
       "PEATON-AUTO             77\n",
       "MOTO-PASAJEROS          46\n",
       "MOTO-OBJETO FIJO        40\n",
       "PEATON-CARGAS           38\n",
       "AUTO-AUTO               31\n",
       "PEATON-MOTO             30\n",
       "MOTO-MOTO               25\n",
       "AUTO-OBJETO FIJO        22\n",
       "MULTIPLE                17\n",
       "AUTO-CARGAS             14\n",
       "BICICLETA-CARGAS        10\n",
       "AUTO-PASAJEROS           9\n",
       "MOTO-SD                  9\n",
       "BICICLETA-PASAJEROS      8\n",
       "BICICLETA-AUTO           8\n",
       "SD-SD                    5\n",
       "PEATON-BICICLETA         5\n",
       "AUTO-SD                  4\n",
       "CARGAS-CARGAS            4\n",
       "PEATON-SD                4\n",
       "PASAJEROS-PASAJEROS      3\n",
       "MOTO-OTRO                2\n",
       "MOTO-BICICLETA           2\n",
       "SD-AUTO                  2\n",
       "MOTO-MOVIL               2\n",
       "CARGAS-OBJETO FIJO       1\n",
       "CARGAS-AUTO              1\n",
       "MOVIL-PASAJEROS          1\n",
       "SD-CARGAS                1\n",
       "SD-MOTO                  1\n",
       "MOVIL-CARGAS             1\n",
       "PASAJEROS-AUTO           1\n",
       "AUTO-MOVIL               1\n",
       "CARGAS-PASAJEROS         1\n",
       "BICICLETA-TREN           1\n",
       "BICICLETA-OTRO           1\n",
       "PEATON_MOTO-MOTO         1\n",
       "PASAJEROS-SD             1\n",
       "Name: count, dtype: int64"
      ]
     },
     "execution_count": 39,
     "metadata": {},
     "output_type": "execute_result"
    }
   ],
   "source": [
    "dfHechos['PARTICIPANTES'].value_counts()"
   ]
  },
  {
   "cell_type": "markdown",
   "metadata": {},
   "source": [
    "En los valores de la columna 'PARTICIPANTES' sustituiremos el guion medio que separa las palabras por el guion bajo.<br>Esto es porque queremos\n",
    "seguir siendo consistentes con los separadores de palabras en los nombre de columna."
   ]
  },
  {
   "cell_type": "code",
   "execution_count": 40,
   "metadata": {},
   "outputs": [],
   "source": [
    "dfHechos['PARTICIPANTES'] = dfHechos['PARTICIPANTES'].str.replace('-', '_')"
   ]
  },
  {
   "cell_type": "markdown",
   "metadata": {},
   "source": [
    "Tambien sustituiremos 'SD_SD' por NaN ya que en realidad no hay datos para estos valores."
   ]
  },
  {
   "cell_type": "code",
   "execution_count": 41,
   "metadata": {},
   "outputs": [],
   "source": [
    "dfHechos['PARTICIPANTES'] = dfHechos['PARTICIPANTES'].replace('SD_SD', float('nan'))"
   ]
  },
  {
   "cell_type": "code",
   "execution_count": 42,
   "metadata": {},
   "outputs": [
    {
     "data": {
      "text/html": [
       "<div>\n",
       "<style scoped>\n",
       "    .dataframe tbody tr th:only-of-type {\n",
       "        vertical-align: middle;\n",
       "    }\n",
       "\n",
       "    .dataframe tbody tr th {\n",
       "        vertical-align: top;\n",
       "    }\n",
       "\n",
       "    .dataframe thead th {\n",
       "        text-align: right;\n",
       "    }\n",
       "</style>\n",
       "<table border=\"1\" class=\"dataframe\">\n",
       "  <thead>\n",
       "    <tr style=\"text-align: right;\">\n",
       "      <th></th>\n",
       "      <th>ID</th>\n",
       "      <th>N_VICTIMAS</th>\n",
       "      <th>FECHA</th>\n",
       "      <th>AAAA</th>\n",
       "      <th>MM</th>\n",
       "      <th>DD</th>\n",
       "      <th>HORA</th>\n",
       "      <th>HH</th>\n",
       "      <th>LUGAR_DEL_HECHO</th>\n",
       "      <th>TIPO_DE_CALLE</th>\n",
       "      <th>CALLE</th>\n",
       "      <th>ALTURA</th>\n",
       "      <th>CRUCE</th>\n",
       "      <th>COMUNA</th>\n",
       "      <th>XY_(CABA)</th>\n",
       "      <th>POS_X</th>\n",
       "      <th>POS_Y</th>\n",
       "      <th>PARTICIPANTES</th>\n",
       "      <th>VICTIMA</th>\n",
       "      <th>ACUSADO</th>\n",
       "    </tr>\n",
       "  </thead>\n",
       "  <tbody>\n",
       "    <tr>\n",
       "      <th>35</th>\n",
       "      <td>2016-0049</td>\n",
       "      <td>1</td>\n",
       "      <td>2016-04-17</td>\n",
       "      <td>2016</td>\n",
       "      <td>4</td>\n",
       "      <td>17</td>\n",
       "      <td>00:00:00</td>\n",
       "      <td>0.0</td>\n",
       "      <td>AUTOPISTA 1 SUR PRESIDENTE ARTURO FRONDIZI KM....</td>\n",
       "      <td>AUTOPISTA</td>\n",
       "      <td>AUTOPISTA 1 SUR PRESIDENTE ARTURO FRONDIZI</td>\n",
       "      <td>NaN</td>\n",
       "      <td>NaN</td>\n",
       "      <td>4</td>\n",
       "      <td>Point (. .)</td>\n",
       "      <td>-58.37714647568196</td>\n",
       "      <td>-34.63657525428238</td>\n",
       "      <td>NaN</td>\n",
       "      <td>&lt;NA&gt;</td>\n",
       "      <td>&lt;NA&gt;</td>\n",
       "    </tr>\n",
       "    <tr>\n",
       "      <th>76</th>\n",
       "      <td>2016-0101</td>\n",
       "      <td>1</td>\n",
       "      <td>2016-08-07</td>\n",
       "      <td>2016</td>\n",
       "      <td>8</td>\n",
       "      <td>7</td>\n",
       "      <td>19:42:00</td>\n",
       "      <td>19.0</td>\n",
       "      <td>AV GRAL PAZ Y JORGE CHAVEZ</td>\n",
       "      <td>GRAL PAZ</td>\n",
       "      <td>PAZ, GRAL. AV.</td>\n",
       "      <td>NaN</td>\n",
       "      <td>CHAVEZ, JORGE</td>\n",
       "      <td>9</td>\n",
       "      <td>Point (93946.81673714 97681.68907836)</td>\n",
       "      <td>-58.52932872</td>\n",
       "      <td>-34.65014993</td>\n",
       "      <td>NaN</td>\n",
       "      <td>&lt;NA&gt;</td>\n",
       "      <td>&lt;NA&gt;</td>\n",
       "    </tr>\n",
       "    <tr>\n",
       "      <th>92</th>\n",
       "      <td>2016-0119</td>\n",
       "      <td>1</td>\n",
       "      <td>2016-09-04</td>\n",
       "      <td>2016</td>\n",
       "      <td>9</td>\n",
       "      <td>4</td>\n",
       "      <td>06:40:00</td>\n",
       "      <td>6.0</td>\n",
       "      <td>CRISOLOGO LARRALDE Y AVDA TRIUNVIRATO</td>\n",
       "      <td>AVENIDA</td>\n",
       "      <td>LARRALDE, CRISOLOGO AV.</td>\n",
       "      <td>NaN</td>\n",
       "      <td>TRIUNVIRATO AV.</td>\n",
       "      <td>12</td>\n",
       "      <td>Point (96944.69676081 107291.52292157)</td>\n",
       "      <td>-58.49659234</td>\n",
       "      <td>-34.56353635</td>\n",
       "      <td>NaN</td>\n",
       "      <td>&lt;NA&gt;</td>\n",
       "      <td>&lt;NA&gt;</td>\n",
       "    </tr>\n",
       "    <tr>\n",
       "      <th>139</th>\n",
       "      <td>2016-0174</td>\n",
       "      <td>1</td>\n",
       "      <td>2016-12-27</td>\n",
       "      <td>2016</td>\n",
       "      <td>12</td>\n",
       "      <td>27</td>\n",
       "      <td>00:00:00</td>\n",
       "      <td>0.0</td>\n",
       "      <td>AUTOPISTA 25 DE MAYO</td>\n",
       "      <td>AUTOPISTA</td>\n",
       "      <td>AUTOPISTA 25 DE MAYO</td>\n",
       "      <td>NaN</td>\n",
       "      <td>NaN</td>\n",
       "      <td>0</td>\n",
       "      <td>Point (. .)</td>\n",
       "      <td>.</td>\n",
       "      <td>.</td>\n",
       "      <td>NaN</td>\n",
       "      <td>&lt;NA&gt;</td>\n",
       "      <td>&lt;NA&gt;</td>\n",
       "    </tr>\n",
       "    <tr>\n",
       "      <th>201</th>\n",
       "      <td>2017-0074</td>\n",
       "      <td>1</td>\n",
       "      <td>2017-06-04</td>\n",
       "      <td>2017</td>\n",
       "      <td>6</td>\n",
       "      <td>4</td>\n",
       "      <td>12:50:00</td>\n",
       "      <td>12.0</td>\n",
       "      <td>CASCO 133</td>\n",
       "      <td>CALLE</td>\n",
       "      <td>CASCO</td>\n",
       "      <td>133.0</td>\n",
       "      <td>NaN</td>\n",
       "      <td>9</td>\n",
       "      <td>Point (94281.31244858 99043.29027489)</td>\n",
       "      <td>-58.52567073</td>\n",
       "      <td>-34.63787791</td>\n",
       "      <td>NaN</td>\n",
       "      <td>&lt;NA&gt;</td>\n",
       "      <td>&lt;NA&gt;</td>\n",
       "    </tr>\n",
       "  </tbody>\n",
       "</table>\n",
       "</div>"
      ],
      "text/plain": [
       "            ID  N_VICTIMAS      FECHA  AAAA  MM  DD      HORA    HH  \\\n",
       "35   2016-0049           1 2016-04-17  2016   4  17  00:00:00   0.0   \n",
       "76   2016-0101           1 2016-08-07  2016   8   7  19:42:00  19.0   \n",
       "92   2016-0119           1 2016-09-04  2016   9   4  06:40:00   6.0   \n",
       "139  2016-0174           1 2016-12-27  2016  12  27  00:00:00   0.0   \n",
       "201  2017-0074           1 2017-06-04  2017   6   4  12:50:00  12.0   \n",
       "\n",
       "                                       LUGAR_DEL_HECHO TIPO_DE_CALLE  \\\n",
       "35   AUTOPISTA 1 SUR PRESIDENTE ARTURO FRONDIZI KM....     AUTOPISTA   \n",
       "76                          AV GRAL PAZ Y JORGE CHAVEZ      GRAL PAZ   \n",
       "92               CRISOLOGO LARRALDE Y AVDA TRIUNVIRATO       AVENIDA   \n",
       "139                               AUTOPISTA 25 DE MAYO     AUTOPISTA   \n",
       "201                                          CASCO 133         CALLE   \n",
       "\n",
       "                                          CALLE  ALTURA            CRUCE  \\\n",
       "35   AUTOPISTA 1 SUR PRESIDENTE ARTURO FRONDIZI     NaN              NaN   \n",
       "76                               PAZ, GRAL. AV.     NaN    CHAVEZ, JORGE   \n",
       "92                      LARRALDE, CRISOLOGO AV.     NaN  TRIUNVIRATO AV.   \n",
       "139                        AUTOPISTA 25 DE MAYO     NaN              NaN   \n",
       "201                                       CASCO   133.0              NaN   \n",
       "\n",
       "     COMUNA                               XY_(CABA)               POS_X  \\\n",
       "35        4                             Point (. .)  -58.37714647568196   \n",
       "76        9   Point (93946.81673714 97681.68907836)        -58.52932872   \n",
       "92       12  Point (96944.69676081 107291.52292157)        -58.49659234   \n",
       "139       0                             Point (. .)                   .   \n",
       "201       9   Point (94281.31244858 99043.29027489)        -58.52567073   \n",
       "\n",
       "                  POS_Y PARTICIPANTES VICTIMA ACUSADO  \n",
       "35   -34.63657525428238           NaN    <NA>    <NA>  \n",
       "76         -34.65014993           NaN    <NA>    <NA>  \n",
       "92         -34.56353635           NaN    <NA>    <NA>  \n",
       "139                   .           NaN    <NA>    <NA>  \n",
       "201        -34.63787791           NaN    <NA>    <NA>  "
      ]
     },
     "execution_count": 42,
     "metadata": {},
     "output_type": "execute_result"
    }
   ],
   "source": [
    "dfHechos[dfHechos['PARTICIPANTES'].isna()]"
   ]
  },
  {
   "cell_type": "markdown",
   "metadata": {},
   "source": [
    "Vamos a buscar pistas en dfVictimas para ver si podemos completar los valores faltantes en la columna 'PARTICIPANTES'<br>de dfHechos"
   ]
  },
  {
   "cell_type": "code",
   "execution_count": 43,
   "metadata": {},
   "outputs": [
    {
     "name": "stdout",
     "output_type": "stream",
     "text": [
      "dataframe dfVictimas\n"
     ]
    },
    {
     "data": {
      "text/html": [
       "<div>\n",
       "<style scoped>\n",
       "    .dataframe tbody tr th:only-of-type {\n",
       "        vertical-align: middle;\n",
       "    }\n",
       "\n",
       "    .dataframe tbody tr th {\n",
       "        vertical-align: top;\n",
       "    }\n",
       "\n",
       "    .dataframe thead th {\n",
       "        text-align: right;\n",
       "    }\n",
       "</style>\n",
       "<table border=\"1\" class=\"dataframe\">\n",
       "  <thead>\n",
       "    <tr style=\"text-align: right;\">\n",
       "      <th></th>\n",
       "      <th>ID_hecho</th>\n",
       "      <th>ROL</th>\n",
       "      <th>VICTIMA</th>\n",
       "    </tr>\n",
       "  </thead>\n",
       "  <tbody>\n",
       "    <tr>\n",
       "      <th>0</th>\n",
       "      <td>2016-0049</td>\n",
       "      <td>SD</td>\n",
       "      <td>SD</td>\n",
       "    </tr>\n",
       "    <tr>\n",
       "      <th>1</th>\n",
       "      <td>2016-0101</td>\n",
       "      <td>SD</td>\n",
       "      <td>SD</td>\n",
       "    </tr>\n",
       "    <tr>\n",
       "      <th>2</th>\n",
       "      <td>2016-0119</td>\n",
       "      <td>PASAJERO_ACOMPAÑANTE</td>\n",
       "      <td>SD</td>\n",
       "    </tr>\n",
       "    <tr>\n",
       "      <th>3</th>\n",
       "      <td>2016-0174</td>\n",
       "      <td>SD</td>\n",
       "      <td>SD</td>\n",
       "    </tr>\n",
       "    <tr>\n",
       "      <th>4</th>\n",
       "      <td>2016-0074</td>\n",
       "      <td>CONDUCTOR</td>\n",
       "      <td>AUTO</td>\n",
       "    </tr>\n",
       "  </tbody>\n",
       "</table>\n",
       "</div>"
      ],
      "text/plain": [
       "    ID_hecho                   ROL VICTIMA\n",
       "0  2016-0049                    SD      SD\n",
       "1  2016-0101                    SD      SD\n",
       "2  2016-0119  PASAJERO_ACOMPAÑANTE      SD\n",
       "3  2016-0174                    SD      SD\n",
       "4  2016-0074             CONDUCTOR    AUTO"
      ]
     },
     "execution_count": 43,
     "metadata": {},
     "output_type": "execute_result"
    }
   ],
   "source": [
    "ids = ['2016-0049', '2016-0101', '2016-0119', '2016-0174', '2016-0074']\n",
    "d = pd.DataFrame(columns=['ID_hecho', 'ROL', 'VICTIMA'])\n",
    "\n",
    "for id in ids:\n",
    "    row = dfVictimas[dfVictimas['ID_hecho'] == id][['ID_hecho', 'ROL', 'VICTIMA']]\n",
    "    d = pd.concat([d, row], ignore_index=True)\n",
    "# Mostrar el contenido de d\n",
    "print('dataframe dfVictimas')\n",
    "d"
   ]
  },
  {
   "cell_type": "markdown",
   "metadata": {},
   "source": [
    "En el dataframe dfVictimas podemo ver que hay dos hechos (2016-0119 y 2016-0074) que tienen datos utiles para completar en dfHechos. Actualizaremos los valores en la columna 'PARTICIPANTES' segun lo encontrado en dfVictimas"
   ]
  },
  {
   "cell_type": "code",
   "execution_count": 44,
   "metadata": {},
   "outputs": [],
   "source": [
    "dfHechos.loc[dfHechos['ID'] == '2016-0119', 'PARTICIPANTES'] = 'PASAJEROS_SD'\n",
    "dfHechos.loc[dfHechos['ID'] == '2016-0074', 'PARTICIPANTES'] = 'AUTO_SD'"
   ]
  },
  {
   "cell_type": "markdown",
   "metadata": {},
   "source": [
    "Imputaremos los tres faltantes con las tres categorias mas comunes."
   ]
  },
  {
   "cell_type": "code",
   "execution_count": 45,
   "metadata": {},
   "outputs": [],
   "source": [
    "dfHechos.loc[dfHechos['ID'] == '2016-0049', 'PARTICIPANTES'] = 'PEATON-PASAJEROS'\n",
    "dfHechos.loc[dfHechos['ID'] == '2016-0101', 'PARTICIPANTES'] = 'MOTO-AUTO'\n",
    "dfHechos.loc[dfHechos['ID'] == '2016-0174', 'PARTICIPANTES'] = 'MOTO-CARGAS'"
   ]
  },
  {
   "cell_type": "markdown",
   "metadata": {},
   "source": [
    "Veamos un panorama grafico de la columna 'PARTICIPANTES'"
   ]
  },
  {
   "cell_type": "code",
   "execution_count": 46,
   "metadata": {},
   "outputs": [
    {
     "data": {
      "image/png": "[encoded data removed]",
      "text/plain": [
       "<Figure size 1440x576 with 1 Axes>"
      ]
     },
     "metadata": {
      "needs_background": "light"
     },
     "output_type": "display_data"
    }
   ],
   "source": [
    "# Ajustar el tamaño de la figura\n",
    "plt.figure(figsize = (20, 8))\n",
    "\n",
    "# Crear el countplot para la columna 'PARTICIPANTES' con nombres de valores en el eje x verticalmente\n",
    "ax = sns.countplot(x = 'PARTICIPANTES', data = dfHechos)\n",
    "ax.set_xticklabels(ax.get_xticklabels(), rotation = 90)  # Rotar los nombres de los valores en el eje x\n",
    "\n",
    "# Cambiar la etiqueta del eje de las x por 'PARTICIPANTES (VICTIMA_ACUSADO)'\n",
    "ax.set_xlabel('PARTICIPANTES (VICTIMA_ACUSADO)')\n",
    "# Mostrar la gráfica\n",
    "plt.show()\n"
   ]
  },
  {
   "cell_type": "code",
   "execution_count": 47,
   "metadata": {},
   "outputs": [
    {
     "data": {
      "text/html": [
       "<div>\n",
       "<style scoped>\n",
       "    .dataframe tbody tr th:only-of-type {\n",
       "        vertical-align: middle;\n",
       "    }\n",
       "\n",
       "    .dataframe tbody tr th {\n",
       "        vertical-align: top;\n",
       "    }\n",
       "\n",
       "    .dataframe thead th {\n",
       "        text-align: right;\n",
       "    }\n",
       "</style>\n",
       "<table border=\"1\" class=\"dataframe\">\n",
       "  <thead>\n",
       "    <tr style=\"text-align: right;\">\n",
       "      <th></th>\n",
       "      <th>ID</th>\n",
       "      <th>N_VICTIMAS</th>\n",
       "      <th>FECHA</th>\n",
       "      <th>AAAA</th>\n",
       "      <th>MM</th>\n",
       "      <th>DD</th>\n",
       "      <th>HORA</th>\n",
       "      <th>HH</th>\n",
       "      <th>LUGAR_DEL_HECHO</th>\n",
       "      <th>TIPO_DE_CALLE</th>\n",
       "      <th>CALLE</th>\n",
       "      <th>ALTURA</th>\n",
       "      <th>CRUCE</th>\n",
       "      <th>COMUNA</th>\n",
       "      <th>XY_(CABA)</th>\n",
       "      <th>POS_X</th>\n",
       "      <th>POS_Y</th>\n",
       "      <th>PARTICIPANTES</th>\n",
       "      <th>VICTIMA</th>\n",
       "      <th>ACUSADO</th>\n",
       "    </tr>\n",
       "  </thead>\n",
       "  <tbody>\n",
       "    <tr>\n",
       "      <th>583</th>\n",
       "      <td>2020-0063</td>\n",
       "      <td>2</td>\n",
       "      <td>2020-12-05</td>\n",
       "      <td>2020</td>\n",
       "      <td>12</td>\n",
       "      <td>5</td>\n",
       "      <td>07:10:00</td>\n",
       "      <td>7.0</td>\n",
       "      <td>NUEVA YORK Y ALTA GRACIA</td>\n",
       "      <td>CALLE</td>\n",
       "      <td>NUEVA YORK</td>\n",
       "      <td>NaN</td>\n",
       "      <td>ALTA GRACIA</td>\n",
       "      <td>11</td>\n",
       "      <td>Point (94080.62190808 102083.62453795)</td>\n",
       "      <td>-58.52783814</td>\n",
       "      <td>-34.61047001</td>\n",
       "      <td>PEATON_MOTO_MOTO</td>\n",
       "      <td>PEATON_MOTO</td>\n",
       "      <td>MOTO</td>\n",
       "    </tr>\n",
       "  </tbody>\n",
       "</table>\n",
       "</div>"
      ],
      "text/plain": [
       "            ID  N_VICTIMAS      FECHA  AAAA  MM  DD      HORA   HH  \\\n",
       "583  2020-0063           2 2020-12-05  2020  12   5  07:10:00  7.0   \n",
       "\n",
       "              LUGAR_DEL_HECHO TIPO_DE_CALLE       CALLE  ALTURA        CRUCE  \\\n",
       "583  NUEVA YORK Y ALTA GRACIA         CALLE  NUEVA YORK     NaN  ALTA GRACIA   \n",
       "\n",
       "     COMUNA                               XY_(CABA)         POS_X  \\\n",
       "583      11  Point (94080.62190808 102083.62453795)  -58.52783814   \n",
       "\n",
       "            POS_Y     PARTICIPANTES      VICTIMA ACUSADO  \n",
       "583  -34.61047001  PEATON_MOTO_MOTO  PEATON_MOTO    MOTO  "
      ]
     },
     "execution_count": 47,
     "metadata": {},
     "output_type": "execute_result"
    }
   ],
   "source": [
    "dfHechos.loc[dfHechos['PARTICIPANTES'] == 'PEATON_MOTO_MOTO']"
   ]
  },
  {
   "cell_type": "markdown",
   "metadata": {},
   "source": [
    "En el diccionario el valor 'PEATON_MOTO' para la columna 'PARTICIPANTES' no existe. Lo sustituiremos por 'OTRO_MOTO'."
   ]
  },
  {
   "cell_type": "code",
   "execution_count": 48,
   "metadata": {},
   "outputs": [],
   "source": [
    "dfHechos.loc[dfHechos['ID'] == '2020-0063', 'PARTICIPANTES'] = 'OTRO_MOTO'"
   ]
  },
  {
   "cell_type": "markdown",
   "metadata": {},
   "source": [
    "🏛️ Exploremos la columna __'VICTIMA'__"
   ]
  },
  {
   "cell_type": "code",
   "execution_count": 49,
   "metadata": {},
   "outputs": [
    {
     "data": {
      "text/plain": [
       "VICTIMA\n",
       "MOTO           295\n",
       "PEATON         264\n",
       "AUTO            83\n",
       "BICICLETA       29\n",
       "CARGAS           7\n",
       "PASAJEROS        5\n",
       "MOVIL            2\n",
       "OBJETO FIJO      1\n",
       "PEATON_MOTO      1\n",
       "Name: count, dtype: int64"
      ]
     },
     "execution_count": 49,
     "metadata": {},
     "output_type": "execute_result"
    }
   ],
   "source": [
    "dfHechos['VICTIMA'].value_counts()"
   ]
  },
  {
   "cell_type": "markdown",
   "metadata": {},
   "source": [
    "PEATON_MOTO no esta en la lista de valores para esta columna segun el diccionario suministrado.\n",
    "Vamo a ver mas de cerca esta fila"
   ]
  },
  {
   "cell_type": "code",
   "execution_count": 50,
   "metadata": {},
   "outputs": [
    {
     "data": {
      "text/html": [
       "<div>\n",
       "<style scoped>\n",
       "    .dataframe tbody tr th:only-of-type {\n",
       "        vertical-align: middle;\n",
       "    }\n",
       "\n",
       "    .dataframe tbody tr th {\n",
       "        vertical-align: top;\n",
       "    }\n",
       "\n",
       "    .dataframe thead th {\n",
       "        text-align: right;\n",
       "    }\n",
       "</style>\n",
       "<table border=\"1\" class=\"dataframe\">\n",
       "  <thead>\n",
       "    <tr style=\"text-align: right;\">\n",
       "      <th></th>\n",
       "      <th>ID</th>\n",
       "      <th>N_VICTIMAS</th>\n",
       "      <th>FECHA</th>\n",
       "      <th>AAAA</th>\n",
       "      <th>MM</th>\n",
       "      <th>DD</th>\n",
       "      <th>HORA</th>\n",
       "      <th>HH</th>\n",
       "      <th>LUGAR_DEL_HECHO</th>\n",
       "      <th>TIPO_DE_CALLE</th>\n",
       "      <th>CALLE</th>\n",
       "      <th>ALTURA</th>\n",
       "      <th>CRUCE</th>\n",
       "      <th>COMUNA</th>\n",
       "      <th>XY_(CABA)</th>\n",
       "      <th>POS_X</th>\n",
       "      <th>POS_Y</th>\n",
       "      <th>PARTICIPANTES</th>\n",
       "      <th>VICTIMA</th>\n",
       "      <th>ACUSADO</th>\n",
       "    </tr>\n",
       "  </thead>\n",
       "  <tbody>\n",
       "    <tr>\n",
       "      <th>583</th>\n",
       "      <td>2020-0063</td>\n",
       "      <td>2</td>\n",
       "      <td>2020-12-05</td>\n",
       "      <td>2020</td>\n",
       "      <td>12</td>\n",
       "      <td>5</td>\n",
       "      <td>07:10:00</td>\n",
       "      <td>7.0</td>\n",
       "      <td>NUEVA YORK Y ALTA GRACIA</td>\n",
       "      <td>CALLE</td>\n",
       "      <td>NUEVA YORK</td>\n",
       "      <td>NaN</td>\n",
       "      <td>ALTA GRACIA</td>\n",
       "      <td>11</td>\n",
       "      <td>Point (94080.62190808 102083.62453795)</td>\n",
       "      <td>-58.52783814</td>\n",
       "      <td>-34.61047001</td>\n",
       "      <td>OTRO_MOTO</td>\n",
       "      <td>PEATON_MOTO</td>\n",
       "      <td>MOTO</td>\n",
       "    </tr>\n",
       "  </tbody>\n",
       "</table>\n",
       "</div>"
      ],
      "text/plain": [
       "            ID  N_VICTIMAS      FECHA  AAAA  MM  DD      HORA   HH  \\\n",
       "583  2020-0063           2 2020-12-05  2020  12   5  07:10:00  7.0   \n",
       "\n",
       "              LUGAR_DEL_HECHO TIPO_DE_CALLE       CALLE  ALTURA        CRUCE  \\\n",
       "583  NUEVA YORK Y ALTA GRACIA         CALLE  NUEVA YORK     NaN  ALTA GRACIA   \n",
       "\n",
       "     COMUNA                               XY_(CABA)         POS_X  \\\n",
       "583      11  Point (94080.62190808 102083.62453795)  -58.52783814   \n",
       "\n",
       "            POS_Y PARTICIPANTES      VICTIMA ACUSADO  \n",
       "583  -34.61047001     OTRO_MOTO  PEATON_MOTO    MOTO  "
      ]
     },
     "execution_count": 50,
     "metadata": {},
     "output_type": "execute_result"
    }
   ],
   "source": [
    "dfHechos.loc[dfHechos['VICTIMA'] == 'PEATON_MOTO']"
   ]
  },
  {
   "cell_type": "markdown",
   "metadata": {},
   "source": [
    "Corregiremos el dato en la columna 'VICTIMA' sustituyendo 'PEATON_MOTO' por 'OTRO'"
   ]
  },
  {
   "cell_type": "code",
   "execution_count": 51,
   "metadata": {},
   "outputs": [],
   "source": [
    "dfHechos.loc[dfHechos['ID'] == '2020-0063', 'VICTIMA'] = 'PEATON'\n",
    "\n",
    "# Aprovechamos de acomodar la columna 'PARTICIPANTES' en esta fila\n",
    "dfHechos.loc[dfHechos['ID'] == '2020-0063', 'PARTICIPANTES'] = 'OTRO'"
   ]
  },
  {
   "cell_type": "code",
   "execution_count": 52,
   "metadata": {},
   "outputs": [
    {
     "data": {
      "text/html": [
       "<div>\n",
       "<style scoped>\n",
       "    .dataframe tbody tr th:only-of-type {\n",
       "        vertical-align: middle;\n",
       "    }\n",
       "\n",
       "    .dataframe tbody tr th {\n",
       "        vertical-align: top;\n",
       "    }\n",
       "\n",
       "    .dataframe thead th {\n",
       "        text-align: right;\n",
       "    }\n",
       "</style>\n",
       "<table border=\"1\" class=\"dataframe\">\n",
       "  <thead>\n",
       "    <tr style=\"text-align: right;\">\n",
       "      <th></th>\n",
       "      <th>ID</th>\n",
       "      <th>N_VICTIMAS</th>\n",
       "      <th>FECHA</th>\n",
       "      <th>AAAA</th>\n",
       "      <th>MM</th>\n",
       "      <th>DD</th>\n",
       "      <th>HORA</th>\n",
       "      <th>HH</th>\n",
       "      <th>LUGAR_DEL_HECHO</th>\n",
       "      <th>TIPO_DE_CALLE</th>\n",
       "      <th>CALLE</th>\n",
       "      <th>ALTURA</th>\n",
       "      <th>CRUCE</th>\n",
       "      <th>COMUNA</th>\n",
       "      <th>XY_(CABA)</th>\n",
       "      <th>POS_X</th>\n",
       "      <th>POS_Y</th>\n",
       "      <th>PARTICIPANTES</th>\n",
       "      <th>VICTIMA</th>\n",
       "      <th>ACUSADO</th>\n",
       "    </tr>\n",
       "  </thead>\n",
       "  <tbody>\n",
       "    <tr>\n",
       "      <th>35</th>\n",
       "      <td>2016-0049</td>\n",
       "      <td>1</td>\n",
       "      <td>2016-04-17</td>\n",
       "      <td>2016</td>\n",
       "      <td>4</td>\n",
       "      <td>17</td>\n",
       "      <td>00:00:00</td>\n",
       "      <td>0.0</td>\n",
       "      <td>AUTOPISTA 1 SUR PRESIDENTE ARTURO FRONDIZI KM....</td>\n",
       "      <td>AUTOPISTA</td>\n",
       "      <td>AUTOPISTA 1 SUR PRESIDENTE ARTURO FRONDIZI</td>\n",
       "      <td>NaN</td>\n",
       "      <td>NaN</td>\n",
       "      <td>4</td>\n",
       "      <td>Point (. .)</td>\n",
       "      <td>-58.37714647568196</td>\n",
       "      <td>-34.63657525428238</td>\n",
       "      <td>PEATON-PASAJEROS</td>\n",
       "      <td>&lt;NA&gt;</td>\n",
       "      <td>&lt;NA&gt;</td>\n",
       "    </tr>\n",
       "    <tr>\n",
       "      <th>76</th>\n",
       "      <td>2016-0101</td>\n",
       "      <td>1</td>\n",
       "      <td>2016-08-07</td>\n",
       "      <td>2016</td>\n",
       "      <td>8</td>\n",
       "      <td>7</td>\n",
       "      <td>19:42:00</td>\n",
       "      <td>19.0</td>\n",
       "      <td>AV GRAL PAZ Y JORGE CHAVEZ</td>\n",
       "      <td>GRAL PAZ</td>\n",
       "      <td>PAZ, GRAL. AV.</td>\n",
       "      <td>NaN</td>\n",
       "      <td>CHAVEZ, JORGE</td>\n",
       "      <td>9</td>\n",
       "      <td>Point (93946.81673714 97681.68907836)</td>\n",
       "      <td>-58.52932872</td>\n",
       "      <td>-34.65014993</td>\n",
       "      <td>MOTO-AUTO</td>\n",
       "      <td>&lt;NA&gt;</td>\n",
       "      <td>&lt;NA&gt;</td>\n",
       "    </tr>\n",
       "    <tr>\n",
       "      <th>88</th>\n",
       "      <td>2016-0115</td>\n",
       "      <td>1</td>\n",
       "      <td>2016-09-02</td>\n",
       "      <td>2016</td>\n",
       "      <td>9</td>\n",
       "      <td>2</td>\n",
       "      <td>11:50:00</td>\n",
       "      <td>11.0</td>\n",
       "      <td>ARIAS Y TRONADOR</td>\n",
       "      <td>CALLE</td>\n",
       "      <td>ARIAS</td>\n",
       "      <td>NaN</td>\n",
       "      <td>TRONADOR</td>\n",
       "      <td>12</td>\n",
       "      <td>Point (97608.87024259 108884.67029908)</td>\n",
       "      <td>-58.48935041</td>\n",
       "      <td>-34.54917673</td>\n",
       "      <td>SD_CARGAS</td>\n",
       "      <td>&lt;NA&gt;</td>\n",
       "      <td>CARGAS</td>\n",
       "    </tr>\n",
       "    <tr>\n",
       "      <th>92</th>\n",
       "      <td>2016-0119</td>\n",
       "      <td>1</td>\n",
       "      <td>2016-09-04</td>\n",
       "      <td>2016</td>\n",
       "      <td>9</td>\n",
       "      <td>4</td>\n",
       "      <td>06:40:00</td>\n",
       "      <td>6.0</td>\n",
       "      <td>CRISOLOGO LARRALDE Y AVDA TRIUNVIRATO</td>\n",
       "      <td>AVENIDA</td>\n",
       "      <td>LARRALDE, CRISOLOGO AV.</td>\n",
       "      <td>NaN</td>\n",
       "      <td>TRIUNVIRATO AV.</td>\n",
       "      <td>12</td>\n",
       "      <td>Point (96944.69676081 107291.52292157)</td>\n",
       "      <td>-58.49659234</td>\n",
       "      <td>-34.56353635</td>\n",
       "      <td>PASAJEROS_SD</td>\n",
       "      <td>&lt;NA&gt;</td>\n",
       "      <td>&lt;NA&gt;</td>\n",
       "    </tr>\n",
       "    <tr>\n",
       "      <th>139</th>\n",
       "      <td>2016-0174</td>\n",
       "      <td>1</td>\n",
       "      <td>2016-12-27</td>\n",
       "      <td>2016</td>\n",
       "      <td>12</td>\n",
       "      <td>27</td>\n",
       "      <td>00:00:00</td>\n",
       "      <td>0.0</td>\n",
       "      <td>AUTOPISTA 25 DE MAYO</td>\n",
       "      <td>AUTOPISTA</td>\n",
       "      <td>AUTOPISTA 25 DE MAYO</td>\n",
       "      <td>NaN</td>\n",
       "      <td>NaN</td>\n",
       "      <td>0</td>\n",
       "      <td>Point (. .)</td>\n",
       "      <td>.</td>\n",
       "      <td>.</td>\n",
       "      <td>MOTO-CARGAS</td>\n",
       "      <td>&lt;NA&gt;</td>\n",
       "      <td>&lt;NA&gt;</td>\n",
       "    </tr>\n",
       "    <tr>\n",
       "      <th>164</th>\n",
       "      <td>2017-0029</td>\n",
       "      <td>1</td>\n",
       "      <td>2017-03-07</td>\n",
       "      <td>2017</td>\n",
       "      <td>3</td>\n",
       "      <td>7</td>\n",
       "      <td>02:15:00</td>\n",
       "      <td>2.0</td>\n",
       "      <td>MOZART Y TANDIL</td>\n",
       "      <td>CALLE</td>\n",
       "      <td>MOZART</td>\n",
       "      <td>NaN</td>\n",
       "      <td>TANDIL</td>\n",
       "      <td>9</td>\n",
       "      <td>Point (98009.35575364 97985.81952007)</td>\n",
       "      <td>-58.48501341</td>\n",
       "      <td>-34.64742455</td>\n",
       "      <td>SD_AUTO</td>\n",
       "      <td>&lt;NA&gt;</td>\n",
       "      <td>AUTO</td>\n",
       "    </tr>\n",
       "    <tr>\n",
       "      <th>201</th>\n",
       "      <td>2017-0074</td>\n",
       "      <td>1</td>\n",
       "      <td>2017-06-04</td>\n",
       "      <td>2017</td>\n",
       "      <td>6</td>\n",
       "      <td>4</td>\n",
       "      <td>12:50:00</td>\n",
       "      <td>12.0</td>\n",
       "      <td>CASCO 133</td>\n",
       "      <td>CALLE</td>\n",
       "      <td>CASCO</td>\n",
       "      <td>133.0</td>\n",
       "      <td>NaN</td>\n",
       "      <td>9</td>\n",
       "      <td>Point (94281.31244858 99043.29027489)</td>\n",
       "      <td>-58.52567073</td>\n",
       "      <td>-34.63787791</td>\n",
       "      <td>NaN</td>\n",
       "      <td>&lt;NA&gt;</td>\n",
       "      <td>&lt;NA&gt;</td>\n",
       "    </tr>\n",
       "    <tr>\n",
       "      <th>214</th>\n",
       "      <td>2017-0089</td>\n",
       "      <td>1</td>\n",
       "      <td>2017-07-13</td>\n",
       "      <td>2017</td>\n",
       "      <td>7</td>\n",
       "      <td>13</td>\n",
       "      <td>12:05:00</td>\n",
       "      <td>12.0</td>\n",
       "      <td>MARTINIANO LEGUIZAMON 901</td>\n",
       "      <td>CALLE</td>\n",
       "      <td>LEGUIZAMON, MARTINIANO</td>\n",
       "      <td>901.0</td>\n",
       "      <td>NaN</td>\n",
       "      <td>9</td>\n",
       "      <td>Point (95246.78684010 97935.32361317)</td>\n",
       "      <td>-58.51514709</td>\n",
       "      <td>-34.64787051</td>\n",
       "      <td>SD_AUTO</td>\n",
       "      <td>&lt;NA&gt;</td>\n",
       "      <td>AUTO</td>\n",
       "    </tr>\n",
       "    <tr>\n",
       "      <th>269</th>\n",
       "      <td>2017-0155</td>\n",
       "      <td>1</td>\n",
       "      <td>2017-12-12</td>\n",
       "      <td>2017</td>\n",
       "      <td>12</td>\n",
       "      <td>12</td>\n",
       "      <td>21:25:41</td>\n",
       "      <td>21.0</td>\n",
       "      <td>AV. RIVADAVIA 6350</td>\n",
       "      <td>AVENIDA</td>\n",
       "      <td>RIVADAVIA AV.</td>\n",
       "      <td>6350.0</td>\n",
       "      <td>NaN</td>\n",
       "      <td>7</td>\n",
       "      <td>Point (100674.98109200 100299.64949548)</td>\n",
       "      <td>-58.45593915</td>\n",
       "      <td>-34.62656868</td>\n",
       "      <td>SD_MOTO</td>\n",
       "      <td>&lt;NA&gt;</td>\n",
       "      <td>MOTO</td>\n",
       "    </tr>\n",
       "  </tbody>\n",
       "</table>\n",
       "</div>"
      ],
      "text/plain": [
       "            ID  N_VICTIMAS      FECHA  AAAA  MM  DD      HORA    HH  \\\n",
       "35   2016-0049           1 2016-04-17  2016   4  17  00:00:00   0.0   \n",
       "76   2016-0101           1 2016-08-07  2016   8   7  19:42:00  19.0   \n",
       "88   2016-0115           1 2016-09-02  2016   9   2  11:50:00  11.0   \n",
       "92   2016-0119           1 2016-09-04  2016   9   4  06:40:00   6.0   \n",
       "139  2016-0174           1 2016-12-27  2016  12  27  00:00:00   0.0   \n",
       "164  2017-0029           1 2017-03-07  2017   3   7  02:15:00   2.0   \n",
       "201  2017-0074           1 2017-06-04  2017   6   4  12:50:00  12.0   \n",
       "214  2017-0089           1 2017-07-13  2017   7  13  12:05:00  12.0   \n",
       "269  2017-0155           1 2017-12-12  2017  12  12  21:25:41  21.0   \n",
       "\n",
       "                                       LUGAR_DEL_HECHO TIPO_DE_CALLE  \\\n",
       "35   AUTOPISTA 1 SUR PRESIDENTE ARTURO FRONDIZI KM....     AUTOPISTA   \n",
       "76                          AV GRAL PAZ Y JORGE CHAVEZ      GRAL PAZ   \n",
       "88                                    ARIAS Y TRONADOR         CALLE   \n",
       "92               CRISOLOGO LARRALDE Y AVDA TRIUNVIRATO       AVENIDA   \n",
       "139                               AUTOPISTA 25 DE MAYO     AUTOPISTA   \n",
       "164                                    MOZART Y TANDIL         CALLE   \n",
       "201                                          CASCO 133         CALLE   \n",
       "214                          MARTINIANO LEGUIZAMON 901         CALLE   \n",
       "269                                 AV. RIVADAVIA 6350       AVENIDA   \n",
       "\n",
       "                                          CALLE  ALTURA            CRUCE  \\\n",
       "35   AUTOPISTA 1 SUR PRESIDENTE ARTURO FRONDIZI     NaN              NaN   \n",
       "76                               PAZ, GRAL. AV.     NaN    CHAVEZ, JORGE   \n",
       "88                                        ARIAS     NaN         TRONADOR   \n",
       "92                      LARRALDE, CRISOLOGO AV.     NaN  TRIUNVIRATO AV.   \n",
       "139                        AUTOPISTA 25 DE MAYO     NaN              NaN   \n",
       "164                                      MOZART     NaN           TANDIL   \n",
       "201                                       CASCO   133.0              NaN   \n",
       "214                      LEGUIZAMON, MARTINIANO   901.0              NaN   \n",
       "269                               RIVADAVIA AV.  6350.0              NaN   \n",
       "\n",
       "     COMUNA                                XY_(CABA)               POS_X  \\\n",
       "35        4                              Point (. .)  -58.37714647568196   \n",
       "76        9    Point (93946.81673714 97681.68907836)        -58.52932872   \n",
       "88       12   Point (97608.87024259 108884.67029908)        -58.48935041   \n",
       "92       12   Point (96944.69676081 107291.52292157)        -58.49659234   \n",
       "139       0                              Point (. .)                   .   \n",
       "164       9    Point (98009.35575364 97985.81952007)        -58.48501341   \n",
       "201       9    Point (94281.31244858 99043.29027489)        -58.52567073   \n",
       "214       9    Point (95246.78684010 97935.32361317)        -58.51514709   \n",
       "269       7  Point (100674.98109200 100299.64949548)        -58.45593915   \n",
       "\n",
       "                  POS_Y     PARTICIPANTES VICTIMA ACUSADO  \n",
       "35   -34.63657525428238  PEATON-PASAJEROS    <NA>    <NA>  \n",
       "76         -34.65014993         MOTO-AUTO    <NA>    <NA>  \n",
       "88         -34.54917673         SD_CARGAS    <NA>  CARGAS  \n",
       "92         -34.56353635      PASAJEROS_SD    <NA>    <NA>  \n",
       "139                   .       MOTO-CARGAS    <NA>    <NA>  \n",
       "164        -34.64742455           SD_AUTO    <NA>    AUTO  \n",
       "201        -34.63787791               NaN    <NA>    <NA>  \n",
       "214        -34.64787051           SD_AUTO    <NA>    AUTO  \n",
       "269        -34.62656868           SD_MOTO    <NA>    MOTO  "
      ]
     },
     "execution_count": 52,
     "metadata": {},
     "output_type": "execute_result"
    }
   ],
   "source": [
    "dfHechos[dfHechos['VICTIMA'].isna()]"
   ]
  },
  {
   "cell_type": "markdown",
   "metadata": {},
   "source": [
    "Gracias a la columna 'PARTICIPANTES' podemos recuperar algunos datos."
   ]
  },
  {
   "cell_type": "code",
   "execution_count": 53,
   "metadata": {},
   "outputs": [],
   "source": [
    "dfHechos.loc[dfHechos['ID'] == '2016-0049', 'VICTIMA'] = 'PEATON'\n",
    "dfHechos.loc[dfHechos['ID'] == '2016-0101', 'VICTIMA'] = 'MOTO'\n",
    "dfHechos.loc[dfHechos['ID'] == '2016-0119', 'VICTIMA'] = 'PASAJERO'\n",
    "dfHechos.loc[dfHechos['ID'] == '2016-0174', 'VICTIMA'] = 'MOTO'"
   ]
  },
  {
   "cell_type": "markdown",
   "metadata": {},
   "source": [
    "Hagamos que el tipo de valor nulo de la columna 'VICTIMA' sean el mismo tipo NaN del resto del dataframe"
   ]
  },
  {
   "cell_type": "code",
   "execution_count": 54,
   "metadata": {},
   "outputs": [],
   "source": [
    "dfHechos['VICTIMA'] = dfHechos['VICTIMA'].fillna(np.nan)"
   ]
  },
  {
   "cell_type": "markdown",
   "metadata": {},
   "source": [
    "Vamos a buscar pistas en dfVictimas para ver si podemos completar los valores faltantes en la columna 'VICTIMA'<br>de dfHechos"
   ]
  },
  {
   "cell_type": "code",
   "execution_count": 55,
   "metadata": {},
   "outputs": [
    {
     "name": "stdout",
     "output_type": "stream",
     "text": [
      "dataframe dfVictimas\n"
     ]
    },
    {
     "data": {
      "text/html": [
       "<div>\n",
       "<style scoped>\n",
       "    .dataframe tbody tr th:only-of-type {\n",
       "        vertical-align: middle;\n",
       "    }\n",
       "\n",
       "    .dataframe tbody tr th {\n",
       "        vertical-align: top;\n",
       "    }\n",
       "\n",
       "    .dataframe thead th {\n",
       "        text-align: right;\n",
       "    }\n",
       "</style>\n",
       "<table border=\"1\" class=\"dataframe\">\n",
       "  <thead>\n",
       "    <tr style=\"text-align: right;\">\n",
       "      <th></th>\n",
       "      <th>ID_hecho</th>\n",
       "      <th>ROL</th>\n",
       "      <th>VICTIMA</th>\n",
       "    </tr>\n",
       "  </thead>\n",
       "  <tbody>\n",
       "    <tr>\n",
       "      <th>0</th>\n",
       "      <td>2016-0115</td>\n",
       "      <td>SD</td>\n",
       "      <td>SD</td>\n",
       "    </tr>\n",
       "    <tr>\n",
       "      <th>1</th>\n",
       "      <td>2017-0029</td>\n",
       "      <td>SD</td>\n",
       "      <td>SD</td>\n",
       "    </tr>\n",
       "    <tr>\n",
       "      <th>2</th>\n",
       "      <td>2017-0074</td>\n",
       "      <td>SD</td>\n",
       "      <td>SD</td>\n",
       "    </tr>\n",
       "    <tr>\n",
       "      <th>3</th>\n",
       "      <td>2017-0089</td>\n",
       "      <td>SD</td>\n",
       "      <td>SD</td>\n",
       "    </tr>\n",
       "    <tr>\n",
       "      <th>4</th>\n",
       "      <td>2017-0155</td>\n",
       "      <td>SD</td>\n",
       "      <td>SD</td>\n",
       "    </tr>\n",
       "  </tbody>\n",
       "</table>\n",
       "</div>"
      ],
      "text/plain": [
       "    ID_hecho ROL VICTIMA\n",
       "0  2016-0115  SD      SD\n",
       "1  2017-0029  SD      SD\n",
       "2  2017-0074  SD      SD\n",
       "3  2017-0089  SD      SD\n",
       "4  2017-0155  SD      SD"
      ]
     },
     "execution_count": 55,
     "metadata": {},
     "output_type": "execute_result"
    }
   ],
   "source": [
    "# Los ids de las filas en dfHechos que tienen valor NaN en la columna 'VICTIMA'\n",
    "ids = dfHechos[dfHechos['VICTIMA'].isna()]['ID'].tolist()\n",
    "# Creamos un dataframe vacio con las columnas que necesitamos\n",
    "d = pd.DataFrame(columns=['ID_hecho', 'ROL', 'VICTIMA'])\n",
    "\n",
    "for id in ids:\n",
    "    row = dfVictimas[dfVictimas['ID_hecho'] == id][['ID_hecho', 'ROL', 'VICTIMA']]\n",
    "    d = pd.concat([d, row], ignore_index=True)\n",
    "# Mostrar el contenido de d\n",
    "print('dataframe dfVictimas')\n",
    "d"
   ]
  },
  {
   "cell_type": "markdown",
   "metadata": {},
   "source": [
    "En el dataframe dfVictimas podemo ver que hay un hecho (2016-0119) que tiene datos utiles para completar en el hecho (2016-0119) en dfHechos. Actualizaremos el valor en la columna 'VICTIMA' segun lo encontrado en dfVictimas"
   ]
  },
  {
   "cell_type": "code",
   "execution_count": 56,
   "metadata": {},
   "outputs": [],
   "source": [
    "dfHechos.loc[dfHechos['ID'] == '2016-0119', 'VICTIMA'] = 'PASAJEROS'"
   ]
  },
  {
   "cell_type": "markdown",
   "metadata": {},
   "source": [
    "Veamos un panorama grafico de la columna 'VICTIMA'"
   ]
  },
  {
   "cell_type": "code",
   "execution_count": 57,
   "metadata": {},
   "outputs": [
    {
     "data": {
      "image/png": "[encoded data removed]",
      "text/plain": [
       "<Figure size 1440x360 with 1 Axes>"
      ]
     },
     "metadata": {
      "needs_background": "light"
     },
     "output_type": "display_data"
    }
   ],
   "source": [
    "# Ajustar el tamaño de la figura\n",
    "plt.figure(figsize = (20, 5))\n",
    "\n",
    "# Crear el countplot para la columna 'VICTIMA' con nombres de valores en el eje x verticalmente\n",
    "ax = sns.countplot(x = 'VICTIMA', data = dfHechos)\n",
    "ax.set_xticklabels(ax.get_xticklabels(), rotation = 90)  # Rotar los nombres de los valores en el eje x\n",
    "\n",
    "# Cambiar la etiqueta del eje de las x por 'VICTIMA (VICTIMA_ACUSADO)'\n",
    "ax.set_xlabel('VICTIMA')\n",
    "# Mostrar la gráfica\n",
    "plt.show()"
   ]
  },
  {
   "cell_type": "markdown",
   "metadata": {},
   "source": [
    "Las motos y los peatones son las principales victimas de accidentes viales."
   ]
  },
  {
   "cell_type": "markdown",
   "metadata": {},
   "source": [
    "🏛️ Exploremos la columna __'ACUSADO'__"
   ]
  },
  {
   "cell_type": "code",
   "execution_count": 58,
   "metadata": {},
   "outputs": [
    {
     "data": {
      "text/plain": [
       "ACUSADO\n",
       "AUTO           204\n",
       "PASAJEROS      173\n",
       "CARGAS         146\n",
       "OBJETO FIJO     62\n",
       "MOTO            57\n",
       "MULTIPLE        17\n",
       "BICICLETA        7\n",
       "OTRO             6\n",
       "TREN             1\n",
       "Name: count, dtype: int64"
      ]
     },
     "execution_count": 58,
     "metadata": {},
     "output_type": "execute_result"
    }
   ],
   "source": [
    "dfHechos['ACUSADO'].value_counts()"
   ]
  },
  {
   "cell_type": "code",
   "execution_count": 59,
   "metadata": {},
   "outputs": [
    {
     "data": {
      "text/html": [
       "<div>\n",
       "<style scoped>\n",
       "    .dataframe tbody tr th:only-of-type {\n",
       "        vertical-align: middle;\n",
       "    }\n",
       "\n",
       "    .dataframe tbody tr th {\n",
       "        vertical-align: top;\n",
       "    }\n",
       "\n",
       "    .dataframe thead th {\n",
       "        text-align: right;\n",
       "    }\n",
       "</style>\n",
       "<table border=\"1\" class=\"dataframe\">\n",
       "  <thead>\n",
       "    <tr style=\"text-align: right;\">\n",
       "      <th></th>\n",
       "      <th>ID</th>\n",
       "      <th>N_VICTIMAS</th>\n",
       "      <th>FECHA</th>\n",
       "      <th>AAAA</th>\n",
       "      <th>MM</th>\n",
       "      <th>DD</th>\n",
       "      <th>HORA</th>\n",
       "      <th>HH</th>\n",
       "      <th>LUGAR_DEL_HECHO</th>\n",
       "      <th>TIPO_DE_CALLE</th>\n",
       "      <th>CALLE</th>\n",
       "      <th>ALTURA</th>\n",
       "      <th>CRUCE</th>\n",
       "      <th>COMUNA</th>\n",
       "      <th>XY_(CABA)</th>\n",
       "      <th>POS_X</th>\n",
       "      <th>POS_Y</th>\n",
       "      <th>PARTICIPANTES</th>\n",
       "      <th>VICTIMA</th>\n",
       "      <th>ACUSADO</th>\n",
       "    </tr>\n",
       "  </thead>\n",
       "  <tbody>\n",
       "    <tr>\n",
       "      <th>3</th>\n",
       "      <td>2016-0004</td>\n",
       "      <td>1</td>\n",
       "      <td>2016-01-10</td>\n",
       "      <td>2016</td>\n",
       "      <td>1</td>\n",
       "      <td>10</td>\n",
       "      <td>00:00:00</td>\n",
       "      <td>0.0</td>\n",
       "      <td>AV LARRAZABAL Y GRAL VILLEGAS CONRADO</td>\n",
       "      <td>AVENIDA</td>\n",
       "      <td>LARRAZABAL AV.</td>\n",
       "      <td>NaN</td>\n",
       "      <td>VILLEGAS, CONRADO, GRAL.</td>\n",
       "      <td>8</td>\n",
       "      <td>Point (99840.65224780 94269.16534422)</td>\n",
       "      <td>-58.46503904</td>\n",
       "      <td>-34.68092974</td>\n",
       "      <td>MOTO_SD</td>\n",
       "      <td>MOTO</td>\n",
       "      <td>&lt;NA&gt;</td>\n",
       "    </tr>\n",
       "    <tr>\n",
       "      <th>32</th>\n",
       "      <td>2016-0045</td>\n",
       "      <td>1</td>\n",
       "      <td>2016-04-11</td>\n",
       "      <td>2016</td>\n",
       "      <td>4</td>\n",
       "      <td>11</td>\n",
       "      <td>10:25:00</td>\n",
       "      <td>10.0</td>\n",
       "      <td>AV GRAL PAZ Y AV DEL LIBERTADOR</td>\n",
       "      <td>GRAL PAZ</td>\n",
       "      <td>PAZ, GRAL. AV.</td>\n",
       "      <td>NaN</td>\n",
       "      <td>DEL LIBERTADOR AV.</td>\n",
       "      <td>13</td>\n",
       "      <td>Point (99620.34936816 110483.29286598)</td>\n",
       "      <td>-58.46743471</td>\n",
       "      <td>-34.53476874</td>\n",
       "      <td>MOTO_SD</td>\n",
       "      <td>MOTO</td>\n",
       "      <td>&lt;NA&gt;</td>\n",
       "    </tr>\n",
       "    <tr>\n",
       "      <th>35</th>\n",
       "      <td>2016-0049</td>\n",
       "      <td>1</td>\n",
       "      <td>2016-04-17</td>\n",
       "      <td>2016</td>\n",
       "      <td>4</td>\n",
       "      <td>17</td>\n",
       "      <td>00:00:00</td>\n",
       "      <td>0.0</td>\n",
       "      <td>AUTOPISTA 1 SUR PRESIDENTE ARTURO FRONDIZI KM....</td>\n",
       "      <td>AUTOPISTA</td>\n",
       "      <td>AUTOPISTA 1 SUR PRESIDENTE ARTURO FRONDIZI</td>\n",
       "      <td>NaN</td>\n",
       "      <td>NaN</td>\n",
       "      <td>4</td>\n",
       "      <td>Point (. .)</td>\n",
       "      <td>-58.37714647568196</td>\n",
       "      <td>-34.63657525428238</td>\n",
       "      <td>PEATON-PASAJEROS</td>\n",
       "      <td>PEATON</td>\n",
       "      <td>&lt;NA&gt;</td>\n",
       "    </tr>\n",
       "    <tr>\n",
       "      <th>38</th>\n",
       "      <td>2016-0052</td>\n",
       "      <td>1</td>\n",
       "      <td>2016-04-20</td>\n",
       "      <td>2016</td>\n",
       "      <td>4</td>\n",
       "      <td>20</td>\n",
       "      <td>20:00:00</td>\n",
       "      <td>20.0</td>\n",
       "      <td>AUTOPISTA LUGONES PK 10000</td>\n",
       "      <td>AUTOPISTA</td>\n",
       "      <td>LUGONES, LEOPOLDO AV.</td>\n",
       "      <td>NaN</td>\n",
       "      <td>NaN</td>\n",
       "      <td>13</td>\n",
       "      <td>Point (. .)</td>\n",
       "      <td>.</td>\n",
       "      <td>.</td>\n",
       "      <td>MOTO_SD</td>\n",
       "      <td>MOTO</td>\n",
       "      <td>&lt;NA&gt;</td>\n",
       "    </tr>\n",
       "    <tr>\n",
       "      <th>57</th>\n",
       "      <td>2016-0080</td>\n",
       "      <td>1</td>\n",
       "      <td>2016-06-18</td>\n",
       "      <td>2016</td>\n",
       "      <td>6</td>\n",
       "      <td>18</td>\n",
       "      <td>06:42:00</td>\n",
       "      <td>6.0</td>\n",
       "      <td>AV GRAL PAZ Y AV RIVADAVIA</td>\n",
       "      <td>GRAL PAZ</td>\n",
       "      <td>PAZ, GRAL. AV.</td>\n",
       "      <td>NaN</td>\n",
       "      <td>RIVADAVIA AV.</td>\n",
       "      <td>9</td>\n",
       "      <td>Point (93950.50587297 98883.37644525)</td>\n",
       "      <td>-58.52927982</td>\n",
       "      <td>-34.63931752</td>\n",
       "      <td>AUTO_SD</td>\n",
       "      <td>AUTO</td>\n",
       "      <td>&lt;NA&gt;</td>\n",
       "    </tr>\n",
       "    <tr>\n",
       "      <th>76</th>\n",
       "      <td>2016-0101</td>\n",
       "      <td>1</td>\n",
       "      <td>2016-08-07</td>\n",
       "      <td>2016</td>\n",
       "      <td>8</td>\n",
       "      <td>7</td>\n",
       "      <td>19:42:00</td>\n",
       "      <td>19.0</td>\n",
       "      <td>AV GRAL PAZ Y JORGE CHAVEZ</td>\n",
       "      <td>GRAL PAZ</td>\n",
       "      <td>PAZ, GRAL. AV.</td>\n",
       "      <td>NaN</td>\n",
       "      <td>CHAVEZ, JORGE</td>\n",
       "      <td>9</td>\n",
       "      <td>Point (93946.81673714 97681.68907836)</td>\n",
       "      <td>-58.52932872</td>\n",
       "      <td>-34.65014993</td>\n",
       "      <td>MOTO-AUTO</td>\n",
       "      <td>MOTO</td>\n",
       "      <td>&lt;NA&gt;</td>\n",
       "    </tr>\n",
       "    <tr>\n",
       "      <th>83</th>\n",
       "      <td>2016-0110</td>\n",
       "      <td>1</td>\n",
       "      <td>2016-08-24</td>\n",
       "      <td>2016</td>\n",
       "      <td>8</td>\n",
       "      <td>24</td>\n",
       "      <td>20:21:00</td>\n",
       "      <td>20.0</td>\n",
       "      <td>AV ALBERDI Y CARHUE</td>\n",
       "      <td>AVENIDA</td>\n",
       "      <td>ALBERDI, JUAN BAUTISTA AV.</td>\n",
       "      <td>NaN</td>\n",
       "      <td>CARHUE</td>\n",
       "      <td>9</td>\n",
       "      <td>Point (95506.35959227 96696.89655626)</td>\n",
       "      <td>-58.51232237</td>\n",
       "      <td>-34.65903530</td>\n",
       "      <td>PEATON_SD</td>\n",
       "      <td>PEATON</td>\n",
       "      <td>&lt;NA&gt;</td>\n",
       "    </tr>\n",
       "    <tr>\n",
       "      <th>92</th>\n",
       "      <td>2016-0119</td>\n",
       "      <td>1</td>\n",
       "      <td>2016-09-04</td>\n",
       "      <td>2016</td>\n",
       "      <td>9</td>\n",
       "      <td>4</td>\n",
       "      <td>06:40:00</td>\n",
       "      <td>6.0</td>\n",
       "      <td>CRISOLOGO LARRALDE Y AVDA TRIUNVIRATO</td>\n",
       "      <td>AVENIDA</td>\n",
       "      <td>LARRALDE, CRISOLOGO AV.</td>\n",
       "      <td>NaN</td>\n",
       "      <td>TRIUNVIRATO AV.</td>\n",
       "      <td>12</td>\n",
       "      <td>Point (96944.69676081 107291.52292157)</td>\n",
       "      <td>-58.49659234</td>\n",
       "      <td>-34.56353635</td>\n",
       "      <td>PASAJEROS_SD</td>\n",
       "      <td>PASAJEROS</td>\n",
       "      <td>&lt;NA&gt;</td>\n",
       "    </tr>\n",
       "    <tr>\n",
       "      <th>105</th>\n",
       "      <td>2016-0135</td>\n",
       "      <td>1</td>\n",
       "      <td>2016-10-24</td>\n",
       "      <td>2016</td>\n",
       "      <td>10</td>\n",
       "      <td>24</td>\n",
       "      <td>05:00:00</td>\n",
       "      <td>5.0</td>\n",
       "      <td>AV FIGUEROA ALCORTA  Y PINEDO</td>\n",
       "      <td>AVENIDA</td>\n",
       "      <td>FIGUEROA ALCORTA, PRES. AV.</td>\n",
       "      <td>NaN</td>\n",
       "      <td>PINEDO, INT.</td>\n",
       "      <td>14</td>\n",
       "      <td>Point (103734.76257993 107235.78328415)</td>\n",
       "      <td>-58.42260225</td>\n",
       "      <td>-34.56403694</td>\n",
       "      <td>PEATON_SD</td>\n",
       "      <td>PEATON</td>\n",
       "      <td>&lt;NA&gt;</td>\n",
       "    </tr>\n",
       "    <tr>\n",
       "      <th>112</th>\n",
       "      <td>2016-0143</td>\n",
       "      <td>1</td>\n",
       "      <td>2016-11-06</td>\n",
       "      <td>2016</td>\n",
       "      <td>11</td>\n",
       "      <td>6</td>\n",
       "      <td>04:41:00</td>\n",
       "      <td>4.0</td>\n",
       "      <td>AV 27 DE FEBRERO Y AV ESCALADA</td>\n",
       "      <td>AVENIDA</td>\n",
       "      <td>27 DE FEBRERO AV.</td>\n",
       "      <td>NaN</td>\n",
       "      <td>ESCALADA AV.</td>\n",
       "      <td>8</td>\n",
       "      <td>Point (101721.59002217 93844.25656649)</td>\n",
       "      <td>-58.44451316</td>\n",
       "      <td>-34.68475866</td>\n",
       "      <td>MOTO_SD</td>\n",
       "      <td>MOTO</td>\n",
       "      <td>&lt;NA&gt;</td>\n",
       "    </tr>\n",
       "    <tr>\n",
       "      <th>119</th>\n",
       "      <td>2016-0151</td>\n",
       "      <td>1</td>\n",
       "      <td>2016-11-18</td>\n",
       "      <td>2016</td>\n",
       "      <td>11</td>\n",
       "      <td>18</td>\n",
       "      <td>20:35:00</td>\n",
       "      <td>20.0</td>\n",
       "      <td>&lt;NA&gt;</td>\n",
       "      <td>CALLE</td>\n",
       "      <td>NaN</td>\n",
       "      <td>NaN</td>\n",
       "      <td>NaN</td>\n",
       "      <td>0</td>\n",
       "      <td>Point (. .)</td>\n",
       "      <td>.</td>\n",
       "      <td>.</td>\n",
       "      <td>PEATON_SD</td>\n",
       "      <td>PEATON</td>\n",
       "      <td>&lt;NA&gt;</td>\n",
       "    </tr>\n",
       "    <tr>\n",
       "      <th>126</th>\n",
       "      <td>2016-0159</td>\n",
       "      <td>1</td>\n",
       "      <td>2016-12-04</td>\n",
       "      <td>2016</td>\n",
       "      <td>12</td>\n",
       "      <td>4</td>\n",
       "      <td>07:21:00</td>\n",
       "      <td>7.0</td>\n",
       "      <td>AV 27 DE FEBRERO Y AV ESCALADA</td>\n",
       "      <td>AVENIDA</td>\n",
       "      <td>27 DE FEBRERO AV.</td>\n",
       "      <td>NaN</td>\n",
       "      <td>ESCALADA AV.</td>\n",
       "      <td>8</td>\n",
       "      <td>Point (101721.59002217 93844.25656649)</td>\n",
       "      <td>-58.44451316</td>\n",
       "      <td>-34.68475866</td>\n",
       "      <td>AUTO_SD</td>\n",
       "      <td>AUTO</td>\n",
       "      <td>&lt;NA&gt;</td>\n",
       "    </tr>\n",
       "    <tr>\n",
       "      <th>139</th>\n",
       "      <td>2016-0174</td>\n",
       "      <td>1</td>\n",
       "      <td>2016-12-27</td>\n",
       "      <td>2016</td>\n",
       "      <td>12</td>\n",
       "      <td>27</td>\n",
       "      <td>00:00:00</td>\n",
       "      <td>0.0</td>\n",
       "      <td>AUTOPISTA 25 DE MAYO</td>\n",
       "      <td>AUTOPISTA</td>\n",
       "      <td>AUTOPISTA 25 DE MAYO</td>\n",
       "      <td>NaN</td>\n",
       "      <td>NaN</td>\n",
       "      <td>0</td>\n",
       "      <td>Point (. .)</td>\n",
       "      <td>.</td>\n",
       "      <td>.</td>\n",
       "      <td>MOTO-CARGAS</td>\n",
       "      <td>MOTO</td>\n",
       "      <td>&lt;NA&gt;</td>\n",
       "    </tr>\n",
       "    <tr>\n",
       "      <th>160</th>\n",
       "      <td>2017-0025</td>\n",
       "      <td>1</td>\n",
       "      <td>2017-02-24</td>\n",
       "      <td>2017</td>\n",
       "      <td>2</td>\n",
       "      <td>24</td>\n",
       "      <td>17:05:00</td>\n",
       "      <td>17.0</td>\n",
       "      <td>AV. FERNANDEZ DE LA CRUZ Y RIVERA INDARTE</td>\n",
       "      <td>AVENIDA</td>\n",
       "      <td>FERNANDEZ DE LA CRUZ, F., GRAL. AV.</td>\n",
       "      <td>NaN</td>\n",
       "      <td>RIVERA INDARTE AV.</td>\n",
       "      <td>7</td>\n",
       "      <td>Point (102489.38230491 97228.94942016)</td>\n",
       "      <td>-58.43614426</td>\n",
       "      <td>-34.65424640</td>\n",
       "      <td>MOTO_SD</td>\n",
       "      <td>MOTO</td>\n",
       "      <td>&lt;NA&gt;</td>\n",
       "    </tr>\n",
       "    <tr>\n",
       "      <th>197</th>\n",
       "      <td>2017-0069</td>\n",
       "      <td>1</td>\n",
       "      <td>2017-05-24</td>\n",
       "      <td>2017</td>\n",
       "      <td>5</td>\n",
       "      <td>24</td>\n",
       "      <td>14:15:00</td>\n",
       "      <td>14.0</td>\n",
       "      <td>AV. GRAL. PAZ Y ULRICO SCHMIDL</td>\n",
       "      <td>GRAL PAZ</td>\n",
       "      <td>PAZ, GRAL. AV.</td>\n",
       "      <td>NaN</td>\n",
       "      <td>SCHMIDL, ULRICO</td>\n",
       "      <td>9</td>\n",
       "      <td>Point (94644.00300729 96592.22735507)</td>\n",
       "      <td>-58.52173071</td>\n",
       "      <td>-34.65997463</td>\n",
       "      <td>MOTO_SD</td>\n",
       "      <td>MOTO</td>\n",
       "      <td>&lt;NA&gt;</td>\n",
       "    </tr>\n",
       "    <tr>\n",
       "      <th>201</th>\n",
       "      <td>2017-0074</td>\n",
       "      <td>1</td>\n",
       "      <td>2017-06-04</td>\n",
       "      <td>2017</td>\n",
       "      <td>6</td>\n",
       "      <td>4</td>\n",
       "      <td>12:50:00</td>\n",
       "      <td>12.0</td>\n",
       "      <td>CASCO 133</td>\n",
       "      <td>CALLE</td>\n",
       "      <td>CASCO</td>\n",
       "      <td>133.0</td>\n",
       "      <td>NaN</td>\n",
       "      <td>9</td>\n",
       "      <td>Point (94281.31244858 99043.29027489)</td>\n",
       "      <td>-58.52567073</td>\n",
       "      <td>-34.63787791</td>\n",
       "      <td>NaN</td>\n",
       "      <td>NaN</td>\n",
       "      <td>&lt;NA&gt;</td>\n",
       "    </tr>\n",
       "    <tr>\n",
       "      <th>216</th>\n",
       "      <td>2017-0091</td>\n",
       "      <td>1</td>\n",
       "      <td>2017-07-15</td>\n",
       "      <td>2017</td>\n",
       "      <td>7</td>\n",
       "      <td>15</td>\n",
       "      <td>13:00:00</td>\n",
       "      <td>13.0</td>\n",
       "      <td>SUPERI Y AV. GRAL. PAZ</td>\n",
       "      <td>GRAL PAZ</td>\n",
       "      <td>SUPERI</td>\n",
       "      <td>NaN</td>\n",
       "      <td>PAZ, GRAL. AV.</td>\n",
       "      <td>12</td>\n",
       "      <td>Point (97850.57417090 109546.39428377)</td>\n",
       "      <td>-58.48671535</td>\n",
       "      <td>-34.54321216</td>\n",
       "      <td>MOTO_SD</td>\n",
       "      <td>MOTO</td>\n",
       "      <td>&lt;NA&gt;</td>\n",
       "    </tr>\n",
       "    <tr>\n",
       "      <th>393</th>\n",
       "      <td>2018-0119</td>\n",
       "      <td>1</td>\n",
       "      <td>2018-11-05</td>\n",
       "      <td>2018</td>\n",
       "      <td>11</td>\n",
       "      <td>5</td>\n",
       "      <td>22:35:00</td>\n",
       "      <td>22.0</td>\n",
       "      <td>Rabanal y San Pedrito</td>\n",
       "      <td>AVENIDA</td>\n",
       "      <td>RABANAL, FRANCISCO, INTENDENTE AV.</td>\n",
       "      <td>NaN</td>\n",
       "      <td>SAN PEDRITO</td>\n",
       "      <td>8</td>\n",
       "      <td>Point (102489.86457298 96266.15892101)</td>\n",
       "      <td>-58.43613623</td>\n",
       "      <td>-34.66292532</td>\n",
       "      <td>PEATON_SD</td>\n",
       "      <td>PEATON</td>\n",
       "      <td>&lt;NA&gt;</td>\n",
       "    </tr>\n",
       "    <tr>\n",
       "      <th>397</th>\n",
       "      <td>2018-0123</td>\n",
       "      <td>1</td>\n",
       "      <td>2018-11-12</td>\n",
       "      <td>2018</td>\n",
       "      <td>11</td>\n",
       "      <td>12</td>\n",
       "      <td>03:32:00</td>\n",
       "      <td>3.0</td>\n",
       "      <td>Paz, Gral. Av. y Peron, Eva Av.</td>\n",
       "      <td>GRAL PAZ</td>\n",
       "      <td>PAZ, GRAL. AV.</td>\n",
       "      <td>NaN</td>\n",
       "      <td>PERON, EVA AV.</td>\n",
       "      <td>9</td>\n",
       "      <td>Point (96405.76679348 94981.38013791)</td>\n",
       "      <td>-58.50251790</td>\n",
       "      <td>-34.67450313</td>\n",
       "      <td>AUTO_SD</td>\n",
       "      <td>AUTO</td>\n",
       "      <td>&lt;NA&gt;</td>\n",
       "    </tr>\n",
       "    <tr>\n",
       "      <th>439</th>\n",
       "      <td>2019-0022</td>\n",
       "      <td>1</td>\n",
       "      <td>2019-03-15</td>\n",
       "      <td>2019</td>\n",
       "      <td>3</td>\n",
       "      <td>15</td>\n",
       "      <td>00:00:00</td>\n",
       "      <td>0.0</td>\n",
       "      <td>ENTRE RIOS AV. BAJO PUENTE AUTOPISTA (1260 APROX)</td>\n",
       "      <td>AVENIDA</td>\n",
       "      <td>ENTRE RIOS AV.</td>\n",
       "      <td>1260.0</td>\n",
       "      <td>NaN</td>\n",
       "      <td>1</td>\n",
       "      <td>Point (106608.39392805 100635.27735528)</td>\n",
       "      <td>-58.39123782</td>\n",
       "      <td>-34.62352245</td>\n",
       "      <td>AUTO_SD</td>\n",
       "      <td>AUTO</td>\n",
       "      <td>&lt;NA&gt;</td>\n",
       "    </tr>\n",
       "    <tr>\n",
       "      <th>450</th>\n",
       "      <td>2019-0033</td>\n",
       "      <td>1</td>\n",
       "      <td>2019-04-18</td>\n",
       "      <td>2019</td>\n",
       "      <td>4</td>\n",
       "      <td>18</td>\n",
       "      <td>01:00:00</td>\n",
       "      <td>1.0</td>\n",
       "      <td>AUTOPISTA 25 DE MAYO Y HUERGO, ING. AV.</td>\n",
       "      <td>AUTOPISTA</td>\n",
       "      <td>AUTOPISTA 25 DE MAYO</td>\n",
       "      <td>NaN</td>\n",
       "      <td>HUERGO, ING. AV.</td>\n",
       "      <td>1</td>\n",
       "      <td>Point (108916.48040002 100856.88142642)</td>\n",
       "      <td>-58.36607137</td>\n",
       "      <td>-34.62150748</td>\n",
       "      <td>MOTO_SD</td>\n",
       "      <td>MOTO</td>\n",
       "      <td>&lt;NA&gt;</td>\n",
       "    </tr>\n",
       "    <tr>\n",
       "      <th>457</th>\n",
       "      <td>2019-0040</td>\n",
       "      <td>1</td>\n",
       "      <td>2019-05-09</td>\n",
       "      <td>2019</td>\n",
       "      <td>5</td>\n",
       "      <td>9</td>\n",
       "      <td>12:45:00</td>\n",
       "      <td>12.0</td>\n",
       "      <td>PUAN Y SANTANDER</td>\n",
       "      <td>CALLE</td>\n",
       "      <td>PUAN</td>\n",
       "      <td>NaN</td>\n",
       "      <td>SANTANDER</td>\n",
       "      <td>7</td>\n",
       "      <td>Point (101894.68493124 99164.78448252)</td>\n",
       "      <td>-58.44263580</td>\n",
       "      <td>-34.63679732</td>\n",
       "      <td>MOTO_SD</td>\n",
       "      <td>MOTO</td>\n",
       "      <td>&lt;NA&gt;</td>\n",
       "    </tr>\n",
       "    <tr>\n",
       "      <th>620</th>\n",
       "      <td>2021-0022</td>\n",
       "      <td>1</td>\n",
       "      <td>2021-02-28</td>\n",
       "      <td>2021</td>\n",
       "      <td>2</td>\n",
       "      <td>28</td>\n",
       "      <td>12:00:00</td>\n",
       "      <td>12.0</td>\n",
       "      <td>DEL LIBERTADOR AV. Y ROOSEVELT FRANKLIN D.</td>\n",
       "      <td>AVENIDA</td>\n",
       "      <td>DEL LIBERTADOR AV.</td>\n",
       "      <td>NaN</td>\n",
       "      <td>ROOSEVELT FRANKLIN D.</td>\n",
       "      <td>13</td>\n",
       "      <td>Point (101075.92147827 108552.55000854)</td>\n",
       "      <td>-58.45157681</td>\n",
       "      <td>-34.55217303</td>\n",
       "      <td>PASAJEROS_SD</td>\n",
       "      <td>PASAJEROS</td>\n",
       "      <td>&lt;NA&gt;</td>\n",
       "    </tr>\n",
       "  </tbody>\n",
       "</table>\n",
       "</div>"
      ],
      "text/plain": [
       "            ID  N_VICTIMAS      FECHA  AAAA  MM  DD      HORA    HH  \\\n",
       "3    2016-0004           1 2016-01-10  2016   1  10  00:00:00   0.0   \n",
       "32   2016-0045           1 2016-04-11  2016   4  11  10:25:00  10.0   \n",
       "35   2016-0049           1 2016-04-17  2016   4  17  00:00:00   0.0   \n",
       "38   2016-0052           1 2016-04-20  2016   4  20  20:00:00  20.0   \n",
       "57   2016-0080           1 2016-06-18  2016   6  18  06:42:00   6.0   \n",
       "76   2016-0101           1 2016-08-07  2016   8   7  19:42:00  19.0   \n",
       "83   2016-0110           1 2016-08-24  2016   8  24  20:21:00  20.0   \n",
       "92   2016-0119           1 2016-09-04  2016   9   4  06:40:00   6.0   \n",
       "105  2016-0135           1 2016-10-24  2016  10  24  05:00:00   5.0   \n",
       "112  2016-0143           1 2016-11-06  2016  11   6  04:41:00   4.0   \n",
       "119  2016-0151           1 2016-11-18  2016  11  18  20:35:00  20.0   \n",
       "126  2016-0159           1 2016-12-04  2016  12   4  07:21:00   7.0   \n",
       "139  2016-0174           1 2016-12-27  2016  12  27  00:00:00   0.0   \n",
       "160  2017-0025           1 2017-02-24  2017   2  24  17:05:00  17.0   \n",
       "197  2017-0069           1 2017-05-24  2017   5  24  14:15:00  14.0   \n",
       "201  2017-0074           1 2017-06-04  2017   6   4  12:50:00  12.0   \n",
       "216  2017-0091           1 2017-07-15  2017   7  15  13:00:00  13.0   \n",
       "393  2018-0119           1 2018-11-05  2018  11   5  22:35:00  22.0   \n",
       "397  2018-0123           1 2018-11-12  2018  11  12  03:32:00   3.0   \n",
       "439  2019-0022           1 2019-03-15  2019   3  15  00:00:00   0.0   \n",
       "450  2019-0033           1 2019-04-18  2019   4  18  01:00:00   1.0   \n",
       "457  2019-0040           1 2019-05-09  2019   5   9  12:45:00  12.0   \n",
       "620  2021-0022           1 2021-02-28  2021   2  28  12:00:00  12.0   \n",
       "\n",
       "                                       LUGAR_DEL_HECHO TIPO_DE_CALLE  \\\n",
       "3                AV LARRAZABAL Y GRAL VILLEGAS CONRADO       AVENIDA   \n",
       "32                     AV GRAL PAZ Y AV DEL LIBERTADOR      GRAL PAZ   \n",
       "35   AUTOPISTA 1 SUR PRESIDENTE ARTURO FRONDIZI KM....     AUTOPISTA   \n",
       "38                          AUTOPISTA LUGONES PK 10000     AUTOPISTA   \n",
       "57                          AV GRAL PAZ Y AV RIVADAVIA      GRAL PAZ   \n",
       "76                          AV GRAL PAZ Y JORGE CHAVEZ      GRAL PAZ   \n",
       "83                                 AV ALBERDI Y CARHUE       AVENIDA   \n",
       "92               CRISOLOGO LARRALDE Y AVDA TRIUNVIRATO       AVENIDA   \n",
       "105                      AV FIGUEROA ALCORTA  Y PINEDO       AVENIDA   \n",
       "112                     AV 27 DE FEBRERO Y AV ESCALADA       AVENIDA   \n",
       "119                                               <NA>         CALLE   \n",
       "126                     AV 27 DE FEBRERO Y AV ESCALADA       AVENIDA   \n",
       "139                               AUTOPISTA 25 DE MAYO     AUTOPISTA   \n",
       "160          AV. FERNANDEZ DE LA CRUZ Y RIVERA INDARTE       AVENIDA   \n",
       "197                     AV. GRAL. PAZ Y ULRICO SCHMIDL      GRAL PAZ   \n",
       "201                                          CASCO 133         CALLE   \n",
       "216                             SUPERI Y AV. GRAL. PAZ      GRAL PAZ   \n",
       "393                              Rabanal y San Pedrito       AVENIDA   \n",
       "397                    Paz, Gral. Av. y Peron, Eva Av.      GRAL PAZ   \n",
       "439  ENTRE RIOS AV. BAJO PUENTE AUTOPISTA (1260 APROX)       AVENIDA   \n",
       "450            AUTOPISTA 25 DE MAYO Y HUERGO, ING. AV.     AUTOPISTA   \n",
       "457                                   PUAN Y SANTANDER         CALLE   \n",
       "620         DEL LIBERTADOR AV. Y ROOSEVELT FRANKLIN D.       AVENIDA   \n",
       "\n",
       "                                          CALLE  ALTURA  \\\n",
       "3                                LARRAZABAL AV.     NaN   \n",
       "32                               PAZ, GRAL. AV.     NaN   \n",
       "35   AUTOPISTA 1 SUR PRESIDENTE ARTURO FRONDIZI     NaN   \n",
       "38                        LUGONES, LEOPOLDO AV.     NaN   \n",
       "57                               PAZ, GRAL. AV.     NaN   \n",
       "76                               PAZ, GRAL. AV.     NaN   \n",
       "83                   ALBERDI, JUAN BAUTISTA AV.     NaN   \n",
       "92                      LARRALDE, CRISOLOGO AV.     NaN   \n",
       "105                 FIGUEROA ALCORTA, PRES. AV.     NaN   \n",
       "112                           27 DE FEBRERO AV.     NaN   \n",
       "119                                         NaN     NaN   \n",
       "126                           27 DE FEBRERO AV.     NaN   \n",
       "139                        AUTOPISTA 25 DE MAYO     NaN   \n",
       "160         FERNANDEZ DE LA CRUZ, F., GRAL. AV.     NaN   \n",
       "197                              PAZ, GRAL. AV.     NaN   \n",
       "201                                       CASCO   133.0   \n",
       "216                                      SUPERI     NaN   \n",
       "393          RABANAL, FRANCISCO, INTENDENTE AV.     NaN   \n",
       "397                              PAZ, GRAL. AV.     NaN   \n",
       "439                              ENTRE RIOS AV.  1260.0   \n",
       "450                        AUTOPISTA 25 DE MAYO     NaN   \n",
       "457                                        PUAN     NaN   \n",
       "620                          DEL LIBERTADOR AV.     NaN   \n",
       "\n",
       "                        CRUCE  COMUNA  \\\n",
       "3    VILLEGAS, CONRADO, GRAL.       8   \n",
       "32         DEL LIBERTADOR AV.      13   \n",
       "35                        NaN       4   \n",
       "38                        NaN      13   \n",
       "57              RIVADAVIA AV.       9   \n",
       "76              CHAVEZ, JORGE       9   \n",
       "83                     CARHUE       9   \n",
       "92            TRIUNVIRATO AV.      12   \n",
       "105              PINEDO, INT.      14   \n",
       "112              ESCALADA AV.       8   \n",
       "119                       NaN       0   \n",
       "126              ESCALADA AV.       8   \n",
       "139                       NaN       0   \n",
       "160        RIVERA INDARTE AV.       7   \n",
       "197           SCHMIDL, ULRICO       9   \n",
       "201                       NaN       9   \n",
       "216            PAZ, GRAL. AV.      12   \n",
       "393               SAN PEDRITO       8   \n",
       "397            PERON, EVA AV.       9   \n",
       "439                       NaN       1   \n",
       "450          HUERGO, ING. AV.       1   \n",
       "457                 SANTANDER       7   \n",
       "620     ROOSEVELT FRANKLIN D.      13   \n",
       "\n",
       "                                   XY_(CABA)               POS_X  \\\n",
       "3      Point (99840.65224780 94269.16534422)        -58.46503904   \n",
       "32    Point (99620.34936816 110483.29286598)        -58.46743471   \n",
       "35                               Point (. .)  -58.37714647568196   \n",
       "38                               Point (. .)                   .   \n",
       "57     Point (93950.50587297 98883.37644525)        -58.52927982   \n",
       "76     Point (93946.81673714 97681.68907836)        -58.52932872   \n",
       "83     Point (95506.35959227 96696.89655626)        -58.51232237   \n",
       "92    Point (96944.69676081 107291.52292157)        -58.49659234   \n",
       "105  Point (103734.76257993 107235.78328415)        -58.42260225   \n",
       "112   Point (101721.59002217 93844.25656649)        -58.44451316   \n",
       "119                              Point (. .)                   .   \n",
       "126   Point (101721.59002217 93844.25656649)        -58.44451316   \n",
       "139                              Point (. .)                   .   \n",
       "160   Point (102489.38230491 97228.94942016)        -58.43614426   \n",
       "197    Point (94644.00300729 96592.22735507)        -58.52173071   \n",
       "201    Point (94281.31244858 99043.29027489)        -58.52567073   \n",
       "216   Point (97850.57417090 109546.39428377)        -58.48671535   \n",
       "393   Point (102489.86457298 96266.15892101)        -58.43613623   \n",
       "397    Point (96405.76679348 94981.38013791)        -58.50251790   \n",
       "439  Point (106608.39392805 100635.27735528)        -58.39123782   \n",
       "450  Point (108916.48040002 100856.88142642)        -58.36607137   \n",
       "457   Point (101894.68493124 99164.78448252)        -58.44263580   \n",
       "620  Point (101075.92147827 108552.55000854)        -58.45157681   \n",
       "\n",
       "                  POS_Y     PARTICIPANTES    VICTIMA ACUSADO  \n",
       "3          -34.68092974           MOTO_SD       MOTO    <NA>  \n",
       "32         -34.53476874           MOTO_SD       MOTO    <NA>  \n",
       "35   -34.63657525428238  PEATON-PASAJEROS     PEATON    <NA>  \n",
       "38                    .           MOTO_SD       MOTO    <NA>  \n",
       "57         -34.63931752           AUTO_SD       AUTO    <NA>  \n",
       "76         -34.65014993         MOTO-AUTO       MOTO    <NA>  \n",
       "83         -34.65903530         PEATON_SD     PEATON    <NA>  \n",
       "92         -34.56353635      PASAJEROS_SD  PASAJEROS    <NA>  \n",
       "105        -34.56403694         PEATON_SD     PEATON    <NA>  \n",
       "112        -34.68475866           MOTO_SD       MOTO    <NA>  \n",
       "119                   .         PEATON_SD     PEATON    <NA>  \n",
       "126        -34.68475866           AUTO_SD       AUTO    <NA>  \n",
       "139                   .       MOTO-CARGAS       MOTO    <NA>  \n",
       "160        -34.65424640           MOTO_SD       MOTO    <NA>  \n",
       "197        -34.65997463           MOTO_SD       MOTO    <NA>  \n",
       "201        -34.63787791               NaN        NaN    <NA>  \n",
       "216        -34.54321216           MOTO_SD       MOTO    <NA>  \n",
       "393        -34.66292532         PEATON_SD     PEATON    <NA>  \n",
       "397        -34.67450313           AUTO_SD       AUTO    <NA>  \n",
       "439        -34.62352245           AUTO_SD       AUTO    <NA>  \n",
       "450        -34.62150748           MOTO_SD       MOTO    <NA>  \n",
       "457        -34.63679732           MOTO_SD       MOTO    <NA>  \n",
       "620        -34.55217303      PASAJEROS_SD  PASAJEROS    <NA>  "
      ]
     },
     "execution_count": 59,
     "metadata": {},
     "output_type": "execute_result"
    }
   ],
   "source": [
    "dfHechos.loc[dfHechos['ACUSADO'].isna()]"
   ]
  },
  {
   "cell_type": "markdown",
   "metadata": {},
   "source": [
    "Hagamos que el tipo de valor nulo de la columna 'ACUSADO' sean el mismo tipo NaN del resto del dataframe"
   ]
  },
  {
   "cell_type": "code",
   "execution_count": 60,
   "metadata": {},
   "outputs": [],
   "source": [
    "dfHechos['ACUSADO'] = dfHechos['ACUSADO'].fillna(np.nan)"
   ]
  },
  {
   "cell_type": "markdown",
   "metadata": {},
   "source": [
    "Vamos a buscar pistas en dfVictimas para ver si podemos completar los valores faltantes en la columna 'ACUSADO'<br>de dfHechos"
   ]
  },
  {
   "cell_type": "code",
   "execution_count": 61,
   "metadata": {},
   "outputs": [
    {
     "data": {
      "text/plain": [
       "Index(['ID_hecho', 'FECHA', 'AAAA', 'MM', 'DD', 'ROL', 'VICTIMA', 'SEXO',\n",
       "       'EDAD', 'FECHA_FALLECIMIENTO'],\n",
       "      dtype='object')"
      ]
     },
     "execution_count": 61,
     "metadata": {},
     "output_type": "execute_result"
    }
   ],
   "source": [
    "dfVictimas.columns"
   ]
  },
  {
   "cell_type": "markdown",
   "metadata": {},
   "source": [
    "⬆️En dfVictimas no hay una columna que de informacion sobre acusados."
   ]
  },
  {
   "cell_type": "markdown",
   "metadata": {},
   "source": [
    "Veamos un panorama grafico de la columna 'ACUSADO'"
   ]
  },
  {
   "cell_type": "code",
   "execution_count": 62,
   "metadata": {},
   "outputs": [
    {
     "data": {
      "image/png": "[encoded data removed]",
      "text/plain": [
       "<Figure size 1440x576 with 1 Axes>"
      ]
     },
     "metadata": {
      "needs_background": "light"
     },
     "output_type": "display_data"
    }
   ],
   "source": [
    "# Ajustar el tamaño de la figura\n",
    "plt.figure(figsize = (20, 8))\n",
    "\n",
    "# Crear el countplot para la columna 'ACUSADO'\n",
    "sns.countplot(x = 'ACUSADO', data = dfHechos)\n",
    "\n",
    "# Mostrar la gráfica\n",
    "plt.show()"
   ]
  },
  {
   "cell_type": "markdown",
   "metadata": {},
   "source": [
    "Vehiculos particulares, pasajeros del transporte publico y el transporte de carga son los que estan provocando mas accidentes."
   ]
  },
  {
   "cell_type": "markdown",
   "metadata": {},
   "source": [
    "🏛️ Exploremos las columnas __'XY\\_(CABA)'__, __'POS_X'__ y __'POS_Y'__"
   ]
  },
  {
   "cell_type": "markdown",
   "metadata": {},
   "source": [
    "Estas son columnas de datos geoespaciales lo que implica un tratamiento especial siendo el tipo de dato aun poco mas complejo. Los datos geoespaciales no son simplemente numeros o cadenas de texto, son datos espaciales que representan entidades del mundo real como puntos, lineas y poligonos. Estos datos requieren un tratamiento especial debido a su complejidad y a las diferentes formas en que pueden ser representados y almacenados.<br>\n",
    "Existen diferentes sistemas de coordenadas como el Sistema de Coordenadas Geodesicas Mundial (WGS84) y el Sistema de Coordenadas Universal Transversal de Mercator (UTM). El mas comun es UTM pero segun el diccionario de datos que acompaña el dataset del proyecto las coordenadas de las columnas 'POS_X' y 'POS_Y' estan en WGS84. En cambio, la columna 'XY_(CABA)' utiliza un sistema de referencia bidimensional que se utiliza para definir la ubicacion de puntos en un plano. Se define por dos ejes perpendiculares entre si, generalmente llamados eje X y eje Y.<br><br>\n",
    "🗣️ En consecuencia hemos decidido sacar estas tres columnas porque no utilizaremos graficas de mapas para la representacion geoespacial."
   ]
  },
  {
   "cell_type": "code",
   "execution_count": 63,
   "metadata": {},
   "outputs": [
    {
     "name": "stdout",
     "output_type": "stream",
     "text": [
      "<class 'pandas.core.frame.DataFrame'>\n",
      "RangeIndex: 696 entries, 0 to 695\n",
      "Data columns (total 17 columns):\n",
      " #   Column           Non-Null Count  Dtype         \n",
      "---  ------           --------------  -----         \n",
      " 0   ID               696 non-null    object        \n",
      " 1   N_VICTIMAS       696 non-null    int64         \n",
      " 2   FECHA            696 non-null    datetime64[ns]\n",
      " 3   AAAA             696 non-null    int64         \n",
      " 4   MM               696 non-null    int64         \n",
      " 5   DD               696 non-null    int64         \n",
      " 6   HORA             696 non-null    object        \n",
      " 7   HH               695 non-null    float64       \n",
      " 8   LUGAR_DEL_HECHO  695 non-null    object        \n",
      " 9   TIPO_DE_CALLE    696 non-null    object        \n",
      " 10  CALLE            695 non-null    object        \n",
      " 11  ALTURA           129 non-null    float64       \n",
      " 12  CRUCE            525 non-null    object        \n",
      " 13  COMUNA           696 non-null    int64         \n",
      " 14  PARTICIPANTES    695 non-null    object        \n",
      " 15  VICTIMA          691 non-null    object        \n",
      " 16  ACUSADO          673 non-null    object        \n",
      "dtypes: datetime64[ns](1), float64(2), int64(5), object(9)\n",
      "memory usage: 92.6+ KB\n"
     ]
    }
   ],
   "source": [
    "dfHechos = dfHechos.drop(['XY_(CABA)','POS_X', 'POS_Y'], axis=1)\n",
    "\n",
    "dfHechos.info()"
   ]
  },
  {
   "cell_type": "code",
   "execution_count": 64,
   "metadata": {},
   "outputs": [
    {
     "data": {
      "text/plain": [
       "['ID',\n",
       " 'FECHA',\n",
       " 'HORA',\n",
       " 'LUGAR_DEL_HECHO',\n",
       " 'TIPO_DE_CALLE',\n",
       " 'CALLE',\n",
       " 'CRUCE',\n",
       " 'PARTICIPANTES',\n",
       " 'VICTIMA',\n",
       " 'ACUSADO']"
      ]
     },
     "execution_count": 64,
     "metadata": {},
     "output_type": "execute_result"
    }
   ],
   "source": [
    "dfHechos.describe(exclude = 'number').columns.to_list()"
   ]
  },
  {
   "cell_type": "markdown",
   "metadata": {},
   "source": [
    "#### Veamos las columnas __NUMERICAS__"
   ]
  },
  {
   "cell_type": "code",
   "execution_count": 65,
   "metadata": {},
   "outputs": [
    {
     "data": {
      "text/html": [
       "<div>\n",
       "<style scoped>\n",
       "    .dataframe tbody tr th:only-of-type {\n",
       "        vertical-align: middle;\n",
       "    }\n",
       "\n",
       "    .dataframe tbody tr th {\n",
       "        vertical-align: top;\n",
       "    }\n",
       "\n",
       "    .dataframe thead th {\n",
       "        text-align: right;\n",
       "    }\n",
       "</style>\n",
       "<table border=\"1\" class=\"dataframe\">\n",
       "  <thead>\n",
       "    <tr style=\"text-align: right;\">\n",
       "      <th></th>\n",
       "      <th>N_VICTIMAS</th>\n",
       "      <th>FECHA</th>\n",
       "      <th>AAAA</th>\n",
       "      <th>MM</th>\n",
       "      <th>DD</th>\n",
       "      <th>HH</th>\n",
       "      <th>ALTURA</th>\n",
       "      <th>COMUNA</th>\n",
       "    </tr>\n",
       "  </thead>\n",
       "  <tbody>\n",
       "    <tr>\n",
       "      <th>count</th>\n",
       "      <td>696.000000</td>\n",
       "      <td>696</td>\n",
       "      <td>696.000000</td>\n",
       "      <td>696.000000</td>\n",
       "      <td>696.000000</td>\n",
       "      <td>695.000000</td>\n",
       "      <td>129.000000</td>\n",
       "      <td>696.000000</td>\n",
       "    </tr>\n",
       "    <tr>\n",
       "      <th>mean</th>\n",
       "      <td>1.030172</td>\n",
       "      <td>2018-09-14 05:12:24.827586048</td>\n",
       "      <td>2018.188218</td>\n",
       "      <td>6.692529</td>\n",
       "      <td>15.936782</td>\n",
       "      <td>11.657554</td>\n",
       "      <td>3336.635659</td>\n",
       "      <td>7.425287</td>\n",
       "    </tr>\n",
       "    <tr>\n",
       "      <th>min</th>\n",
       "      <td>1.000000</td>\n",
       "      <td>2016-01-01 00:00:00</td>\n",
       "      <td>2016.000000</td>\n",
       "      <td>1.000000</td>\n",
       "      <td>1.000000</td>\n",
       "      <td>0.000000</td>\n",
       "      <td>30.000000</td>\n",
       "      <td>0.000000</td>\n",
       "    </tr>\n",
       "    <tr>\n",
       "      <th>25%</th>\n",
       "      <td>1.000000</td>\n",
       "      <td>2017-04-02 12:00:00</td>\n",
       "      <td>2017.000000</td>\n",
       "      <td>4.000000</td>\n",
       "      <td>9.000000</td>\n",
       "      <td>6.000000</td>\n",
       "      <td>1359.000000</td>\n",
       "      <td>4.000000</td>\n",
       "    </tr>\n",
       "    <tr>\n",
       "      <th>50%</th>\n",
       "      <td>1.000000</td>\n",
       "      <td>2018-07-12 12:00:00</td>\n",
       "      <td>2018.000000</td>\n",
       "      <td>7.000000</td>\n",
       "      <td>16.000000</td>\n",
       "      <td>11.000000</td>\n",
       "      <td>2551.000000</td>\n",
       "      <td>8.000000</td>\n",
       "    </tr>\n",
       "    <tr>\n",
       "      <th>75%</th>\n",
       "      <td>1.000000</td>\n",
       "      <td>2020-01-04 06:00:00</td>\n",
       "      <td>2020.000000</td>\n",
       "      <td>10.000000</td>\n",
       "      <td>23.000000</td>\n",
       "      <td>17.500000</td>\n",
       "      <td>4500.000000</td>\n",
       "      <td>11.000000</td>\n",
       "    </tr>\n",
       "    <tr>\n",
       "      <th>max</th>\n",
       "      <td>3.000000</td>\n",
       "      <td>2021-12-30 00:00:00</td>\n",
       "      <td>2021.000000</td>\n",
       "      <td>12.000000</td>\n",
       "      <td>31.000000</td>\n",
       "      <td>23.000000</td>\n",
       "      <td>16080.000000</td>\n",
       "      <td>15.000000</td>\n",
       "    </tr>\n",
       "    <tr>\n",
       "      <th>std</th>\n",
       "      <td>0.179393</td>\n",
       "      <td>NaN</td>\n",
       "      <td>1.683754</td>\n",
       "      <td>3.571309</td>\n",
       "      <td>8.639646</td>\n",
       "      <td>6.700090</td>\n",
       "      <td>3060.641793</td>\n",
       "      <td>4.387050</td>\n",
       "    </tr>\n",
       "  </tbody>\n",
       "</table>\n",
       "</div>"
      ],
      "text/plain": [
       "       N_VICTIMAS                          FECHA         AAAA          MM  \\\n",
       "count  696.000000                            696   696.000000  696.000000   \n",
       "mean     1.030172  2018-09-14 05:12:24.827586048  2018.188218    6.692529   \n",
       "min      1.000000            2016-01-01 00:00:00  2016.000000    1.000000   \n",
       "25%      1.000000            2017-04-02 12:00:00  2017.000000    4.000000   \n",
       "50%      1.000000            2018-07-12 12:00:00  2018.000000    7.000000   \n",
       "75%      1.000000            2020-01-04 06:00:00  2020.000000   10.000000   \n",
       "max      3.000000            2021-12-30 00:00:00  2021.000000   12.000000   \n",
       "std      0.179393                            NaN     1.683754    3.571309   \n",
       "\n",
       "               DD          HH        ALTURA      COMUNA  \n",
       "count  696.000000  695.000000    129.000000  696.000000  \n",
       "mean    15.936782   11.657554   3336.635659    7.425287  \n",
       "min      1.000000    0.000000     30.000000    0.000000  \n",
       "25%      9.000000    6.000000   1359.000000    4.000000  \n",
       "50%     16.000000   11.000000   2551.000000    8.000000  \n",
       "75%     23.000000   17.500000   4500.000000   11.000000  \n",
       "max     31.000000   23.000000  16080.000000   15.000000  \n",
       "std      8.639646    6.700090   3060.641793    4.387050  "
      ]
     },
     "execution_count": 65,
     "metadata": {},
     "output_type": "execute_result"
    }
   ],
   "source": [
    "# describe() sin parametros solo muestra las columnas numericas \n",
    "dfHechos.describe()"
   ]
  },
  {
   "cell_type": "code",
   "execution_count": 66,
   "metadata": {},
   "outputs": [
    {
     "name": "stdout",
     "output_type": "stream",
     "text": [
      "<class 'pandas.core.frame.DataFrame'>\n",
      "RangeIndex: 696 entries, 0 to 695\n",
      "Data columns (total 8 columns):\n",
      " #   Column      Non-Null Count  Dtype         \n",
      "---  ------      --------------  -----         \n",
      " 0   N_VICTIMAS  696 non-null    int64         \n",
      " 1   FECHA       696 non-null    datetime64[ns]\n",
      " 2   AAAA        696 non-null    int64         \n",
      " 3   MM          696 non-null    int64         \n",
      " 4   DD          696 non-null    int64         \n",
      " 5   HH          695 non-null    float64       \n",
      " 6   ALTURA      129 non-null    float64       \n",
      " 7   COMUNA      696 non-null    int64         \n",
      "dtypes: datetime64[ns](1), float64(2), int64(5)\n",
      "memory usage: 43.6 KB\n"
     ]
    }
   ],
   "source": [
    "dfHechos[dfHechos.describe().columns].info()"
   ]
  },
  {
   "cell_type": "code",
   "execution_count": 67,
   "metadata": {},
   "outputs": [
    {
     "data": {
      "text/html": [
       "<div>\n",
       "<style scoped>\n",
       "    .dataframe tbody tr th:only-of-type {\n",
       "        vertical-align: middle;\n",
       "    }\n",
       "\n",
       "    .dataframe tbody tr th {\n",
       "        vertical-align: top;\n",
       "    }\n",
       "\n",
       "    .dataframe thead th {\n",
       "        text-align: right;\n",
       "    }\n",
       "</style>\n",
       "<table border=\"1\" class=\"dataframe\">\n",
       "  <thead>\n",
       "    <tr style=\"text-align: right;\">\n",
       "      <th></th>\n",
       "      <th>N_VICTIMAS</th>\n",
       "      <th>FECHA</th>\n",
       "      <th>AAAA</th>\n",
       "      <th>MM</th>\n",
       "      <th>DD</th>\n",
       "      <th>HH</th>\n",
       "      <th>ALTURA</th>\n",
       "      <th>COMUNA</th>\n",
       "    </tr>\n",
       "  </thead>\n",
       "  <tbody>\n",
       "    <tr>\n",
       "      <th>0</th>\n",
       "      <td>1</td>\n",
       "      <td>2016-01-01</td>\n",
       "      <td>2016</td>\n",
       "      <td>1</td>\n",
       "      <td>1</td>\n",
       "      <td>4.0</td>\n",
       "      <td>NaN</td>\n",
       "      <td>8</td>\n",
       "    </tr>\n",
       "    <tr>\n",
       "      <th>1</th>\n",
       "      <td>1</td>\n",
       "      <td>2016-01-02</td>\n",
       "      <td>2016</td>\n",
       "      <td>1</td>\n",
       "      <td>2</td>\n",
       "      <td>1.0</td>\n",
       "      <td>NaN</td>\n",
       "      <td>9</td>\n",
       "    </tr>\n",
       "    <tr>\n",
       "      <th>2</th>\n",
       "      <td>1</td>\n",
       "      <td>2016-01-03</td>\n",
       "      <td>2016</td>\n",
       "      <td>1</td>\n",
       "      <td>3</td>\n",
       "      <td>7.0</td>\n",
       "      <td>2034.0</td>\n",
       "      <td>1</td>\n",
       "    </tr>\n",
       "    <tr>\n",
       "      <th>3</th>\n",
       "      <td>1</td>\n",
       "      <td>2016-01-10</td>\n",
       "      <td>2016</td>\n",
       "      <td>1</td>\n",
       "      <td>10</td>\n",
       "      <td>0.0</td>\n",
       "      <td>NaN</td>\n",
       "      <td>8</td>\n",
       "    </tr>\n",
       "    <tr>\n",
       "      <th>4</th>\n",
       "      <td>1</td>\n",
       "      <td>2016-01-21</td>\n",
       "      <td>2016</td>\n",
       "      <td>1</td>\n",
       "      <td>21</td>\n",
       "      <td>5.0</td>\n",
       "      <td>NaN</td>\n",
       "      <td>1</td>\n",
       "    </tr>\n",
       "    <tr>\n",
       "      <th>5</th>\n",
       "      <td>1</td>\n",
       "      <td>2016-01-24</td>\n",
       "      <td>2016</td>\n",
       "      <td>1</td>\n",
       "      <td>24</td>\n",
       "      <td>18.0</td>\n",
       "      <td>NaN</td>\n",
       "      <td>8</td>\n",
       "    </tr>\n",
       "    <tr>\n",
       "      <th>6</th>\n",
       "      <td>1</td>\n",
       "      <td>2016-01-24</td>\n",
       "      <td>2016</td>\n",
       "      <td>1</td>\n",
       "      <td>24</td>\n",
       "      <td>19.0</td>\n",
       "      <td>NaN</td>\n",
       "      <td>11</td>\n",
       "    </tr>\n",
       "    <tr>\n",
       "      <th>7</th>\n",
       "      <td>1</td>\n",
       "      <td>2016-01-29</td>\n",
       "      <td>2016</td>\n",
       "      <td>1</td>\n",
       "      <td>29</td>\n",
       "      <td>15.0</td>\n",
       "      <td>NaN</td>\n",
       "      <td>9</td>\n",
       "    </tr>\n",
       "    <tr>\n",
       "      <th>8</th>\n",
       "      <td>1</td>\n",
       "      <td>2016-02-08</td>\n",
       "      <td>2016</td>\n",
       "      <td>2</td>\n",
       "      <td>8</td>\n",
       "      <td>1.0</td>\n",
       "      <td>NaN</td>\n",
       "      <td>1</td>\n",
       "    </tr>\n",
       "    <tr>\n",
       "      <th>9</th>\n",
       "      <td>1</td>\n",
       "      <td>2016-02-10</td>\n",
       "      <td>2016</td>\n",
       "      <td>2</td>\n",
       "      <td>10</td>\n",
       "      <td>11.0</td>\n",
       "      <td>1366.0</td>\n",
       "      <td>1</td>\n",
       "    </tr>\n",
       "  </tbody>\n",
       "</table>\n",
       "</div>"
      ],
      "text/plain": [
       "   N_VICTIMAS      FECHA  AAAA  MM  DD    HH  ALTURA  COMUNA\n",
       "0           1 2016-01-01  2016   1   1   4.0     NaN       8\n",
       "1           1 2016-01-02  2016   1   2   1.0     NaN       9\n",
       "2           1 2016-01-03  2016   1   3   7.0  2034.0       1\n",
       "3           1 2016-01-10  2016   1  10   0.0     NaN       8\n",
       "4           1 2016-01-21  2016   1  21   5.0     NaN       1\n",
       "5           1 2016-01-24  2016   1  24  18.0     NaN       8\n",
       "6           1 2016-01-24  2016   1  24  19.0     NaN      11\n",
       "7           1 2016-01-29  2016   1  29  15.0     NaN       9\n",
       "8           1 2016-02-08  2016   2   8   1.0     NaN       1\n",
       "9           1 2016-02-10  2016   2  10  11.0  1366.0       1"
      ]
     },
     "execution_count": 67,
     "metadata": {},
     "output_type": "execute_result"
    }
   ],
   "source": [
    "dfHechos[dfHechos.describe().columns].head(10)"
   ]
  },
  {
   "cell_type": "markdown",
   "metadata": {},
   "source": [
    "🏛️ Exploremos la columna 'N_VICTIMAS'"
   ]
  },
  {
   "cell_type": "code",
   "execution_count": 68,
   "metadata": {},
   "outputs": [
    {
     "data": {
      "text/plain": [
       "count    696.000000\n",
       "mean       1.030172\n",
       "std        0.179393\n",
       "min        1.000000\n",
       "25%        1.000000\n",
       "50%        1.000000\n",
       "75%        1.000000\n",
       "max        3.000000\n",
       "Name: N_VICTIMAS, dtype: float64"
      ]
     },
     "execution_count": 68,
     "metadata": {},
     "output_type": "execute_result"
    }
   ],
   "source": [
    "dfHechos['N_VICTIMAS'].describe()"
   ]
  },
  {
   "cell_type": "markdown",
   "metadata": {},
   "source": [
    "Al menos en el 75% de los siniestros hay una sola victima"
   ]
  },
  {
   "cell_type": "code",
   "execution_count": 69,
   "metadata": {},
   "outputs": [
    {
     "name": "stdout",
     "output_type": "stream",
     "text": [
      "<class 'pandas.core.series.Series'>\n",
      "RangeIndex: 696 entries, 0 to 695\n",
      "Series name: N_VICTIMAS\n",
      "Non-Null Count  Dtype\n",
      "--------------  -----\n",
      "696 non-null    int64\n",
      "dtypes: int64(1)\n",
      "memory usage: 5.6 KB\n"
     ]
    }
   ],
   "source": [
    "dfHechos['N_VICTIMAS'].info()"
   ]
  },
  {
   "cell_type": "code",
   "execution_count": 70,
   "metadata": {},
   "outputs": [
    {
     "data": {
      "text/plain": [
       "N_VICTIMAS\n",
       "1    676\n",
       "2     19\n",
       "3      1\n",
       "Name: count, dtype: int64"
      ]
     },
     "execution_count": 70,
     "metadata": {},
     "output_type": "execute_result"
    }
   ],
   "source": [
    "dfHechos['N_VICTIMAS'].value_counts()"
   ]
  },
  {
   "cell_type": "markdown",
   "metadata": {},
   "source": [
    "En apenas 20 de 696 siniestros hubo mas de una victima"
   ]
  },
  {
   "cell_type": "markdown",
   "metadata": {},
   "source": [
    "Inspeccionemos la forma en la que esta distribuida la frecuencia de los valores en la columna 'N_VICTIMAS' ya que puede proporcionarnos algunas pistas sobre la presencia de outliers."
   ]
  },
  {
   "cell_type": "markdown",
   "metadata": {},
   "source": [
    "Veamos un panorama grafico de la columna 'N_VICTIMAS'"
   ]
  },
  {
   "cell_type": "code",
   "execution_count": 71,
   "metadata": {},
   "outputs": [
    {
     "data": {
      "image/png": "[encoded data removed]",
      "text/plain": [
       "<Figure size 1440x576 with 1 Axes>"
      ]
     },
     "metadata": {
      "needs_background": "light"
     },
     "output_type": "display_data"
    }
   ],
   "source": [
    "# Ajustar el tamaño de la figura\n",
    "plt.figure(figsize = (20, 8))\n",
    "\n",
    "# Crear el countplot para la columna 'ACUSADO'\n",
    "sns.countplot(x = 'N_VICTIMAS', data = dfHechos)\n",
    "\n",
    "# Mostrar la gráfica\n",
    "plt.show()"
   ]
  },
  {
   "cell_type": "code",
   "execution_count": 72,
   "metadata": {},
   "outputs": [
    {
     "data": {
      "text/plain": [
       "Text(0.5, 0, 'Numero de victimas')"
      ]
     },
     "execution_count": 72,
     "metadata": {},
     "output_type": "execute_result"
    },
    {
     "data": {
      "image/png": "[encoded data removed]",
      "text/plain": [
       "<Figure size 432x288 with 1 Axes>"
      ]
     },
     "metadata": {
      "needs_background": "light"
     },
     "output_type": "display_data"
    }
   ],
   "source": [
    "# Create a box plot\n",
    "g = sns.boxplot(data = dfHechos, x = 'N_VICTIMAS', showmeans = True, meanline = True)\n",
    "\n",
    "# Add a title and change xlabel\n",
    "g.set_title('Diagrama de caja de cantidad victimas X hecho')\n",
    "g.set_xlabel('Numero de victimas')"
   ]
  },
  {
   "cell_type": "code",
   "execution_count": 73,
   "metadata": {},
   "outputs": [
    {
     "data": {
      "image/png": "[encoded data removed]",
      "text/plain": [
       "<Figure size 720x288 with 1 Axes>"
      ]
     },
     "metadata": {
      "needs_background": "light"
     },
     "output_type": "display_data"
    }
   ],
   "source": [
    "# Crear el gráfico de dispersión con Seaborn\n",
    "plt.figure(figsize=(10, 4))\n",
    "sns.scatterplot(data=dfHechos, x=dfHechos.index, y='N_VICTIMAS')\n",
    "plt.title('Gráfico de Dispersión de N_VICTIMAS')\n",
    "plt.xlabel('Índice de Filas')\n",
    "plt.ylabel('N_VICTIMAS')\n",
    "plt.show()"
   ]
  },
  {
   "cell_type": "markdown",
   "metadata": {},
   "source": [
    "Hemos conseguido valores atipicos. Los hechos que involucran dos o tres victimas seran eliminados ❌ del set de datos."
   ]
  },
  {
   "cell_type": "code",
   "execution_count": 74,
   "metadata": {},
   "outputs": [],
   "source": [
    "# Eliminar las filas donde 'N_VICTIMAS' == 2 o 'N_VICTIMAS' == 3\n",
    "dfHechos = dfHechos.drop(dfHechos[(dfHechos['N_VICTIMAS'] == 2) | (dfHechos['N_VICTIMAS'] == 3)].index).reset_index(drop = True)"
   ]
  },
  {
   "cell_type": "code",
   "execution_count": 75,
   "metadata": {},
   "outputs": [
    {
     "data": {
      "image/png": "[encoded data removed]",
      "text/plain": [
       "<Figure size 720x288 with 1 Axes>"
      ]
     },
     "metadata": {
      "needs_background": "light"
     },
     "output_type": "display_data"
    }
   ],
   "source": [
    "# Crear el gráfico de dispersión con Seaborn\n",
    "plt.figure(figsize=(10, 4))\n",
    "sns.scatterplot(data=dfHechos, x=dfHechos.index, y='N_VICTIMAS')\n",
    "plt.title('Gráfico de Dispersión de N_VICTIMAS')\n",
    "plt.xlabel('Índice de Filas')\n",
    "plt.ylabel('N_VICTIMAS')\n",
    "plt.show()"
   ]
  },
  {
   "cell_type": "code",
   "execution_count": 76,
   "metadata": {},
   "outputs": [
    {
     "name": "stdout",
     "output_type": "stream",
     "text": [
      "<class 'pandas.core.frame.DataFrame'>\n",
      "RangeIndex: 676 entries, 0 to 675\n",
      "Data columns (total 17 columns):\n",
      " #   Column           Non-Null Count  Dtype         \n",
      "---  ------           --------------  -----         \n",
      " 0   ID               676 non-null    object        \n",
      " 1   N_VICTIMAS       676 non-null    int64         \n",
      " 2   FECHA            676 non-null    datetime64[ns]\n",
      " 3   AAAA             676 non-null    int64         \n",
      " 4   MM               676 non-null    int64         \n",
      " 5   DD               676 non-null    int64         \n",
      " 6   HORA             676 non-null    object        \n",
      " 7   HH               675 non-null    float64       \n",
      " 8   LUGAR_DEL_HECHO  675 non-null    object        \n",
      " 9   TIPO_DE_CALLE    676 non-null    object        \n",
      " 10  CALLE            675 non-null    object        \n",
      " 11  ALTURA           125 non-null    float64       \n",
      " 12  CRUCE            511 non-null    object        \n",
      " 13  COMUNA           676 non-null    int64         \n",
      " 14  PARTICIPANTES    675 non-null    object        \n",
      " 15  VICTIMA          671 non-null    object        \n",
      " 16  ACUSADO          653 non-null    object        \n",
      "dtypes: datetime64[ns](1), float64(2), int64(5), object(9)\n",
      "memory usage: 89.9+ KB\n"
     ]
    }
   ],
   "source": [
    "dfHechos.info()"
   ]
  },
  {
   "cell_type": "markdown",
   "metadata": {},
   "source": [
    "🏛️ Exploremos la columna 'FECHA'"
   ]
  },
  {
   "cell_type": "markdown",
   "metadata": {},
   "source": [
    "La columna 'FECHA' en el dataframe dfHechos es de naturaleza categórica. Aunque los valores en la columna 'FECHA' pueden representar horas en un formato de tiempo, en nuestro contexto de análisiss, la consideraremos una variable categórica."
   ]
  },
  {
   "cell_type": "markdown",
   "metadata": {},
   "source": [
    "La columna 'FECHA' la exploramos en la seccion de columnas no numericas."
   ]
  },
  {
   "cell_type": "markdown",
   "metadata": {},
   "source": [
    "🏛️ Exploremos la columna 'AAAA'"
   ]
  },
  {
   "cell_type": "markdown",
   "metadata": {},
   "source": [
    "Cambiemos el nombre de la columna 'AAAA' por 'ANIO'"
   ]
  },
  {
   "cell_type": "code",
   "execution_count": 77,
   "metadata": {},
   "outputs": [],
   "source": [
    "dfHechos.rename(columns = {'AAAA': 'ANIO'}, inplace = True)"
   ]
  },
  {
   "cell_type": "code",
   "execution_count": 78,
   "metadata": {},
   "outputs": [
    {
     "data": {
      "text/plain": [
       "count     676.000000\n",
       "mean     2018.201183\n",
       "std         1.694715\n",
       "min      2016.000000\n",
       "25%      2017.000000\n",
       "50%      2018.000000\n",
       "75%      2020.000000\n",
       "max      2021.000000\n",
       "Name: ANIO, dtype: float64"
      ]
     },
     "execution_count": 78,
     "metadata": {},
     "output_type": "execute_result"
    }
   ],
   "source": [
    "dfHechos['ANIO'].describe()"
   ]
  },
  {
   "cell_type": "code",
   "execution_count": 79,
   "metadata": {},
   "outputs": [
    {
     "name": "stdout",
     "output_type": "stream",
     "text": [
      "<class 'pandas.core.series.Series'>\n",
      "RangeIndex: 676 entries, 0 to 675\n",
      "Series name: ANIO\n",
      "Non-Null Count  Dtype\n",
      "--------------  -----\n",
      "676 non-null    int64\n",
      "dtypes: int64(1)\n",
      "memory usage: 5.4 KB\n"
     ]
    }
   ],
   "source": [
    "dfHechos['ANIO'].info()"
   ]
  },
  {
   "cell_type": "markdown",
   "metadata": {},
   "source": [
    "Inspeccionemos la forma en la que esta distribuida la frecuencia de los valores en la columna 'ANIO' ya que puede proporcionarnos algunas pistas sobre la presencia de outliers."
   ]
  },
  {
   "cell_type": "code",
   "execution_count": 80,
   "metadata": {},
   "outputs": [
    {
     "data": {
      "text/plain": [
       "Text(0.5, 0, 'AÑOS')"
      ]
     },
     "execution_count": 80,
     "metadata": {},
     "output_type": "execute_result"
    },
    {
     "data": {
      "image/png": "[encoded data removed]",
      "text/plain": [
       "<Figure size 432x288 with 1 Axes>"
      ]
     },
     "metadata": {
      "needs_background": "light"
     },
     "output_type": "display_data"
    }
   ],
   "source": [
    "# Create a box plot\n",
    "g = sns.boxplot(data = dfHechos, x = 'ANIO', showmeans = True, meanline = True)\n",
    "\n",
    "# Add a title and change xlabel\n",
    "g.set_title('Diagrama de caja de ANIO')\n",
    "g.set_xlabel('AÑOS')"
   ]
  },
  {
   "cell_type": "markdown",
   "metadata": {},
   "source": [
    "Los datos en la columna 'ANIO' estan dentro de lo esperado entre el año 2016 y 2021 sin valores fuera de este rango."
   ]
  },
  {
   "cell_type": "markdown",
   "metadata": {},
   "source": [
    "🏛️ Exploremos la columna 'MM'"
   ]
  },
  {
   "cell_type": "code",
   "execution_count": 81,
   "metadata": {},
   "outputs": [
    {
     "name": "stdout",
     "output_type": "stream",
     "text": [
      "<class 'pandas.core.series.Series'>\n",
      "RangeIndex: 676 entries, 0 to 675\n",
      "Series name: MM\n",
      "Non-Null Count  Dtype\n",
      "--------------  -----\n",
      "676 non-null    int64\n",
      "dtypes: int64(1)\n",
      "memory usage: 5.4 KB\n"
     ]
    }
   ],
   "source": [
    "dfHechos['MM'].info()"
   ]
  },
  {
   "cell_type": "markdown",
   "metadata": {},
   "source": [
    "Convertiremos la columna a tipo entero de 8 bits.\n",
    "- El rango de números enteros que se pueden representar con el tipo de dato int8 es de -128 a 127.<br>\n",
    "- El rango de números enteros que se pueden representar con el tipo de dato int16 es de -32768 a 32767.<br>"
   ]
  },
  {
   "cell_type": "code",
   "execution_count": 82,
   "metadata": {},
   "outputs": [],
   "source": [
    "# El parametro 'downcast' intentara reducir el tipo de dato al tamaño más pequeño\n",
    "# posible, manteniendo la precisión de los datos.\n",
    "dfHechos['MM'] = pd.to_numeric(dfHechos['MM'], errors = 'coerce', downcast = 'integer')"
   ]
  },
  {
   "cell_type": "code",
   "execution_count": 83,
   "metadata": {},
   "outputs": [
    {
     "data": {
      "text/plain": [
       "MM\n",
       "12    75\n",
       "11    66\n",
       "8     63\n",
       "1     62\n",
       "5     60\n",
       "6     58\n",
       "2     53\n",
       "7     51\n",
       "10    50\n",
       "4     48\n",
       "3     47\n",
       "9     43\n",
       "Name: count, dtype: int64"
      ]
     },
     "execution_count": 83,
     "metadata": {},
     "output_type": "execute_result"
    }
   ],
   "source": [
    "dfHechos['MM'].value_counts()"
   ]
  },
  {
   "cell_type": "markdown",
   "metadata": {},
   "source": [
    "⬆️ Los dos ultimos meses del año presentan el mayor numero de casos."
   ]
  },
  {
   "cell_type": "markdown",
   "metadata": {},
   "source": [
    "🏛️ Exploremos la columna 'SEMESTRE'"
   ]
  },
  {
   "cell_type": "markdown",
   "metadata": {},
   "source": [
    "Debido a que el primer KPI busca reducir en un 10% la tasa de homicidios en siniestros viales de los últimos seis meses...\n",
    "Crearemos la columna 'SEMESTRE' a partir de la columna 'HH' en donde reflejaremos el semestre 1 (primeros seis meses) y el semestre 2 (ultimos seis meses) de cada año."
   ]
  },
  {
   "cell_type": "code",
   "execution_count": 84,
   "metadata": {},
   "outputs": [
    {
     "name": "stdout",
     "output_type": "stream",
     "text": [
      "<class 'pandas.core.frame.DataFrame'>\n",
      "RangeIndex: 676 entries, 0 to 675\n",
      "Data columns (total 17 columns):\n",
      " #   Column           Non-Null Count  Dtype         \n",
      "---  ------           --------------  -----         \n",
      " 0   ID               676 non-null    object        \n",
      " 1   N_VICTIMAS       676 non-null    int64         \n",
      " 2   FECHA            676 non-null    datetime64[ns]\n",
      " 3   ANIO             676 non-null    int64         \n",
      " 4   MM               676 non-null    int8          \n",
      " 5   DD               676 non-null    int64         \n",
      " 6   HORA             676 non-null    object        \n",
      " 7   HH               675 non-null    float64       \n",
      " 8   LUGAR_DEL_HECHO  675 non-null    object        \n",
      " 9   TIPO_DE_CALLE    676 non-null    object        \n",
      " 10  CALLE            675 non-null    object        \n",
      " 11  ALTURA           125 non-null    float64       \n",
      " 12  CRUCE            511 non-null    object        \n",
      " 13  COMUNA           676 non-null    int64         \n",
      " 14  PARTICIPANTES    675 non-null    object        \n",
      " 15  VICTIMA          671 non-null    object        \n",
      " 16  ACUSADO          653 non-null    object        \n",
      "dtypes: datetime64[ns](1), float64(2), int64(4), int8(1), object(9)\n",
      "memory usage: 85.3+ KB\n"
     ]
    }
   ],
   "source": [
    "dfHechos.info()"
   ]
  },
  {
   "cell_type": "code",
   "execution_count": 85,
   "metadata": {},
   "outputs": [],
   "source": [
    "# Crear la columna SEMESTRE\n",
    "dfHechos['SEMESTRE'] = dfHechos['MM'].apply(lambda x: 1 if x <= 6 else 2).astype('int8')\n",
    "\n",
    "# Reordenar las columnas para colocar SEMESTRE justo después de FECHA\n",
    "columns = list(dfHechos.columns)\n",
    "columns.remove('SEMESTRE')\n",
    "columns.insert(columns.index('FECHA') + 1, 'SEMESTRE')\n",
    "dfHechos = dfHechos[columns]"
   ]
  },
  {
   "cell_type": "code",
   "execution_count": 86,
   "metadata": {},
   "outputs": [
    {
     "data": {
      "text/plain": [
       "SEMESTRE\n",
       "2    348\n",
       "1    328\n",
       "Name: count, dtype: int64"
      ]
     },
     "execution_count": 86,
     "metadata": {},
     "output_type": "execute_result"
    }
   ],
   "source": [
    "dfHechos['SEMESTRE'].value_counts()"
   ]
  },
  {
   "cell_type": "markdown",
   "metadata": {},
   "source": [
    "Hay 348 en los primeros semestres de los años.<br>\n",
    "Hay 328 en los segundos semestres de los años."
   ]
  },
  {
   "cell_type": "markdown",
   "metadata": {},
   "source": [
    "🏛️ Exploremos la columna 'PARTE_DIA'"
   ]
  },
  {
   "cell_type": "markdown",
   "metadata": {},
   "source": [
    "Partes del día (mañana, mediodía, tarde, noche, medianoche y madrugada):\n",
    "- Medianoche: Valor 0 que corresponde a la hora doce del periodo nocturno. De 0:00 a 1:00\n",
    "- Madrugada: Valor 1 que va desde la medianoche hasta que sale el sol. De 1:00 a 6:30\n",
    "- Mañana: Valor 2 que corresponde al periodo desde que sale el sol hasta el mediodía. De 6:30 a 12:00\n",
    "- Mediodia: Valor 3 que corresponde a la hora doce del periodo diurno. De 12:00 a 13:00\n",
    "- Tarde: Valor 4 que corresponde al periodo desde el mediodía hasta que se pone el sol. De 13:00 a 20:00\n",
    "- Noche: Valor 5 que corresponde desde que se pone el sol hasta la medianoche. De 20:00 a 0:00"
   ]
  },
  {
   "cell_type": "code",
   "execution_count": 87,
   "metadata": {},
   "outputs": [],
   "source": [
    "# Convertir la columna 'HORA' al formato de fecha y hora\n",
    "dfHechos['HORA'] = pd.to_datetime(dfHechos['HORA'], format='%H:%M:%S').dt.time\n",
    "\n",
    "# Crear la columna PARTE_DIA\n",
    "def calcular_parte_dia(hora):\n",
    "    if hora < datetime.time(1, 0, 0):\n",
    "        return 0  # Medianoche\n",
    "    elif datetime.time(1, 0, 0) <= hora < datetime.time(6, 30, 0):\n",
    "        return 1  # Madrugada\n",
    "    elif datetime.time(6, 30, 0) <= hora < datetime.time(12, 0, 0):\n",
    "        return 2  # Mañana\n",
    "    elif hora == datetime.time(12, 0, 0):\n",
    "        return 3  # Mediodía\n",
    "    elif datetime.time(12, 0, 0) < hora < datetime.time(20, 0, 0):\n",
    "        return 4  # Tarde\n",
    "    else:\n",
    "        return 5  # Noche\n",
    "\n",
    "dfHechos['PARTE_DIA'] = dfHechos['HORA'].apply(calcular_parte_dia).astype('int8')\n",
    "\n",
    "# Reordenar las columnas para colocar PARTE_DIA justo después de HH\n",
    "columns = list(dfHechos.columns)\n",
    "columns.remove('PARTE_DIA')\n",
    "columns.insert(columns.index('HH') + 1, 'PARTE_DIA')\n",
    "dfHechos = dfHechos.reindex(columns  =columns)"
   ]
  },
  {
   "cell_type": "code",
   "execution_count": 88,
   "metadata": {},
   "outputs": [
    {
     "data": {
      "text/plain": [
       "PARTE_DIA\n",
       "4    221\n",
       "2    178\n",
       "1    137\n",
       "5    112\n",
       "0     23\n",
       "3      5\n",
       "Name: count, dtype: int64"
      ]
     },
     "execution_count": 88,
     "metadata": {},
     "output_type": "execute_result"
    }
   ],
   "source": [
    "dfHechos['PARTE_DIA'].value_counts()"
   ]
  },
  {
   "cell_type": "markdown",
   "metadata": {},
   "source": [
    "- La mayoria de los hechos ocurren por la tarde: Valor 4 que corresponde al periodo desde el mediodía hasta que se pone el sol. De 13:00 a 20:00.\n",
    "- Casi no ocurren hechos al mediodia: Valor 3 que corresponde a la hora doce del periodo diurno. De 12:00 a 13:00."
   ]
  },
  {
   "cell_type": "code",
   "execution_count": 89,
   "metadata": {},
   "outputs": [
    {
     "name": "stdout",
     "output_type": "stream",
     "text": [
      "<class 'pandas.core.frame.DataFrame'>\n",
      "RangeIndex: 676 entries, 0 to 675\n",
      "Data columns (total 19 columns):\n",
      " #   Column           Non-Null Count  Dtype         \n",
      "---  ------           --------------  -----         \n",
      " 0   ID               676 non-null    object        \n",
      " 1   N_VICTIMAS       676 non-null    int64         \n",
      " 2   FECHA            676 non-null    datetime64[ns]\n",
      " 3   SEMESTRE         676 non-null    int8          \n",
      " 4   ANIO             676 non-null    int64         \n",
      " 5   MM               676 non-null    int8          \n",
      " 6   DD               676 non-null    int64         \n",
      " 7   HORA             676 non-null    object        \n",
      " 8   HH               675 non-null    float64       \n",
      " 9   PARTE_DIA        676 non-null    int8          \n",
      " 10  LUGAR_DEL_HECHO  675 non-null    object        \n",
      " 11  TIPO_DE_CALLE    676 non-null    object        \n",
      " 12  CALLE            675 non-null    object        \n",
      " 13  ALTURA           125 non-null    float64       \n",
      " 14  CRUCE            511 non-null    object        \n",
      " 15  COMUNA           676 non-null    int64         \n",
      " 16  PARTICIPANTES    675 non-null    object        \n",
      " 17  VICTIMA          671 non-null    object        \n",
      " 18  ACUSADO          653 non-null    object        \n",
      "dtypes: datetime64[ns](1), float64(2), int64(4), int8(3), object(9)\n",
      "memory usage: 86.6+ KB\n"
     ]
    }
   ],
   "source": [
    "dfHechos.info()"
   ]
  },
  {
   "cell_type": "markdown",
   "metadata": {},
   "source": [
    "🏛️ Exploremos la columna 'DD'"
   ]
  },
  {
   "cell_type": "code",
   "execution_count": 90,
   "metadata": {},
   "outputs": [
    {
     "name": "stdout",
     "output_type": "stream",
     "text": [
      "<class 'pandas.core.series.Series'>\n",
      "RangeIndex: 676 entries, 0 to 675\n",
      "Series name: DD\n",
      "Non-Null Count  Dtype\n",
      "--------------  -----\n",
      "676 non-null    int64\n",
      "dtypes: int64(1)\n",
      "memory usage: 5.4 KB\n"
     ]
    }
   ],
   "source": [
    "dfHechos['DD'].info()"
   ]
  },
  {
   "cell_type": "markdown",
   "metadata": {},
   "source": [
    "Convertiremos la columna a tipo entero de 8 bits.\n",
    "- El rango de números enteros que se pueden representar con el tipo de dato int8 es de -128 a 127.<br>\n",
    "- El rango de números enteros que se pueden representar con el tipo de dato int16 es de -32768 a 32767.<br>"
   ]
  },
  {
   "cell_type": "code",
   "execution_count": 91,
   "metadata": {},
   "outputs": [],
   "source": [
    "# El parametro 'downcast' intentara reducir el tipo de dato al tamaño más pequeño\n",
    "# posible, manteniendo la precisión de los datos.\n",
    "dfHechos['DD'] = pd.to_numeric(dfHechos['DD'], errors = 'coerce', downcast = 'integer')"
   ]
  },
  {
   "cell_type": "code",
   "execution_count": 92,
   "metadata": {},
   "outputs": [
    {
     "data": {
      "text/plain": [
       "DD\n",
       "20    30\n",
       "17    30\n",
       "27    27\n",
       "3     26\n",
       "11    26\n",
       "12    26\n",
       "14    25\n",
       "15    25\n",
       "10    24\n",
       "28    24\n",
       "19    23\n",
       "7     23\n",
       "22    23\n",
       "23    23\n",
       "4     23\n",
       "9     23\n",
       "18    22\n",
       "25    22\n",
       "2     20\n",
       "29    20\n",
       "24    20\n",
       "21    20\n",
       "26    20\n",
       "16    18\n",
       "1     18\n",
       "13    18\n",
       "6     18\n",
       "5     17\n",
       "30    15\n",
       "8     14\n",
       "31    13\n",
       "Name: count, dtype: int64"
      ]
     },
     "execution_count": 92,
     "metadata": {},
     "output_type": "execute_result"
    }
   ],
   "source": [
    "dfHechos['DD'].value_counts()"
   ]
  },
  {
   "cell_type": "markdown",
   "metadata": {},
   "source": [
    "Como se esperaba los dias estan en el rango del 1 al 31.<br>\n",
    "El 31 es el dia con menos casos pero hay que tener en cuenta que cinco meses del año no tienen dia 31."
   ]
  },
  {
   "cell_type": "markdown",
   "metadata": {},
   "source": [
    "🏛️ Exploremos la columna 'HH'"
   ]
  },
  {
   "cell_type": "code",
   "execution_count": 93,
   "metadata": {},
   "outputs": [
    {
     "name": "stdout",
     "output_type": "stream",
     "text": [
      "<class 'pandas.core.series.Series'>\n",
      "RangeIndex: 676 entries, 0 to 675\n",
      "Series name: HH\n",
      "Non-Null Count  Dtype  \n",
      "--------------  -----  \n",
      "675 non-null    float64\n",
      "dtypes: float64(1)\n",
      "memory usage: 5.4 KB\n"
     ]
    }
   ],
   "source": [
    "dfHechos['HH'].info()"
   ]
  },
  {
   "cell_type": "markdown",
   "metadata": {},
   "source": [
    "⬆️ Hay solo un valor nulo en la columna 'HH'.<br>\n",
    "\n",
    "- La columna 'HH' debería ser de tipo entero. En un entero de 8 o 16 bits caben todas las columnas de tipo entero del<br>\n",
    "dataframe<br>\n",
    "- El rango de números enteros que se pueden representar con el tipo de dato int8 es de -128 a 127.<br>\n",
    "- El rango de números enteros que se pueden representar con el tipo de dato int16 es de -32768 a 32767.<br>\n",
    "- Convertiremos la columna 'HH' a entero de 8 bits luego de imputar el NaN."
   ]
  },
  {
   "cell_type": "code",
   "execution_count": 94,
   "metadata": {},
   "outputs": [
    {
     "data": {
      "text/plain": [
       "count    675.000000\n",
       "mean      11.757037\n",
       "std        6.698482\n",
       "min        0.000000\n",
       "25%        6.000000\n",
       "50%       11.000000\n",
       "75%       18.000000\n",
       "max       23.000000\n",
       "Name: HH, dtype: float64"
      ]
     },
     "execution_count": 94,
     "metadata": {},
     "output_type": "execute_result"
    }
   ],
   "source": [
    "dfHechos['HH'].describe()"
   ]
  },
  {
   "cell_type": "markdown",
   "metadata": {},
   "source": [
    "La primera hora es 0, la hora media es 11 y la ultima es 23"
   ]
  },
  {
   "cell_type": "markdown",
   "metadata": {},
   "source": [
    "Busquemos la hora 'HH' que falta."
   ]
  },
  {
   "cell_type": "code",
   "execution_count": 95,
   "metadata": {},
   "outputs": [
    {
     "name": "stdout",
     "output_type": "stream",
     "text": [
      "Filas que tienen el valor NaN en la columna \"HH\"\n"
     ]
    },
    {
     "data": {
      "text/html": [
       "<div>\n",
       "<style scoped>\n",
       "    .dataframe tbody tr th:only-of-type {\n",
       "        vertical-align: middle;\n",
       "    }\n",
       "\n",
       "    .dataframe tbody tr th {\n",
       "        vertical-align: top;\n",
       "    }\n",
       "\n",
       "    .dataframe thead th {\n",
       "        text-align: right;\n",
       "    }\n",
       "</style>\n",
       "<table border=\"1\" class=\"dataframe\">\n",
       "  <thead>\n",
       "    <tr style=\"text-align: right;\">\n",
       "      <th></th>\n",
       "      <th>ID</th>\n",
       "      <th>FECHA</th>\n",
       "      <th>HORA</th>\n",
       "      <th>ANIO</th>\n",
       "      <th>MM</th>\n",
       "      <th>DD</th>\n",
       "      <th>HH</th>\n",
       "    </tr>\n",
       "  </thead>\n",
       "  <tbody>\n",
       "    <tr>\n",
       "      <th>501</th>\n",
       "      <td>2019-0103</td>\n",
       "      <td>2019-12-18</td>\n",
       "      <td>12:01:00</td>\n",
       "      <td>2019</td>\n",
       "      <td>12</td>\n",
       "      <td>18</td>\n",
       "      <td>NaN</td>\n",
       "    </tr>\n",
       "  </tbody>\n",
       "</table>\n",
       "</div>"
      ],
      "text/plain": [
       "            ID      FECHA      HORA  ANIO  MM  DD  HH\n",
       "501  2019-0103 2019-12-18  12:01:00  2019  12  18 NaN"
      ]
     },
     "execution_count": 95,
     "metadata": {},
     "output_type": "execute_result"
    }
   ],
   "source": [
    "# Filtrar las filas donde 'HH' es NaN\n",
    "filasHHNan = dfHechos[dfHechos['HH'].isna()]\n",
    "print('Filas que tienen el valor NaN en la columna \"HH\"')\n",
    "# Seleccionar las columnas 'FECHA', 'HORA', 'ANIO', 'MM', 'DD', 'HH'\n",
    "filasHHNan[['ID', 'FECHA', 'HORA', 'ANIO', 'MM', 'DD', 'HH']]"
   ]
  },
  {
   "cell_type": "markdown",
   "metadata": {},
   "source": [
    "Para esta fila el valor de 'HH' es NaN pero podemos usar la hora que esta en la columna 'HORA'"
   ]
  },
  {
   "cell_type": "code",
   "execution_count": 96,
   "metadata": {},
   "outputs": [],
   "source": [
    "# Obtener el índice de la fila donde 'ID' es igual a '2019-0103'\n",
    "i = dfHechos[dfHechos['ID'] == '2019-0103'].index[0]\n",
    "dfHechos.loc[i, 'HH'] = dfHechos.loc[i, 'HORA'].hour"
   ]
  },
  {
   "cell_type": "code",
   "execution_count": 97,
   "metadata": {},
   "outputs": [
    {
     "data": {
      "text/html": [
       "<div>\n",
       "<style scoped>\n",
       "    .dataframe tbody tr th:only-of-type {\n",
       "        vertical-align: middle;\n",
       "    }\n",
       "\n",
       "    .dataframe tbody tr th {\n",
       "        vertical-align: top;\n",
       "    }\n",
       "\n",
       "    .dataframe thead th {\n",
       "        text-align: right;\n",
       "    }\n",
       "</style>\n",
       "<table border=\"1\" class=\"dataframe\">\n",
       "  <thead>\n",
       "    <tr style=\"text-align: right;\">\n",
       "      <th></th>\n",
       "      <th>FECHA</th>\n",
       "      <th>HORA</th>\n",
       "      <th>ANIO</th>\n",
       "      <th>MM</th>\n",
       "      <th>DD</th>\n",
       "      <th>HH</th>\n",
       "    </tr>\n",
       "  </thead>\n",
       "  <tbody>\n",
       "    <tr>\n",
       "      <th>501</th>\n",
       "      <td>2019-12-18</td>\n",
       "      <td>12:01:00</td>\n",
       "      <td>2019</td>\n",
       "      <td>12</td>\n",
       "      <td>18</td>\n",
       "      <td>12.0</td>\n",
       "    </tr>\n",
       "  </tbody>\n",
       "</table>\n",
       "</div>"
      ],
      "text/plain": [
       "         FECHA      HORA  ANIO  MM  DD    HH\n",
       "501 2019-12-18  12:01:00  2019  12  18  12.0"
      ]
     },
     "execution_count": 97,
     "metadata": {},
     "output_type": "execute_result"
    }
   ],
   "source": [
    "dfHechos.loc[dfHechos['ID'] == '2019-0103', ['FECHA', 'HORA', 'ANIO', 'MM', 'DD', 'HH']]"
   ]
  },
  {
   "cell_type": "markdown",
   "metadata": {},
   "source": [
    "Ahora que no tenemos NaN en la columna 'HH', convertiremos la columna a tipo entero de 8 bits."
   ]
  },
  {
   "cell_type": "code",
   "execution_count": 98,
   "metadata": {},
   "outputs": [],
   "source": [
    "# El parametro 'downcast' intentara reducir el tipo de dato al tamaño más pequeño\n",
    "# posible, manteniendo la precisión de los datos.\n",
    "dfHechos['HH'] = pd.to_numeric(dfHechos['HH'], errors = 'coerce', downcast = 'integer')"
   ]
  },
  {
   "cell_type": "code",
   "execution_count": 99,
   "metadata": {},
   "outputs": [
    {
     "name": "stdout",
     "output_type": "stream",
     "text": [
      "Valores distintos en la columna 'HH': [0, 1, 2, 3, 4, 5, 6, 7, 8, 9, 10, 11, 12, 13, 14, 15, 16, 17, 18, 19, 20, 21, 22, 23]\n"
     ]
    }
   ],
   "source": [
    "# Imprimir los valores distintos en las columnas 'HH' y 'HORAS'\n",
    "print(\"Valores distintos en la columna 'HH':\", sorted(dfHechos['HH'].unique()))"
   ]
  },
  {
   "cell_type": "code",
   "execution_count": 100,
   "metadata": {},
   "outputs": [
    {
     "name": "stdout",
     "output_type": "stream",
     "text": [
      "<class 'pandas.core.series.Series'>\n",
      "RangeIndex: 676 entries, 0 to 675\n",
      "Series name: HH\n",
      "Non-Null Count  Dtype\n",
      "--------------  -----\n",
      "676 non-null    int8 \n",
      "dtypes: int8(1)\n",
      "memory usage: 804.0 bytes\n"
     ]
    }
   ],
   "source": [
    "dfHechos['HH'].info()"
   ]
  },
  {
   "cell_type": "markdown",
   "metadata": {},
   "source": [
    "🏛️ Exploremos la columna 'ALTURA'"
   ]
  },
  {
   "cell_type": "code",
   "execution_count": 101,
   "metadata": {},
   "outputs": [
    {
     "name": "stdout",
     "output_type": "stream",
     "text": [
      "COLUMNA   FALTAN     %\n",
      "---------------------------\n",
      "ALTURA    571        82.04\n"
     ]
    }
   ],
   "source": [
    "n = dfHechos['ALTURA'].count()\n",
    "print(f'COLUMNA   FALTAN     %\\n---------------------------')\n",
    "print(f'ALTURA    {len - n}        {round(100 - (n * 100) / len, 2)}')"
   ]
  },
  {
   "cell_type": "markdown",
   "metadata": {},
   "source": [
    "La columna 'ALTURA' solo tiene 129 registros de 696"
   ]
  },
  {
   "cell_type": "markdown",
   "metadata": {},
   "source": [
    "🗣️ Debido al 81% de valores faltantes en la columna 'ALTURA' hemos decidido sacar esta columna del dataset."
   ]
  },
  {
   "cell_type": "code",
   "execution_count": 102,
   "metadata": {},
   "outputs": [],
   "source": [
    "dfHechos = dfHechos.drop(columns = ['ALTURA'])"
   ]
  },
  {
   "cell_type": "markdown",
   "metadata": {},
   "source": [
    "🏛️ Exploremos la columna 'COMUNA'"
   ]
  },
  {
   "cell_type": "code",
   "execution_count": 103,
   "metadata": {},
   "outputs": [
    {
     "name": "stdout",
     "output_type": "stream",
     "text": [
      "<class 'pandas.core.series.Series'>\n",
      "RangeIndex: 676 entries, 0 to 675\n",
      "Series name: COMUNA\n",
      "Non-Null Count  Dtype\n",
      "--------------  -----\n",
      "676 non-null    int64\n",
      "dtypes: int64(1)\n",
      "memory usage: 5.4 KB\n"
     ]
    }
   ],
   "source": [
    "dfHechos['COMUNA'].info()"
   ]
  },
  {
   "cell_type": "markdown",
   "metadata": {},
   "source": [
    "⬆️ No hay valores nulos."
   ]
  },
  {
   "cell_type": "code",
   "execution_count": 104,
   "metadata": {},
   "outputs": [
    {
     "data": {
      "text/plain": [
       "COMUNA\n",
       "1     88\n",
       "4     73\n",
       "9     71\n",
       "8     63\n",
       "7     58\n",
       "3     44\n",
       "15    43\n",
       "13    40\n",
       "12    35\n",
       "14    33\n",
       "11    31\n",
       "10    28\n",
       "2     25\n",
       "5     22\n",
       "6     20\n",
       "0      2\n",
       "Name: count, dtype: int64"
      ]
     },
     "execution_count": 104,
     "metadata": {},
     "output_type": "execute_result"
    }
   ],
   "source": [
    "# Cuantas veces aparece cada comuna\n",
    "dfHechos['COMUNA'].value_counts()"
   ]
  },
  {
   "cell_type": "markdown",
   "metadata": {},
   "source": [
    "En la comuna cero se presentaron dos hechos pero la comuna cero no existe."
   ]
  },
  {
   "cell_type": "code",
   "execution_count": 105,
   "metadata": {},
   "outputs": [
    {
     "data": {
      "text/html": [
       "<div>\n",
       "<style scoped>\n",
       "    .dataframe tbody tr th:only-of-type {\n",
       "        vertical-align: middle;\n",
       "    }\n",
       "\n",
       "    .dataframe tbody tr th {\n",
       "        vertical-align: top;\n",
       "    }\n",
       "\n",
       "    .dataframe thead th {\n",
       "        text-align: right;\n",
       "    }\n",
       "</style>\n",
       "<table border=\"1\" class=\"dataframe\">\n",
       "  <thead>\n",
       "    <tr style=\"text-align: right;\">\n",
       "      <th></th>\n",
       "      <th>ID</th>\n",
       "      <th>N_VICTIMAS</th>\n",
       "      <th>FECHA</th>\n",
       "      <th>SEMESTRE</th>\n",
       "      <th>ANIO</th>\n",
       "      <th>MM</th>\n",
       "      <th>DD</th>\n",
       "      <th>HORA</th>\n",
       "      <th>HH</th>\n",
       "      <th>PARTE_DIA</th>\n",
       "      <th>LUGAR_DEL_HECHO</th>\n",
       "      <th>TIPO_DE_CALLE</th>\n",
       "      <th>CALLE</th>\n",
       "      <th>CRUCE</th>\n",
       "      <th>COMUNA</th>\n",
       "      <th>PARTICIPANTES</th>\n",
       "      <th>VICTIMA</th>\n",
       "      <th>ACUSADO</th>\n",
       "    </tr>\n",
       "  </thead>\n",
       "  <tbody>\n",
       "    <tr>\n",
       "      <th>117</th>\n",
       "      <td>2016-0151</td>\n",
       "      <td>1</td>\n",
       "      <td>2016-11-18</td>\n",
       "      <td>2</td>\n",
       "      <td>2016</td>\n",
       "      <td>11</td>\n",
       "      <td>18</td>\n",
       "      <td>20:35:00</td>\n",
       "      <td>20</td>\n",
       "      <td>5</td>\n",
       "      <td>&lt;NA&gt;</td>\n",
       "      <td>CALLE</td>\n",
       "      <td>NaN</td>\n",
       "      <td>NaN</td>\n",
       "      <td>0</td>\n",
       "      <td>PEATON_SD</td>\n",
       "      <td>PEATON</td>\n",
       "      <td>NaN</td>\n",
       "    </tr>\n",
       "    <tr>\n",
       "      <th>137</th>\n",
       "      <td>2016-0174</td>\n",
       "      <td>1</td>\n",
       "      <td>2016-12-27</td>\n",
       "      <td>2</td>\n",
       "      <td>2016</td>\n",
       "      <td>12</td>\n",
       "      <td>27</td>\n",
       "      <td>00:00:00</td>\n",
       "      <td>0</td>\n",
       "      <td>0</td>\n",
       "      <td>AUTOPISTA 25 DE MAYO</td>\n",
       "      <td>AUTOPISTA</td>\n",
       "      <td>AUTOPISTA 25 DE MAYO</td>\n",
       "      <td>NaN</td>\n",
       "      <td>0</td>\n",
       "      <td>MOTO-CARGAS</td>\n",
       "      <td>MOTO</td>\n",
       "      <td>NaN</td>\n",
       "    </tr>\n",
       "  </tbody>\n",
       "</table>\n",
       "</div>"
      ],
      "text/plain": [
       "            ID  N_VICTIMAS      FECHA  SEMESTRE  ANIO  MM  DD      HORA  HH  \\\n",
       "117  2016-0151           1 2016-11-18         2  2016  11  18  20:35:00  20   \n",
       "137  2016-0174           1 2016-12-27         2  2016  12  27  00:00:00   0   \n",
       "\n",
       "     PARTE_DIA       LUGAR_DEL_HECHO TIPO_DE_CALLE                 CALLE  \\\n",
       "117          5                  <NA>         CALLE                   NaN   \n",
       "137          0  AUTOPISTA 25 DE MAYO     AUTOPISTA  AUTOPISTA 25 DE MAYO   \n",
       "\n",
       "    CRUCE  COMUNA PARTICIPANTES VICTIMA ACUSADO  \n",
       "117   NaN       0     PEATON_SD  PEATON     NaN  \n",
       "137   NaN       0   MOTO-CARGAS    MOTO     NaN  "
      ]
     },
     "execution_count": 105,
     "metadata": {},
     "output_type": "execute_result"
    }
   ],
   "source": [
    "# Filtrar las filas donde 'COMUNA' es igual a 0\n",
    "dfHechos.loc[dfHechos['COMUNA'] == 0]"
   ]
  },
  {
   "cell_type": "markdown",
   "metadata": {},
   "source": [
    "Busquemos filas con 'CALLE' o 'LUGAR_DEL_HECHO' igual a 'AUTOPISTA 25 DE MAYO' para ver si la comuna es la misma"
   ]
  },
  {
   "cell_type": "code",
   "execution_count": 106,
   "metadata": {},
   "outputs": [
    {
     "data": {
      "text/html": [
       "<div>\n",
       "<style scoped>\n",
       "    .dataframe tbody tr th:only-of-type {\n",
       "        vertical-align: middle;\n",
       "    }\n",
       "\n",
       "    .dataframe tbody tr th {\n",
       "        vertical-align: top;\n",
       "    }\n",
       "\n",
       "    .dataframe thead th {\n",
       "        text-align: right;\n",
       "    }\n",
       "</style>\n",
       "<table border=\"1\" class=\"dataframe\">\n",
       "  <thead>\n",
       "    <tr style=\"text-align: right;\">\n",
       "      <th></th>\n",
       "      <th>ID</th>\n",
       "      <th>N_VICTIMAS</th>\n",
       "      <th>FECHA</th>\n",
       "      <th>SEMESTRE</th>\n",
       "      <th>ANIO</th>\n",
       "      <th>MM</th>\n",
       "      <th>DD</th>\n",
       "      <th>HORA</th>\n",
       "      <th>HH</th>\n",
       "      <th>PARTE_DIA</th>\n",
       "      <th>LUGAR_DEL_HECHO</th>\n",
       "      <th>TIPO_DE_CALLE</th>\n",
       "      <th>CALLE</th>\n",
       "      <th>CRUCE</th>\n",
       "      <th>COMUNA</th>\n",
       "      <th>PARTICIPANTES</th>\n",
       "      <th>VICTIMA</th>\n",
       "      <th>ACUSADO</th>\n",
       "    </tr>\n",
       "  </thead>\n",
       "  <tbody>\n",
       "    <tr>\n",
       "      <th>84</th>\n",
       "      <td>2016-0112</td>\n",
       "      <td>1</td>\n",
       "      <td>2016-08-27</td>\n",
       "      <td>2</td>\n",
       "      <td>2016</td>\n",
       "      <td>8</td>\n",
       "      <td>27</td>\n",
       "      <td>04:40:00</td>\n",
       "      <td>4</td>\n",
       "      <td>1</td>\n",
       "      <td>AUTOPISTA 25 DE MAYO AUTOPISTA 1 SUR ARTURO FR...</td>\n",
       "      <td>AUTOPISTA</td>\n",
       "      <td>AUTOPISTA 25 DE MAYO</td>\n",
       "      <td>AUTOPISTA 1 SUR PRESIDENTE ARTURO FRONDIZI</td>\n",
       "      <td>1</td>\n",
       "      <td>MOTO_OBJETO FIJO</td>\n",
       "      <td>MOTO</td>\n",
       "      <td>OBJETO FIJO</td>\n",
       "    </tr>\n",
       "    <tr>\n",
       "      <th>137</th>\n",
       "      <td>2016-0174</td>\n",
       "      <td>1</td>\n",
       "      <td>2016-12-27</td>\n",
       "      <td>2</td>\n",
       "      <td>2016</td>\n",
       "      <td>12</td>\n",
       "      <td>27</td>\n",
       "      <td>00:00:00</td>\n",
       "      <td>0</td>\n",
       "      <td>0</td>\n",
       "      <td>AUTOPISTA 25 DE MAYO</td>\n",
       "      <td>AUTOPISTA</td>\n",
       "      <td>AUTOPISTA 25 DE MAYO</td>\n",
       "      <td>NaN</td>\n",
       "      <td>0</td>\n",
       "      <td>MOTO-CARGAS</td>\n",
       "      <td>MOTO</td>\n",
       "      <td>NaN</td>\n",
       "    </tr>\n",
       "    <tr>\n",
       "      <th>146</th>\n",
       "      <td>2017-0009</td>\n",
       "      <td>1</td>\n",
       "      <td>2017-01-16</td>\n",
       "      <td>1</td>\n",
       "      <td>2017</td>\n",
       "      <td>1</td>\n",
       "      <td>16</td>\n",
       "      <td>13:56:00</td>\n",
       "      <td>13</td>\n",
       "      <td>4</td>\n",
       "      <td>AU 25 DE MAYO Y AV. BOEDO</td>\n",
       "      <td>AUTOPISTA</td>\n",
       "      <td>AUTOPISTA 25 DE MAYO</td>\n",
       "      <td>NaN</td>\n",
       "      <td>5</td>\n",
       "      <td>MOTO_CARGAS</td>\n",
       "      <td>MOTO</td>\n",
       "      <td>CARGAS</td>\n",
       "    </tr>\n",
       "    <tr>\n",
       "      <th>153</th>\n",
       "      <td>2017-0016</td>\n",
       "      <td>1</td>\n",
       "      <td>2017-02-03</td>\n",
       "      <td>1</td>\n",
       "      <td>2017</td>\n",
       "      <td>2</td>\n",
       "      <td>3</td>\n",
       "      <td>05:12:21</td>\n",
       "      <td>5</td>\n",
       "      <td>1</td>\n",
       "      <td>AU 25 DE MAYO, KILOMETRO 8.3, SENTIDO HACIA PR...</td>\n",
       "      <td>AUTOPISTA</td>\n",
       "      <td>AUTOPISTA 25 DE MAYO</td>\n",
       "      <td>NaN</td>\n",
       "      <td>1</td>\n",
       "      <td>MOTO_CARGAS</td>\n",
       "      <td>MOTO</td>\n",
       "      <td>CARGAS</td>\n",
       "    </tr>\n",
       "    <tr>\n",
       "      <th>211</th>\n",
       "      <td>2017-0092</td>\n",
       "      <td>1</td>\n",
       "      <td>2017-07-24</td>\n",
       "      <td>2</td>\n",
       "      <td>2017</td>\n",
       "      <td>7</td>\n",
       "      <td>24</td>\n",
       "      <td>22:16:01</td>\n",
       "      <td>22</td>\n",
       "      <td>5</td>\n",
       "      <td>AU 25 DE MAYO Y AU FRONDIZI (9 DE JULIO SUR)</td>\n",
       "      <td>AUTOPISTA</td>\n",
       "      <td>AUTOPISTA 25 DE MAYO</td>\n",
       "      <td>AUTOPISTA 1 SUR PRESIDENTE ARTURO FRONDIZI</td>\n",
       "      <td>1</td>\n",
       "      <td>PEATON_AUTO</td>\n",
       "      <td>PEATON</td>\n",
       "      <td>AUTO</td>\n",
       "    </tr>\n",
       "    <tr>\n",
       "      <th>433</th>\n",
       "      <td>2019-0033</td>\n",
       "      <td>1</td>\n",
       "      <td>2019-04-18</td>\n",
       "      <td>1</td>\n",
       "      <td>2019</td>\n",
       "      <td>4</td>\n",
       "      <td>18</td>\n",
       "      <td>01:00:00</td>\n",
       "      <td>1</td>\n",
       "      <td>1</td>\n",
       "      <td>AUTOPISTA 25 DE MAYO Y HUERGO, ING. AV.</td>\n",
       "      <td>AUTOPISTA</td>\n",
       "      <td>AUTOPISTA 25 DE MAYO</td>\n",
       "      <td>HUERGO, ING. AV.</td>\n",
       "      <td>1</td>\n",
       "      <td>MOTO_SD</td>\n",
       "      <td>MOTO</td>\n",
       "      <td>NaN</td>\n",
       "    </tr>\n",
       "    <tr>\n",
       "      <th>538</th>\n",
       "      <td>2020-0035</td>\n",
       "      <td>1</td>\n",
       "      <td>2020-08-04</td>\n",
       "      <td>2</td>\n",
       "      <td>2020</td>\n",
       "      <td>8</td>\n",
       "      <td>4</td>\n",
       "      <td>05:30:00</td>\n",
       "      <td>5</td>\n",
       "      <td>1</td>\n",
       "      <td>AU 25 DE MAYO ALTURA PUMACAHUA Y RECUERO, CASI...</td>\n",
       "      <td>AUTOPISTA</td>\n",
       "      <td>AUTOPISTA 25 DE MAYO</td>\n",
       "      <td>NaN</td>\n",
       "      <td>7</td>\n",
       "      <td>MOTO_PASAJEROS</td>\n",
       "      <td>MOTO</td>\n",
       "      <td>PASAJEROS</td>\n",
       "    </tr>\n",
       "    <tr>\n",
       "      <th>581</th>\n",
       "      <td>2021-0003</td>\n",
       "      <td>1</td>\n",
       "      <td>2021-01-10</td>\n",
       "      <td>1</td>\n",
       "      <td>2021</td>\n",
       "      <td>1</td>\n",
       "      <td>10</td>\n",
       "      <td>07:40:00</td>\n",
       "      <td>7</td>\n",
       "      <td>2</td>\n",
       "      <td>AU 25 DE MAYO KM. 3,7</td>\n",
       "      <td>AUTOPISTA</td>\n",
       "      <td>AUTOPISTA 25 DE MAYO</td>\n",
       "      <td>NaN</td>\n",
       "      <td>7</td>\n",
       "      <td>MOTO_OBJETO FIJO</td>\n",
       "      <td>MOTO</td>\n",
       "      <td>OBJETO FIJO</td>\n",
       "    </tr>\n",
       "    <tr>\n",
       "      <th>611</th>\n",
       "      <td>2021-0033</td>\n",
       "      <td>1</td>\n",
       "      <td>2021-04-14</td>\n",
       "      <td>1</td>\n",
       "      <td>2021</td>\n",
       "      <td>4</td>\n",
       "      <td>14</td>\n",
       "      <td>17:50:00</td>\n",
       "      <td>17</td>\n",
       "      <td>4</td>\n",
       "      <td>AU 25 DE MAYO ALTURA BAJADA BOEDO AV.</td>\n",
       "      <td>AUTOPISTA</td>\n",
       "      <td>AUTOPISTA 25 DE MAYO</td>\n",
       "      <td>NaN</td>\n",
       "      <td>5</td>\n",
       "      <td>AUTO_OBJETO FIJO</td>\n",
       "      <td>AUTO</td>\n",
       "      <td>OBJETO FIJO</td>\n",
       "    </tr>\n",
       "    <tr>\n",
       "      <th>660</th>\n",
       "      <td>2021-0082</td>\n",
       "      <td>1</td>\n",
       "      <td>2021-11-06</td>\n",
       "      <td>2</td>\n",
       "      <td>2021</td>\n",
       "      <td>11</td>\n",
       "      <td>6</td>\n",
       "      <td>04:39:00</td>\n",
       "      <td>4</td>\n",
       "      <td>1</td>\n",
       "      <td>AU 25 DE MAYO KM7 (ALTURA PASCO)</td>\n",
       "      <td>AUTOPISTA</td>\n",
       "      <td>AUTOPISTA 25 DE MAYO</td>\n",
       "      <td>NaN</td>\n",
       "      <td>3</td>\n",
       "      <td>MOTO_AUTO</td>\n",
       "      <td>MOTO</td>\n",
       "      <td>AUTO</td>\n",
       "    </tr>\n",
       "  </tbody>\n",
       "</table>\n",
       "</div>"
      ],
      "text/plain": [
       "            ID  N_VICTIMAS      FECHA  SEMESTRE  ANIO  MM  DD      HORA  HH  \\\n",
       "84   2016-0112           1 2016-08-27         2  2016   8  27  04:40:00   4   \n",
       "137  2016-0174           1 2016-12-27         2  2016  12  27  00:00:00   0   \n",
       "146  2017-0009           1 2017-01-16         1  2017   1  16  13:56:00  13   \n",
       "153  2017-0016           1 2017-02-03         1  2017   2   3  05:12:21   5   \n",
       "211  2017-0092           1 2017-07-24         2  2017   7  24  22:16:01  22   \n",
       "433  2019-0033           1 2019-04-18         1  2019   4  18  01:00:00   1   \n",
       "538  2020-0035           1 2020-08-04         2  2020   8   4  05:30:00   5   \n",
       "581  2021-0003           1 2021-01-10         1  2021   1  10  07:40:00   7   \n",
       "611  2021-0033           1 2021-04-14         1  2021   4  14  17:50:00  17   \n",
       "660  2021-0082           1 2021-11-06         2  2021  11   6  04:39:00   4   \n",
       "\n",
       "     PARTE_DIA                                    LUGAR_DEL_HECHO  \\\n",
       "84           1  AUTOPISTA 25 DE MAYO AUTOPISTA 1 SUR ARTURO FR...   \n",
       "137          0                               AUTOPISTA 25 DE MAYO   \n",
       "146          4                          AU 25 DE MAYO Y AV. BOEDO   \n",
       "153          1  AU 25 DE MAYO, KILOMETRO 8.3, SENTIDO HACIA PR...   \n",
       "211          5       AU 25 DE MAYO Y AU FRONDIZI (9 DE JULIO SUR)   \n",
       "433          1            AUTOPISTA 25 DE MAYO Y HUERGO, ING. AV.   \n",
       "538          1  AU 25 DE MAYO ALTURA PUMACAHUA Y RECUERO, CASI...   \n",
       "581          2                              AU 25 DE MAYO KM. 3,7   \n",
       "611          4              AU 25 DE MAYO ALTURA BAJADA BOEDO AV.   \n",
       "660          1                   AU 25 DE MAYO KM7 (ALTURA PASCO)   \n",
       "\n",
       "    TIPO_DE_CALLE                 CALLE  \\\n",
       "84      AUTOPISTA  AUTOPISTA 25 DE MAYO   \n",
       "137     AUTOPISTA  AUTOPISTA 25 DE MAYO   \n",
       "146     AUTOPISTA  AUTOPISTA 25 DE MAYO   \n",
       "153     AUTOPISTA  AUTOPISTA 25 DE MAYO   \n",
       "211     AUTOPISTA  AUTOPISTA 25 DE MAYO   \n",
       "433     AUTOPISTA  AUTOPISTA 25 DE MAYO   \n",
       "538     AUTOPISTA  AUTOPISTA 25 DE MAYO   \n",
       "581     AUTOPISTA  AUTOPISTA 25 DE MAYO   \n",
       "611     AUTOPISTA  AUTOPISTA 25 DE MAYO   \n",
       "660     AUTOPISTA  AUTOPISTA 25 DE MAYO   \n",
       "\n",
       "                                          CRUCE  COMUNA     PARTICIPANTES  \\\n",
       "84   AUTOPISTA 1 SUR PRESIDENTE ARTURO FRONDIZI       1  MOTO_OBJETO FIJO   \n",
       "137                                         NaN       0       MOTO-CARGAS   \n",
       "146                                         NaN       5       MOTO_CARGAS   \n",
       "153                                         NaN       1       MOTO_CARGAS   \n",
       "211  AUTOPISTA 1 SUR PRESIDENTE ARTURO FRONDIZI       1       PEATON_AUTO   \n",
       "433                            HUERGO, ING. AV.       1           MOTO_SD   \n",
       "538                                         NaN       7    MOTO_PASAJEROS   \n",
       "581                                         NaN       7  MOTO_OBJETO FIJO   \n",
       "611                                         NaN       5  AUTO_OBJETO FIJO   \n",
       "660                                         NaN       3         MOTO_AUTO   \n",
       "\n",
       "    VICTIMA      ACUSADO  \n",
       "84     MOTO  OBJETO FIJO  \n",
       "137    MOTO          NaN  \n",
       "146    MOTO       CARGAS  \n",
       "153    MOTO       CARGAS  \n",
       "211  PEATON         AUTO  \n",
       "433    MOTO          NaN  \n",
       "538    MOTO    PASAJEROS  \n",
       "581    MOTO  OBJETO FIJO  \n",
       "611    AUTO  OBJETO FIJO  \n",
       "660    MOTO         AUTO  "
      ]
     },
     "execution_count": 106,
     "metadata": {},
     "output_type": "execute_result"
    }
   ],
   "source": [
    "dfHechos.loc[(dfHechos['LUGAR_DEL_HECHO'] == 'AUTOPISTA 25 DE MAYO') | (dfHechos['CALLE'] == 'AUTOPISTA 25 DE MAYO')]"
   ]
  },
  {
   "cell_type": "markdown",
   "metadata": {},
   "source": [
    "La comuna 1 es la mas frecuente en hechos ocurridos en la 'AUTOPISTA 25 DE MAYO'. Al hecho '2016-0174' le pondremos la comuna 1."
   ]
  },
  {
   "cell_type": "code",
   "execution_count": 107,
   "metadata": {},
   "outputs": [],
   "source": [
    "# Cambiar el valor de la columna 'COMUNA' a 1 en la fila '2016-0174'\n",
    "dfHechos.loc[dfHechos['ID'] == '2016-0174', 'COMUNA'] = 1"
   ]
  },
  {
   "cell_type": "markdown",
   "metadata": {},
   "source": [
    "Al hecho '2016-0174' tambien le pondremos los valores mas comunes en la 'AUTOPISTA 25 DE MAYO': 'PARTICIPANTES' = 'MOTO_OBJETO FIJO', 'VICTIMA' = 'MOTO' y 'ACUSADO' = 'OBJETO FIJO'"
   ]
  },
  {
   "cell_type": "code",
   "execution_count": 108,
   "metadata": {},
   "outputs": [],
   "source": [
    "dfHechos.loc[dfHechos['ID'] == '2016-0174', 'PARTICIPANTES'] = 'MOTO_OBJETO FIJO'\n",
    "dfHechos.loc[dfHechos['ID'] == '2016-0174', 'VICTIMA'] = 'MOTO'\n",
    "dfHechos.loc[dfHechos['ID'] == '2016-0174', 'ACUSADO'] = 'OBJETO FIJO'"
   ]
  },
  {
   "cell_type": "markdown",
   "metadata": {},
   "source": [
    "En la otra fila en donde la comuna es cero, por la falta de datos en columnas importantes como 'PARTICIPANTES', 'ACUSADO', 'LUGAR_DEL_HECHO' y 'CALLE' hemos decidido __eliminar__ ❌ esta fila cuyo ID es igual a '2016-0151' en los dos dataframe. "
   ]
  },
  {
   "cell_type": "code",
   "execution_count": 109,
   "metadata": {},
   "outputs": [],
   "source": [
    "# Eliminar las filas donde 'ID' es igual a '2016-0151' en dfHechos\n",
    "dfHechos = dfHechos.drop(dfHechos[dfHechos['ID'] == '2016-0151'].index).reset_index(drop = True)\n",
    "\n",
    "# Eliminar las filas donde 'ID_HECHO' es igual a '2016-0151' en dfVictimas\n",
    "dfVictimas = dfVictimas.drop(dfVictimas[dfVictimas['ID_hecho'] == '2016-0151'].index).reset_index(drop = True)"
   ]
  },
  {
   "cell_type": "markdown",
   "metadata": {},
   "source": [
    "Inspeccionemos la forma en la que esta distribuida la frecuencia de los valores en la columna 'COMUNA' ya que puede proporcionarnos algunas pistas sobre la presencia de outliers."
   ]
  },
  {
   "cell_type": "code",
   "execution_count": 110,
   "metadata": {},
   "outputs": [
    {
     "name": "stdout",
     "output_type": "stream",
     "text": [
      "Empty DataFrame\n",
      "Columns: [ID, N_VICTIMAS, FECHA, SEMESTRE, ANIO, MM, DD, HORA, HH, PARTE_DIA, LUGAR_DEL_HECHO, TIPO_DE_CALLE, CALLE, CRUCE, COMUNA, PARTICIPANTES, VICTIMA, ACUSADO]\n",
      "Index: []\n"
     ]
    },
    {
     "data": {
      "text/html": [
       "<div>\n",
       "<style scoped>\n",
       "    .dataframe tbody tr th:only-of-type {\n",
       "        vertical-align: middle;\n",
       "    }\n",
       "\n",
       "    .dataframe tbody tr th {\n",
       "        vertical-align: top;\n",
       "    }\n",
       "\n",
       "    .dataframe thead th {\n",
       "        text-align: right;\n",
       "    }\n",
       "</style>\n",
       "<table border=\"1\" class=\"dataframe\">\n",
       "  <thead>\n",
       "    <tr style=\"text-align: right;\">\n",
       "      <th></th>\n",
       "      <th>ID</th>\n",
       "      <th>N_VICTIMAS</th>\n",
       "      <th>FECHA</th>\n",
       "      <th>SEMESTRE</th>\n",
       "      <th>ANIO</th>\n",
       "      <th>MM</th>\n",
       "      <th>DD</th>\n",
       "      <th>HORA</th>\n",
       "      <th>HH</th>\n",
       "      <th>PARTE_DIA</th>\n",
       "      <th>LUGAR_DEL_HECHO</th>\n",
       "      <th>TIPO_DE_CALLE</th>\n",
       "      <th>CALLE</th>\n",
       "      <th>CRUCE</th>\n",
       "      <th>COMUNA</th>\n",
       "      <th>PARTICIPANTES</th>\n",
       "      <th>VICTIMA</th>\n",
       "      <th>ACUSADO</th>\n",
       "    </tr>\n",
       "  </thead>\n",
       "  <tbody>\n",
       "  </tbody>\n",
       "</table>\n",
       "</div>"
      ],
      "text/plain": [
       "Empty DataFrame\n",
       "Columns: [ID, N_VICTIMAS, FECHA, SEMESTRE, ANIO, MM, DD, HORA, HH, PARTE_DIA, LUGAR_DEL_HECHO, TIPO_DE_CALLE, CALLE, CRUCE, COMUNA, PARTICIPANTES, VICTIMA, ACUSADO]\n",
       "Index: []"
      ]
     },
     "execution_count": 110,
     "metadata": {},
     "output_type": "execute_result"
    }
   ],
   "source": [
    "# Crear un nuevo dataframe vacío para almacenar filas con valores no numéricos\n",
    "dfNoNum = pd.DataFrame(columns=dfHechos.columns)\n",
    "\n",
    "# Recorrer la columna 'COMUNA'\n",
    "for i in range(dfHechos.shape[0]):\n",
    "\n",
    "    # Obtener el valor de la celda actual\n",
    "    valor = dfHechos.loc[i, 'COMUNA']\n",
    "\n",
    "    # Verificar si el valor no es numérico (incluyendo NaN)\n",
    "    if not isinstance(valor, (int, float, np.integer, np.floating)):\n",
    "\n",
    "        # Agregar la fila al dataframe dfNoNum usando concat\n",
    "        dfNoNum = pd.concat([dfNoNum, dfHechos.iloc[i].to_frame().T], ignore_index=True)\n",
    "\n",
    "# Mostrar el dataframe dfNoNum\n",
    "print(dfNoNum.to_string())\n",
    "dfNoNum"
   ]
  },
  {
   "cell_type": "code",
   "execution_count": 111,
   "metadata": {},
   "outputs": [
    {
     "data": {
      "text/plain": [
       "Text(0.5, 0, 'COMUNAS')"
      ]
     },
     "execution_count": 111,
     "metadata": {},
     "output_type": "execute_result"
    },
    {
     "data": {
      "image/png": "[encoded data removed]",
      "text/plain": [
       "<Figure size 432x288 with 1 Axes>"
      ]
     },
     "metadata": {
      "needs_background": "light"
     },
     "output_type": "display_data"
    }
   ],
   "source": [
    "# Create a box plot\n",
    "g = sns.boxplot(data = dfHechos, x = 'COMUNA', showmeans = True, meanline = True)\n",
    "\n",
    "# Add a title and change xlabel\n",
    "g.set_title('Diagrama de caja de COMUNA')\n",
    "g.set_xlabel('COMUNAS')"
   ]
  },
  {
   "cell_type": "markdown",
   "metadata": {},
   "source": [
    "No se aprecian valores atipicos en el diagrama."
   ]
  },
  {
   "cell_type": "markdown",
   "metadata": {},
   "source": [
    "### Victimas"
   ]
  },
  {
   "cell_type": "markdown",
   "metadata": {},
   "source": [
    "Investigación de composicion<br>\n",
    "Vamos a visualizar como estan agrupados los datos, ver sus tipos, cuantos son, nombres de columnas. A partir de esta<br> primera observacion podemos tomar algunas decisiones de accion."
   ]
  },
  {
   "cell_type": "code",
   "execution_count": 112,
   "metadata": {},
   "outputs": [
    {
     "name": "stdout",
     "output_type": "stream",
     "text": [
      "<class 'pandas.core.frame.DataFrame'>\n",
      "RangeIndex: 716 entries, 0 to 715\n",
      "Data columns (total 10 columns):\n",
      " #   Column               Non-Null Count  Dtype         \n",
      "---  ------               --------------  -----         \n",
      " 0   ID_hecho             716 non-null    object        \n",
      " 1   FECHA                716 non-null    datetime64[ns]\n",
      " 2   AAAA                 716 non-null    int64         \n",
      " 3   MM                   716 non-null    int64         \n",
      " 4   DD                   716 non-null    int64         \n",
      " 5   ROL                  716 non-null    object        \n",
      " 6   VICTIMA              716 non-null    object        \n",
      " 7   SEXO                 716 non-null    object        \n",
      " 8   EDAD                 716 non-null    object        \n",
      " 9   FECHA_FALLECIMIENTO  716 non-null    object        \n",
      "dtypes: datetime64[ns](1), int64(3), object(6)\n",
      "memory usage: 56.1+ KB\n"
     ]
    }
   ],
   "source": [
    "dfVictimas.info()"
   ]
  },
  {
   "cell_type": "markdown",
   "metadata": {},
   "source": [
    "Como buena practica, unificaremos el criterio para nombrar las columnas, decidimos que deben estar en mayusculas y las palabras mejor que esten separadas por un guion bajo"
   ]
  },
  {
   "cell_type": "code",
   "execution_count": 113,
   "metadata": {},
   "outputs": [],
   "source": [
    "dfVictimas.rename(columns = {'ID_hecho': 'ID_HECHO'}, inplace = True)"
   ]
  },
  {
   "cell_type": "markdown",
   "metadata": {},
   "source": [
    "Las columnas 'FECHA', 'AAAA', 'MM', 'DD' se repiten en el dataframe dfHechos. Como no las necesitamos las vamos a eliminar.<br>\n",
    "Eliminaremos la columna 'FECHA_FALLECIMIENTO' porque ya tenemos la fecha de hecho en dfHechos.<br>\n",
    "Eliminaremos las columnas 'ROL' y 'VICTIMA' porque usaremos la columna 'VICTIMA' de dfHechos para saber el tipo de victima."
   ]
  },
  {
   "cell_type": "code",
   "execution_count": 114,
   "metadata": {},
   "outputs": [
    {
     "data": {
      "text/html": [
       "<div>\n",
       "<style scoped>\n",
       "    .dataframe tbody tr th:only-of-type {\n",
       "        vertical-align: middle;\n",
       "    }\n",
       "\n",
       "    .dataframe tbody tr th {\n",
       "        vertical-align: top;\n",
       "    }\n",
       "\n",
       "    .dataframe thead th {\n",
       "        text-align: right;\n",
       "    }\n",
       "</style>\n",
       "<table border=\"1\" class=\"dataframe\">\n",
       "  <thead>\n",
       "    <tr style=\"text-align: right;\">\n",
       "      <th></th>\n",
       "      <th>ID_HECHO</th>\n",
       "      <th>SEXO</th>\n",
       "      <th>EDAD</th>\n",
       "    </tr>\n",
       "  </thead>\n",
       "  <tbody>\n",
       "    <tr>\n",
       "      <th>0</th>\n",
       "      <td>2016-0001</td>\n",
       "      <td>MASCULINO</td>\n",
       "      <td>19</td>\n",
       "    </tr>\n",
       "    <tr>\n",
       "      <th>1</th>\n",
       "      <td>2016-0002</td>\n",
       "      <td>MASCULINO</td>\n",
       "      <td>70</td>\n",
       "    </tr>\n",
       "    <tr>\n",
       "      <th>2</th>\n",
       "      <td>2016-0003</td>\n",
       "      <td>MASCULINO</td>\n",
       "      <td>30</td>\n",
       "    </tr>\n",
       "    <tr>\n",
       "      <th>3</th>\n",
       "      <td>2016-0004</td>\n",
       "      <td>MASCULINO</td>\n",
       "      <td>18</td>\n",
       "    </tr>\n",
       "    <tr>\n",
       "      <th>4</th>\n",
       "      <td>2016-0005</td>\n",
       "      <td>MASCULINO</td>\n",
       "      <td>29</td>\n",
       "    </tr>\n",
       "  </tbody>\n",
       "</table>\n",
       "</div>"
      ],
      "text/plain": [
       "    ID_HECHO       SEXO EDAD\n",
       "0  2016-0001  MASCULINO   19\n",
       "1  2016-0002  MASCULINO   70\n",
       "2  2016-0003  MASCULINO   30\n",
       "3  2016-0004  MASCULINO   18\n",
       "4  2016-0005  MASCULINO   29"
      ]
     },
     "execution_count": 114,
     "metadata": {},
     "output_type": "execute_result"
    }
   ],
   "source": [
    "dfVictimas = dfVictimas.drop(columns = ['FECHA', 'AAAA', 'MM', 'DD', 'ROL', 'VICTIMA', 'FECHA_FALLECIMIENTO'], axis = 1)\n",
    "dfVictimas.head()"
   ]
  },
  {
   "cell_type": "markdown",
   "metadata": {},
   "source": [
    "Cambiaremos todos los valores \"SD\" (Sin datos) a NaN. Con este cambio ayudaremos a las funciones de pandas a identificar valores faltantes (NaN)."
   ]
  },
  {
   "cell_type": "code",
   "execution_count": 115,
   "metadata": {},
   "outputs": [],
   "source": [
    "dfVictimas.replace(['SD','sd'], float('nan'), inplace = True)"
   ]
  },
  {
   "cell_type": "markdown",
   "metadata": {},
   "source": [
    "¿Los IDs se repiten?"
   ]
  },
  {
   "cell_type": "code",
   "execution_count": 116,
   "metadata": {},
   "outputs": [
    {
     "name": "stdout",
     "output_type": "stream",
     "text": [
      "Hay 21 'ID_HECHO' repetidos\n"
     ]
    }
   ],
   "source": [
    "if dfVictimas['ID_HECHO'].nunique() == dfVictimas.shape[0]: \n",
    "  print('No hay \\'ID_HECHO\\' repetidos')\n",
    "else:\n",
    "  print(f'Hay {dfVictimas.shape[0] - dfVictimas[\"ID_HECHO\"].nunique()} \\'ID_HECHO\\' repetidos')"
   ]
  },
  {
   "cell_type": "markdown",
   "metadata": {},
   "source": [
    "Estos 21 repetidos son debido a que hay varios hechos con mas de una victima… todo esta bien 👍"
   ]
  },
  {
   "cell_type": "markdown",
   "metadata": {},
   "source": [
    "#### Veamos las columnas __no numericas__"
   ]
  },
  {
   "cell_type": "markdown",
   "metadata": {},
   "source": [
    "🏛️ Exploremos la columna 'SEXO'"
   ]
  },
  {
   "cell_type": "code",
   "execution_count": 117,
   "metadata": {},
   "outputs": [
    {
     "data": {
      "text/html": [
       "<div>\n",
       "<style scoped>\n",
       "    .dataframe tbody tr th:only-of-type {\n",
       "        vertical-align: middle;\n",
       "    }\n",
       "\n",
       "    .dataframe tbody tr th {\n",
       "        vertical-align: top;\n",
       "    }\n",
       "\n",
       "    .dataframe thead th {\n",
       "        text-align: right;\n",
       "    }\n",
       "</style>\n",
       "<table border=\"1\" class=\"dataframe\">\n",
       "  <thead>\n",
       "    <tr style=\"text-align: right;\">\n",
       "      <th></th>\n",
       "      <th>ID_HECHO</th>\n",
       "      <th>SEXO</th>\n",
       "    </tr>\n",
       "  </thead>\n",
       "  <tbody>\n",
       "    <tr>\n",
       "      <th>count</th>\n",
       "      <td>716</td>\n",
       "      <td>711</td>\n",
       "    </tr>\n",
       "    <tr>\n",
       "      <th>unique</th>\n",
       "      <td>695</td>\n",
       "      <td>2</td>\n",
       "    </tr>\n",
       "    <tr>\n",
       "      <th>top</th>\n",
       "      <td>2017-0035</td>\n",
       "      <td>MASCULINO</td>\n",
       "    </tr>\n",
       "    <tr>\n",
       "      <th>freq</th>\n",
       "      <td>3</td>\n",
       "      <td>545</td>\n",
       "    </tr>\n",
       "  </tbody>\n",
       "</table>\n",
       "</div>"
      ],
      "text/plain": [
       "         ID_HECHO       SEXO\n",
       "count         716        711\n",
       "unique        695          2\n",
       "top     2017-0035  MASCULINO\n",
       "freq            3        545"
      ]
     },
     "execution_count": 117,
     "metadata": {},
     "output_type": "execute_result"
    }
   ],
   "source": [
    "dfVictimas.describe(exclude = 'number')"
   ]
  },
  {
   "cell_type": "code",
   "execution_count": 118,
   "metadata": {},
   "outputs": [
    {
     "name": "stdout",
     "output_type": "stream",
     "text": [
      "<class 'pandas.core.series.Series'>\n",
      "RangeIndex: 716 entries, 0 to 715\n",
      "Series name: SEXO\n",
      "Non-Null Count  Dtype \n",
      "--------------  ----- \n",
      "711 non-null    object\n",
      "dtypes: object(1)\n",
      "memory usage: 5.7+ KB\n"
     ]
    }
   ],
   "source": [
    "dfVictimas['SEXO'].info()"
   ]
  },
  {
   "cell_type": "markdown",
   "metadata": {},
   "source": [
    "Faltan cinco valores nulos en la columna 'SEXO'.<br>\n",
    "Hay dos subcategorias en la columna 'SEXO'. Veamos cuales son:"
   ]
  },
  {
   "cell_type": "code",
   "execution_count": 119,
   "metadata": {},
   "outputs": [
    {
     "data": {
      "text/plain": [
       "SEXO\n",
       "MASCULINO    545\n",
       "FEMENINO     166\n",
       "Name: count, dtype: int64"
      ]
     },
     "execution_count": 119,
     "metadata": {},
     "output_type": "execute_result"
    }
   ],
   "source": [
    "dfVictimas['SEXO'].value_counts()"
   ]
  },
  {
   "cell_type": "markdown",
   "metadata": {},
   "source": [
    "¿Faltan datos en las columnas?"
   ]
  },
  {
   "cell_type": "code",
   "execution_count": 120,
   "metadata": {},
   "outputs": [
    {
     "name": "stdout",
     "output_type": "stream",
     "text": [
      "COLUMNA             FALTAN     %\n",
      "--------------------------------------\n",
      "SEXO                5          0.7\n",
      "EDAD                52         7.26\n"
     ]
    }
   ],
   "source": [
    "len = dfVictimas.shape[0]\n",
    "print(f'COLUMNA             FALTAN     %\\n--------------------------------------')\n",
    "print(f'SEXO{\" \" * 16}{len - dfVictimas[\"SEXO\"].count()}{\" \" * 10}{round(100 - (dfVictimas[\"SEXO\"].count() * 100) / len, 2)}')\n",
    "print(f'EDAD{\" \" * 16}{len - dfVictimas[\"EDAD\"].count()}{\" \" * 9}{round(100 - (dfVictimas[\"EDAD\"].count() * 100) / len, 2)}')"
   ]
  },
  {
   "cell_type": "markdown",
   "metadata": {},
   "source": [
    "La columna 'SEXO' tiene 711 registros de 716<br>\n",
    "La columna 'EDAD' solo tiene 664 registros de 717<br>"
   ]
  },
  {
   "cell_type": "markdown",
   "metadata": {},
   "source": [
    "Para mantener el balance actual imputaremos los cinco valores nulos de la columna 'SEXO' con tres masculinos y dos femeninos."
   ]
  },
  {
   "cell_type": "code",
   "execution_count": 121,
   "metadata": {},
   "outputs": [],
   "source": [
    "# Sustituir tres valores nulos por 'MASCULINO' en la columna 'SEXO'\n",
    "dfVictimas['SEXO'].fillna('MASCULINO', limit = 3, inplace = True)\n",
    "# Sustituir dos valores nulos por 'FEMENINO' en la columna 'SEXO'\n",
    "dfVictimas['SEXO'].fillna('FEMENINO', limit = 2, inplace = True)"
   ]
  },
  {
   "cell_type": "code",
   "execution_count": 122,
   "metadata": {},
   "outputs": [
    {
     "name": "stdout",
     "output_type": "stream",
     "text": [
      "COLUMNA             FALTAN     %\n",
      "--------------------------------------\n",
      "SEXO                0          0.0\n"
     ]
    }
   ],
   "source": [
    "print(f'COLUMNA             FALTAN     %\\n--------------------------------------')\n",
    "print(f'SEXO{\" \" * 16}{len - dfVictimas[\"SEXO\"].count()}{\" \" * 10}{round(100 - (dfVictimas[\"SEXO\"].count() * 100) / len, 2)}')"
   ]
  },
  {
   "cell_type": "markdown",
   "metadata": {},
   "source": [
    "Inspeccionemos la forma en la que esta distribuida la frecuencia de los valores en la columna 'SEXO' ya que puede proporcionarnos algunas pistas sobre la presencia de outliers."
   ]
  },
  {
   "cell_type": "markdown",
   "metadata": {},
   "source": [
    "Veamos un panorama grafico de la columna 'SEXO'"
   ]
  },
  {
   "cell_type": "code",
   "execution_count": 123,
   "metadata": {},
   "outputs": [
    {
     "data": {
      "image/png": "[encoded data removed]",
      "text/plain": [
       "<Figure size 1440x576 with 1 Axes>"
      ]
     },
     "metadata": {
      "needs_background": "light"
     },
     "output_type": "display_data"
    }
   ],
   "source": [
    "# Ajustar el tamaño de la figura\n",
    "plt.figure(figsize = (20, 8))\n",
    "\n",
    "# Crear el countplot para la columna 'ACUSADO'\n",
    "sns.countplot(x = 'SEXO', data = dfVictimas)\n",
    "\n",
    "# Mostrar la gráfica\n",
    "plt.show()"
   ]
  },
  {
   "cell_type": "markdown",
   "metadata": {},
   "source": [
    "#### Veamos las columnas numericas"
   ]
  },
  {
   "cell_type": "markdown",
   "metadata": {},
   "source": [
    "🏛️ Exploremos la columna 'EDAD'"
   ]
  },
  {
   "cell_type": "code",
   "execution_count": 124,
   "metadata": {},
   "outputs": [
    {
     "data": {
      "text/html": [
       "<div>\n",
       "<style scoped>\n",
       "    .dataframe tbody tr th:only-of-type {\n",
       "        vertical-align: middle;\n",
       "    }\n",
       "\n",
       "    .dataframe tbody tr th {\n",
       "        vertical-align: top;\n",
       "    }\n",
       "\n",
       "    .dataframe thead th {\n",
       "        text-align: right;\n",
       "    }\n",
       "</style>\n",
       "<table border=\"1\" class=\"dataframe\">\n",
       "  <thead>\n",
       "    <tr style=\"text-align: right;\">\n",
       "      <th></th>\n",
       "      <th>EDAD</th>\n",
       "    </tr>\n",
       "  </thead>\n",
       "  <tbody>\n",
       "    <tr>\n",
       "      <th>count</th>\n",
       "      <td>664.000000</td>\n",
       "    </tr>\n",
       "    <tr>\n",
       "      <th>mean</th>\n",
       "      <td>42.167169</td>\n",
       "    </tr>\n",
       "    <tr>\n",
       "      <th>std</th>\n",
       "      <td>19.788034</td>\n",
       "    </tr>\n",
       "    <tr>\n",
       "      <th>min</th>\n",
       "      <td>1.000000</td>\n",
       "    </tr>\n",
       "    <tr>\n",
       "      <th>25%</th>\n",
       "      <td>27.000000</td>\n",
       "    </tr>\n",
       "    <tr>\n",
       "      <th>50%</th>\n",
       "      <td>37.000000</td>\n",
       "    </tr>\n",
       "    <tr>\n",
       "      <th>75%</th>\n",
       "      <td>56.250000</td>\n",
       "    </tr>\n",
       "    <tr>\n",
       "      <th>max</th>\n",
       "      <td>95.000000</td>\n",
       "    </tr>\n",
       "  </tbody>\n",
       "</table>\n",
       "</div>"
      ],
      "text/plain": [
       "             EDAD\n",
       "count  664.000000\n",
       "mean    42.167169\n",
       "std     19.788034\n",
       "min      1.000000\n",
       "25%     27.000000\n",
       "50%     37.000000\n",
       "75%     56.250000\n",
       "max     95.000000"
      ]
     },
     "execution_count": 124,
     "metadata": {},
     "output_type": "execute_result"
    }
   ],
   "source": [
    "dfVictimas.describe()"
   ]
  },
  {
   "cell_type": "markdown",
   "metadata": {},
   "source": [
    "Edades que van desde uno hasta los 96 años."
   ]
  },
  {
   "cell_type": "code",
   "execution_count": 125,
   "metadata": {},
   "outputs": [
    {
     "name": "stdout",
     "output_type": "stream",
     "text": [
      "<class 'pandas.core.series.Series'>\n",
      "RangeIndex: 716 entries, 0 to 715\n",
      "Series name: EDAD\n",
      "Non-Null Count  Dtype  \n",
      "--------------  -----  \n",
      "664 non-null    float64\n",
      "dtypes: float64(1)\n",
      "memory usage: 5.7 KB\n"
     ]
    }
   ],
   "source": [
    "dfVictimas['EDAD'].info()"
   ]
  },
  {
   "cell_type": "markdown",
   "metadata": {},
   "source": [
    "Hay 52 edades nulas.<br>\n",
    "El tipo de dato deberia ser int8."
   ]
  },
  {
   "cell_type": "markdown",
   "metadata": {},
   "source": [
    "Veamos los nulos."
   ]
  },
  {
   "cell_type": "code",
   "execution_count": 126,
   "metadata": {},
   "outputs": [
    {
     "data": {
      "text/html": [
       "<div>\n",
       "<style scoped>\n",
       "    .dataframe tbody tr th:only-of-type {\n",
       "        vertical-align: middle;\n",
       "    }\n",
       "\n",
       "    .dataframe tbody tr th {\n",
       "        vertical-align: top;\n",
       "    }\n",
       "\n",
       "    .dataframe thead th {\n",
       "        text-align: right;\n",
       "    }\n",
       "</style>\n",
       "<table border=\"1\" class=\"dataframe\">\n",
       "  <thead>\n",
       "    <tr style=\"text-align: right;\">\n",
       "      <th></th>\n",
       "      <th>ID_HECHO</th>\n",
       "      <th>SEXO</th>\n",
       "      <th>EDAD</th>\n",
       "    </tr>\n",
       "  </thead>\n",
       "  <tbody>\n",
       "    <tr>\n",
       "      <th>30</th>\n",
       "      <td>2016-0041</td>\n",
       "      <td>MASCULINO</td>\n",
       "      <td>NaN</td>\n",
       "    </tr>\n",
       "    <tr>\n",
       "      <th>33</th>\n",
       "      <td>2016-0045</td>\n",
       "      <td>MASCULINO</td>\n",
       "      <td>NaN</td>\n",
       "    </tr>\n",
       "    <tr>\n",
       "      <th>35</th>\n",
       "      <td>2016-0048</td>\n",
       "      <td>FEMENINO</td>\n",
       "      <td>NaN</td>\n",
       "    </tr>\n",
       "    <tr>\n",
       "      <th>36</th>\n",
       "      <td>2016-0049</td>\n",
       "      <td>MASCULINO</td>\n",
       "      <td>NaN</td>\n",
       "    </tr>\n",
       "    <tr>\n",
       "      <th>39</th>\n",
       "      <td>2016-0052</td>\n",
       "      <td>MASCULINO</td>\n",
       "      <td>NaN</td>\n",
       "    </tr>\n",
       "  </tbody>\n",
       "</table>\n",
       "</div>"
      ],
      "text/plain": [
       "     ID_HECHO       SEXO  EDAD\n",
       "30  2016-0041  MASCULINO   NaN\n",
       "33  2016-0045  MASCULINO   NaN\n",
       "35  2016-0048   FEMENINO   NaN\n",
       "36  2016-0049  MASCULINO   NaN\n",
       "39  2016-0052  MASCULINO   NaN"
      ]
     },
     "execution_count": 126,
     "metadata": {},
     "output_type": "execute_result"
    }
   ],
   "source": [
    "dfVictimas[dfVictimas['EDAD'].isnull()].head()"
   ]
  },
  {
   "cell_type": "markdown",
   "metadata": {},
   "source": [
    "Dejaremos el dato con valor nulo porque es aceptable que no se pudiera determinar la edad al momento de siniestro."
   ]
  },
  {
   "cell_type": "markdown",
   "metadata": {},
   "source": [
    "La columna 'EDAD' deberia ser de tipo entero. Los enteros ocupan poco espacio en memoria."
   ]
  },
  {
   "cell_type": "code",
   "execution_count": 127,
   "metadata": {},
   "outputs": [],
   "source": [
    "# El parametro 'downcast' intentara reducir el tipo de dato al tamaño más pequeño posible,\n",
    "# manteniendo la precisión de los datos.\n",
    "dfVictimas['EDAD'] = pd.to_numeric(dfVictimas['EDAD'], errors = 'coerce', downcast = 'integer')"
   ]
  },
  {
   "cell_type": "code",
   "execution_count": 128,
   "metadata": {},
   "outputs": [
    {
     "name": "stdout",
     "output_type": "stream",
     "text": [
      "<class 'pandas.core.series.Series'>\n",
      "RangeIndex: 716 entries, 0 to 715\n",
      "Series name: EDAD\n",
      "Non-Null Count  Dtype  \n",
      "--------------  -----  \n",
      "664 non-null    float64\n",
      "dtypes: float64(1)\n",
      "memory usage: 5.7 KB\n"
     ]
    }
   ],
   "source": [
    "dfVictimas['EDAD'].info()"
   ]
  },
  {
   "cell_type": "markdown",
   "metadata": {},
   "source": [
    "⬆️ La columna 'EDAD' ya es de tipo numerica (float64) pero no es de tipo int porque la columna contiene un NaN"
   ]
  },
  {
   "cell_type": "markdown",
   "metadata": {},
   "source": [
    "Inspeccionemos la forma en la que esta distribuida la frecuencia de los valores en la columna 'EDAD' ya que puede proporcionarnos algunas pistas sobre la presencia de outliers."
   ]
  },
  {
   "cell_type": "markdown",
   "metadata": {},
   "source": [
    "Veamos un panorama grafico de la columna 'EDAD'"
   ]
  },
  {
   "cell_type": "code",
   "execution_count": 129,
   "metadata": {},
   "outputs": [
    {
     "data": {
      "text/plain": [
       "Text(0.5, 0, 'Numero de victimas')"
      ]
     },
     "execution_count": 129,
     "metadata": {},
     "output_type": "execute_result"
    },
    {
     "data": {
      "image/png": "[encoded data removed]",
      "text/plain": [
       "<Figure size 432x288 with 1 Axes>"
      ]
     },
     "metadata": {
      "needs_background": "light"
     },
     "output_type": "display_data"
    }
   ],
   "source": [
    "# Create a box plot\n",
    "g = sns.boxplot(data = dfVictimas, x = 'EDAD', showmeans = True, meanline = True)\n",
    "\n",
    "# Add a title and change xlabel\n",
    "g.set_title('Diagrama de caja de cantidad victimas X hecho')\n",
    "g.set_xlabel('Numero de victimas')"
   ]
  },
  {
   "cell_type": "markdown",
   "metadata": {},
   "source": [
    "No se observan valores atipicos"
   ]
  },
  {
   "cell_type": "markdown",
   "metadata": {},
   "source": [
    "## Carga 💾\n",
    "Persistamos los datos en sendos archivos con formato CSV"
   ]
  },
  {
   "cell_type": "code",
   "execution_count": 130,
   "metadata": {},
   "outputs": [],
   "source": [
    "# Guardar el dataframe dfHechos en un archivo CSV\n",
    "dfHechos.to_csv('../datasource/dfHechos.csv', index = False)\n",
    "\n",
    "# Guardar el dataframe dfVictimas en un archivo CSV\n",
    "dfVictimas.to_csv('../datasource/dfVictimas.csv', index = False)"
   ]
  },
  {
   "cell_type": "markdown",
   "metadata": {},
   "source": [
    "Uniremmos en una sala fuente de datos los hechos y sus victimas."
   ]
  },
  {
   "cell_type": "code",
   "execution_count": 131,
   "metadata": {},
   "outputs": [],
   "source": [
    "# Unir dfHechos con dfVictimas en el nuevo dataframe dfHechosVictimas\n",
    "dfHechosVictimas = dfHechos.merge(\n",
    "    dfVictimas[['ID_HECHO', 'SEXO', 'EDAD']],\n",
    "    left_on = 'ID',\n",
    "    right_on = 'ID_HECHO',\n",
    "    how = 'inner'\n",
    ")\n",
    "\n",
    "# Eliminar la columna 'ID_HECHO'\n",
    "dfHechosVictimas.drop('ID_HECHO', axis = 1, inplace = True)"
   ]
  },
  {
   "cell_type": "code",
   "execution_count": 132,
   "metadata": {},
   "outputs": [
    {
     "data": {
      "text/html": [
       "<div>\n",
       "<style scoped>\n",
       "    .dataframe tbody tr th:only-of-type {\n",
       "        vertical-align: middle;\n",
       "    }\n",
       "\n",
       "    .dataframe tbody tr th {\n",
       "        vertical-align: top;\n",
       "    }\n",
       "\n",
       "    .dataframe thead th {\n",
       "        text-align: right;\n",
       "    }\n",
       "</style>\n",
       "<table border=\"1\" class=\"dataframe\">\n",
       "  <thead>\n",
       "    <tr style=\"text-align: right;\">\n",
       "      <th></th>\n",
       "      <th>ID</th>\n",
       "      <th>N_VICTIMAS</th>\n",
       "      <th>FECHA</th>\n",
       "      <th>SEMESTRE</th>\n",
       "      <th>ANIO</th>\n",
       "      <th>MM</th>\n",
       "      <th>DD</th>\n",
       "      <th>HORA</th>\n",
       "      <th>HH</th>\n",
       "      <th>PARTE_DIA</th>\n",
       "      <th>LUGAR_DEL_HECHO</th>\n",
       "      <th>TIPO_DE_CALLE</th>\n",
       "      <th>CALLE</th>\n",
       "      <th>CRUCE</th>\n",
       "      <th>COMUNA</th>\n",
       "      <th>PARTICIPANTES</th>\n",
       "      <th>VICTIMA</th>\n",
       "      <th>ACUSADO</th>\n",
       "    </tr>\n",
       "  </thead>\n",
       "  <tbody>\n",
       "    <tr>\n",
       "      <th>53</th>\n",
       "      <td>2016-0077</td>\n",
       "      <td>1</td>\n",
       "      <td>2016-06-13</td>\n",
       "      <td>1</td>\n",
       "      <td>2016</td>\n",
       "      <td>6</td>\n",
       "      <td>13</td>\n",
       "      <td>21:52:00</td>\n",
       "      <td>21</td>\n",
       "      <td>5</td>\n",
       "      <td>TTEG JUAN D PERON Y AVDA LEANDRO N ALEM</td>\n",
       "      <td>AVENIDA</td>\n",
       "      <td>PERON, JUAN DOMINGO, TTE. GENERAL</td>\n",
       "      <td>ALEM, LEANDRO N. AV.</td>\n",
       "      <td>1</td>\n",
       "      <td>PEATON_PASAJEROS</td>\n",
       "      <td>PEATON</td>\n",
       "      <td>PASAJEROS</td>\n",
       "    </tr>\n",
       "  </tbody>\n",
       "</table>\n",
       "</div>"
      ],
      "text/plain": [
       "           ID  N_VICTIMAS      FECHA  SEMESTRE  ANIO  MM  DD      HORA  HH  \\\n",
       "53  2016-0077           1 2016-06-13         1  2016   6  13  21:52:00  21   \n",
       "\n",
       "    PARTE_DIA                          LUGAR_DEL_HECHO TIPO_DE_CALLE  \\\n",
       "53          5  TTEG JUAN D PERON Y AVDA LEANDRO N ALEM       AVENIDA   \n",
       "\n",
       "                                CALLE                 CRUCE  COMUNA  \\\n",
       "53  PERON, JUAN DOMINGO, TTE. GENERAL  ALEM, LEANDRO N. AV.       1   \n",
       "\n",
       "       PARTICIPANTES VICTIMA    ACUSADO  \n",
       "53  PEATON_PASAJEROS  PEATON  PASAJEROS  "
      ]
     },
     "execution_count": 132,
     "metadata": {},
     "output_type": "execute_result"
    }
   ],
   "source": [
    "dfHechos[dfHechos['ID'] == '2016-0077']"
   ]
  },
  {
   "cell_type": "code",
   "execution_count": 133,
   "metadata": {},
   "outputs": [
    {
     "data": {
      "text/html": [
       "<div>\n",
       "<style scoped>\n",
       "    .dataframe tbody tr th:only-of-type {\n",
       "        vertical-align: middle;\n",
       "    }\n",
       "\n",
       "    .dataframe tbody tr th {\n",
       "        vertical-align: top;\n",
       "    }\n",
       "\n",
       "    .dataframe thead th {\n",
       "        text-align: right;\n",
       "    }\n",
       "</style>\n",
       "<table border=\"1\" class=\"dataframe\">\n",
       "  <thead>\n",
       "    <tr style=\"text-align: right;\">\n",
       "      <th></th>\n",
       "      <th>ID_HECHO</th>\n",
       "      <th>SEXO</th>\n",
       "      <th>EDAD</th>\n",
       "    </tr>\n",
       "  </thead>\n",
       "  <tbody>\n",
       "    <tr>\n",
       "      <th>55</th>\n",
       "      <td>2016-0077</td>\n",
       "      <td>FEMENINO</td>\n",
       "      <td>NaN</td>\n",
       "    </tr>\n",
       "  </tbody>\n",
       "</table>\n",
       "</div>"
      ],
      "text/plain": [
       "     ID_HECHO      SEXO  EDAD\n",
       "55  2016-0077  FEMENINO   NaN"
      ]
     },
     "execution_count": 133,
     "metadata": {},
     "output_type": "execute_result"
    }
   ],
   "source": [
    "dfVictimas[dfVictimas['ID_HECHO'] == '2016-0077']"
   ]
  },
  {
   "cell_type": "code",
   "execution_count": 134,
   "metadata": {},
   "outputs": [
    {
     "data": {
      "text/html": [
       "<div>\n",
       "<style scoped>\n",
       "    .dataframe tbody tr th:only-of-type {\n",
       "        vertical-align: middle;\n",
       "    }\n",
       "\n",
       "    .dataframe tbody tr th {\n",
       "        vertical-align: top;\n",
       "    }\n",
       "\n",
       "    .dataframe thead th {\n",
       "        text-align: right;\n",
       "    }\n",
       "</style>\n",
       "<table border=\"1\" class=\"dataframe\">\n",
       "  <thead>\n",
       "    <tr style=\"text-align: right;\">\n",
       "      <th></th>\n",
       "      <th>ID</th>\n",
       "      <th>N_VICTIMAS</th>\n",
       "      <th>FECHA</th>\n",
       "      <th>SEMESTRE</th>\n",
       "      <th>ANIO</th>\n",
       "      <th>MM</th>\n",
       "      <th>DD</th>\n",
       "      <th>HORA</th>\n",
       "      <th>HH</th>\n",
       "      <th>PARTE_DIA</th>\n",
       "      <th>LUGAR_DEL_HECHO</th>\n",
       "      <th>TIPO_DE_CALLE</th>\n",
       "      <th>CALLE</th>\n",
       "      <th>CRUCE</th>\n",
       "      <th>COMUNA</th>\n",
       "      <th>PARTICIPANTES</th>\n",
       "      <th>VICTIMA</th>\n",
       "      <th>ACUSADO</th>\n",
       "      <th>SEXO</th>\n",
       "      <th>EDAD</th>\n",
       "    </tr>\n",
       "  </thead>\n",
       "  <tbody>\n",
       "    <tr>\n",
       "      <th>53</th>\n",
       "      <td>2016-0077</td>\n",
       "      <td>1</td>\n",
       "      <td>2016-06-13</td>\n",
       "      <td>1</td>\n",
       "      <td>2016</td>\n",
       "      <td>6</td>\n",
       "      <td>13</td>\n",
       "      <td>21:52:00</td>\n",
       "      <td>21</td>\n",
       "      <td>5</td>\n",
       "      <td>TTEG JUAN D PERON Y AVDA LEANDRO N ALEM</td>\n",
       "      <td>AVENIDA</td>\n",
       "      <td>PERON, JUAN DOMINGO, TTE. GENERAL</td>\n",
       "      <td>ALEM, LEANDRO N. AV.</td>\n",
       "      <td>1</td>\n",
       "      <td>PEATON_PASAJEROS</td>\n",
       "      <td>PEATON</td>\n",
       "      <td>PASAJEROS</td>\n",
       "      <td>FEMENINO</td>\n",
       "      <td>NaN</td>\n",
       "    </tr>\n",
       "  </tbody>\n",
       "</table>\n",
       "</div>"
      ],
      "text/plain": [
       "           ID  N_VICTIMAS      FECHA  SEMESTRE  ANIO  MM  DD      HORA  HH  \\\n",
       "53  2016-0077           1 2016-06-13         1  2016   6  13  21:52:00  21   \n",
       "\n",
       "    PARTE_DIA                          LUGAR_DEL_HECHO TIPO_DE_CALLE  \\\n",
       "53          5  TTEG JUAN D PERON Y AVDA LEANDRO N ALEM       AVENIDA   \n",
       "\n",
       "                                CALLE                 CRUCE  COMUNA  \\\n",
       "53  PERON, JUAN DOMINGO, TTE. GENERAL  ALEM, LEANDRO N. AV.       1   \n",
       "\n",
       "       PARTICIPANTES VICTIMA    ACUSADO      SEXO  EDAD  \n",
       "53  PEATON_PASAJEROS  PEATON  PASAJEROS  FEMENINO   NaN  "
      ]
     },
     "execution_count": 134,
     "metadata": {},
     "output_type": "execute_result"
    }
   ],
   "source": [
    "dfHechosVictimas[dfHechosVictimas['ID'] == '2016-0077']"
   ]
  },
  {
   "cell_type": "code",
   "execution_count": 135,
   "metadata": {},
   "outputs": [],
   "source": [
    "# Guardar el dataframe dfVictimas en un archivo CSV\n",
    "dfHechosVictimas.to_csv('../datasource/dfHechosVictimas.csv', index = False)"
   ]
  }
 ],
 "metadata": {
  "kernelspec": {
   "display_name": "Python 3",
   "language": "python",
   "name": "python3"
  },
  "language_info": {
   "codemirror_mode": {
    "name": "ipython",
    "version": 3
   },
   "file_extension": ".py",
   "mimetype": "text/x-python",
   "name": "python",
   "nbconvert_exporter": "python",
   "pygments_lexer": "ipython3",
   "version": "3.10.12"
  }
 },
 "nbformat": 4,
 "nbformat_minor": 2
}
